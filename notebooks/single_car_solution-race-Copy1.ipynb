{
 "cells": [
  {
   "cell_type": "markdown",
   "id": "54efaf43",
   "metadata": {},
   "source": [
    "# waypoints"
   ]
  },
  {
   "cell_type": "markdown",
   "id": "b87f3773",
   "metadata": {},
   "source": [
    "## define agents"
   ]
  },
  {
   "cell_type": "code",
   "execution_count": 1,
   "id": "bc7f90c9",
   "metadata": {},
   "outputs": [],
   "source": [
    "class FGAgent:\n",
    "    def __init__(self, bubble_r=0.5, lookahead_degrees=[90., 270.], speed=2.0):\n",
    "        self.bubble_r = bubble_r\n",
    "        self.lookahead_degrees = lookahead_degrees\n",
    "        self.speed = speed\n",
    "        \n",
    "    def get_action(self, state):\n",
    "        ranges = state[:360]\n",
    "        #print(ranges[10], ranges[90], ranges[180], ranges[270], ranges[350])\n",
    "        beg = int(self.lookahead_degrees[0])\n",
    "        end = int(self.lookahead_degrees[1])\n",
    "\n",
    "        ranges = ranges[beg:end]\n",
    "\n",
    "        ranges = np.clip(ranges, 0, 10.0)\n",
    "        \n",
    "        nearest_point = np.min(ranges)\n",
    "        min_dist = nearest_point + self.bubble_r\n",
    "\n",
    "        ranges = np.where(ranges <= min_dist, 0.0, ranges)\n",
    "\n",
    "        gaps = []\n",
    "        if ranges[0] != 0.0:\n",
    "            gaps.append(0)\n",
    "\n",
    "        i = 0\n",
    "        while i < len(ranges):\n",
    "            if ranges[i] == 0.0:\n",
    "                if i > 0:\n",
    "                    gaps.append(i-1)\n",
    "                while i < len(ranges) and ranges[i] == 0.0:\n",
    "                    i += 1\n",
    "                if i < len(ranges):\n",
    "                    gaps.append(i)\n",
    "                continue\n",
    "\n",
    "            i += 1\n",
    "\n",
    "        if ranges[-1] != 0.0:\n",
    "            gaps.append(len(ranges) - 1)\n",
    "\n",
    "        assert len(gaps) % 2 == 0\n",
    "\n",
    "        max_gap = -1\n",
    "        gap_beg = 0\n",
    "        gap_end = 360\n",
    "\n",
    "        # find max gap\n",
    "        i = 0\n",
    "        while i < len(gaps):\n",
    "            if gaps[i+1]-gaps[i] > max_gap:\n",
    "                max_gap = gaps[i+1]-gaps[i]\n",
    "                gap_beg = gaps[i]+beg\n",
    "                gap_end = gaps[i+1]+beg\n",
    "            i += 2\n",
    "\n",
    "        mid_point = float(gap_end+gap_beg)/2.\n",
    "        angle_deg = mid_point - 180\n",
    "        angle_rad = angle_deg * (np.pi/180.)\n",
    "#         print(f\"midpoint:{mid_point}\")\n",
    "        angle = angle_rad * 1.0\n",
    "        return [angle, self.speed]\n",
    "\n"
   ]
  },
  {
   "cell_type": "code",
   "execution_count": 2,
   "id": "bfa242b3",
   "metadata": {},
   "outputs": [
    {
     "data": {
      "text/plain": [
       "<__main__.WPEnv at 0x2ab92bed90d0>"
      ]
     },
     "execution_count": 2,
     "metadata": {},
     "output_type": "execute_result"
    }
   ],
   "source": [
    "import gym\n",
    "import numpy as np\n",
    "import time\n",
    "import yaml\n",
    "import gym\n",
    "import numpy as np\n",
    "from argparse import Namespace\n",
    "\n",
    "    \n",
    "class WPEnv(gym.Env):\n",
    "    \n",
    "    def __init__(self, map_name='', begin_pos=None):\n",
    "        self.map_name = map_name\n",
    "        self.begin_pos = begin_pos\n",
    "        self.reset()\n",
    "        \n",
    "  \n",
    "    def reset(self):\n",
    "        def render_callback(env_renderer):\n",
    "            # custom extra drawing function\n",
    "            \n",
    "            e = env_renderer\n",
    "\n",
    "            # update camera to follow car\n",
    "            x = e.cars[0].vertices[::2]\n",
    "            y = e.cars[0].vertices[1::2]\n",
    "            top, bottom, left, right = max(y), min(y), min(x), max(x)\n",
    "            e.score_label.x = left\n",
    "            e.score_label.y = top - 700\n",
    "            e.left = left - 800\n",
    "            e.right = right + 800\n",
    "            e.top = top + 800\n",
    "            e.bottom = bottom - 800\n",
    "            \n",
    "        map_path = f\"../maps/{self.map_name}\"\n",
    "        \n",
    "        self.env = gym.make('f110_gym:f110-v0', map=map_path, map_ext='.png', num_agents=1)\n",
    "        self.env.add_render_callback(render_callback)\n",
    "        \n",
    "        begin_pos = [0, 0, 0] if self.begin_pos is None else self.begin_pos\n",
    "        obs, step_reward, done, info = self.env.reset(np.array([begin_pos]))\n",
    " \n",
    "        return self.to_vector_state(obs)\n",
    "    \n",
    "    def to_vector_state(self, obs):\n",
    "        \n",
    "        scanner = np.clip(obs['scans'][0], 0, 10)\n",
    "        buck = 3\n",
    "        size = 1080//buck\n",
    "        agg_scanner = np.zeros(size,)\n",
    "        for i in range(size):\n",
    "            agg_scanner[i] = np.mean(scanner[i*buck: i*buck+buck])\n",
    "                \n",
    "        state = [\n",
    "            agg_scanner,\n",
    "            np.array(obs['linear_vels_x'][0]),\n",
    "            np.array(obs['ang_vels_z'][0]),\n",
    "            (obs['poses_x'][0], obs['poses_y'][0], obs['poses_theta'][0])\n",
    "        ]\n",
    "\n",
    "        return state\n",
    "    \n",
    "        \n",
    "    def step(self, action):\n",
    "        act = np.array([action])\n",
    "        reward = 0\n",
    "        obs, step_reward, done, info = self.env.step(act)\n",
    "        \n",
    "        if obs['collisions'][0] == 1.0:\n",
    "            print(\"CRASHED\")\n",
    "            done = True\n",
    "            reward = -1\n",
    "        \n",
    "                \n",
    "        if obs['lap_counts'][0] == 1.0:\n",
    "            reward = 1.0\n",
    "            print(\"DONE\")\n",
    "            done = True\n",
    "        \n",
    "        next_state = self.to_vector_state(obs)\n",
    "        return next_state, reward, done, info\n",
    "    \n",
    "    def render(self):\n",
    "        self.env.render()\n",
    "\n",
    "WPEnv(map_name='Oschersleben1')"
   ]
  },
  {
   "cell_type": "markdown",
   "id": "33ea0f43",
   "metadata": {},
   "source": [
    "## create waypoints"
   ]
  },
  {
   "cell_type": "code",
   "execution_count": 10,
   "id": "e6b9a47b",
   "metadata": {},
   "outputs": [
    {
     "name": "stdout",
     "output_type": "stream",
     "text": [
      "DONE\n"
     ]
    }
   ],
   "source": [
    "\n",
    "done = False\n",
    "env = WPEnv(map_name='race2', begin_pos=[0.0702245, 0.3002981, 2.79787])\n",
    "obs = env.reset()\n",
    "agent = FGAgent(speed=3.0, bubble_r=0.5)\n",
    "\n",
    "positions = []\n",
    "\n",
    "while not done:\n",
    "    positions.append(obs[3])\n",
    "    th, v = agent.get_action(obs[0])\n",
    "    obs, r, done, _ = env.step([th, v])\n",
    "#     env.render()"
   ]
  },
  {
   "cell_type": "code",
   "execution_count": 11,
   "id": "4dec3012",
   "metadata": {},
   "outputs": [],
   "source": [
    "with open('../maps/race2-wp.np', 'wb') as f:\n",
    "    np.save(f, positions)"
   ]
  },
  {
   "cell_type": "markdown",
   "id": "cd9e5bc8",
   "metadata": {},
   "source": [
    "## analyze waypoints"
   ]
  },
  {
   "cell_type": "code",
   "execution_count": 25,
   "id": "c9b9651f",
   "metadata": {},
   "outputs": [
    {
     "name": "stdout",
     "output_type": "stream",
     "text": [
      "2.786963710331641\n",
      "8658\n",
      "78\n"
     ]
    }
   ],
   "source": [
    "import numpy as np\n",
    "\n",
    "with open('../maps/race1-wp.np', 'rb') as f:\n",
    "    wps = np.load(f)\n",
    "    \n",
    "dist = np.linalg.norm(wps[0][:2] - wps[117][:2])\n",
    "print(dist)\n",
    "print(len(wps))\n",
    "print(len(wps)//110)"
   ]
  },
  {
   "cell_type": "code",
   "execution_count": null,
   "id": "67b73f9f",
   "metadata": {},
   "outputs": [],
   "source": [
    "from tqdm import tqdm\n",
    "import gym\n",
    "\n",
    "map_name = 'race2'\n",
    "env = gym.make('f110_gym:f110-v0', map=f\"../maps/{map_name}\", map_ext='.png', num_agents=1)\n",
    "cnt = 0\n",
    "for wp in tqdm(wps):\n",
    "    obs, step_reward, done, info = env.reset(\n",
    "        np.array([\n",
    "            wp\n",
    "        ])\n",
    "    )\n",
    "    if min(obs['scans'][0]) < 0.4:\n",
    "        cnt += 1\n",
    "print(cnt)"
   ]
  },
  {
   "cell_type": "code",
   "execution_count": 27,
   "id": "ff700d27",
   "metadata": {},
   "outputs": [
    {
     "data": {
      "text/plain": [
       "12948"
      ]
     },
     "execution_count": 27,
     "metadata": {},
     "output_type": "execute_result"
    }
   ],
   "source": [
    "from scipy.spatial.distance import cdist\n",
    "\n",
    "x = cdist([[0,0]], wps[:,:2])\n",
    "np.argmin(x)"
   ]
  },
  {
   "cell_type": "code",
   "execution_count": 26,
   "id": "673dbb2e",
   "metadata": {},
   "outputs": [
    {
     "data": {
      "text/plain": [
       "<matplotlib.collections.PathCollection at 0x2ac886d32910>"
      ]
     },
     "execution_count": 26,
     "metadata": {},
     "output_type": "execute_result"
    },
    {
     "data": {
      "image/png": "[encoded data removed]",
      "text/plain": [
       "<Figure size 432x288 with 1 Axes>"
      ]
     },
     "metadata": {
      "needs_background": "light"
     },
     "output_type": "display_data"
    }
   ],
   "source": [
    "import matplotlib.pyplot as plt\n",
    "\n",
    "plt.scatter(wps[:len(wps)//2,0], wps[:len(wps)//2, 1], c='r')\n",
    "plt.scatter(wps[len(wps)//2:,0], wps[len(wps)//2:, 1], c='b')\n"
   ]
  },
  {
   "cell_type": "code",
   "execution_count": null,
   "id": "3c124ab1",
   "metadata": {},
   "outputs": [],
   "source": []
  },
  {
   "cell_type": "markdown",
   "id": "43fb0cb8",
   "metadata": {},
   "source": [
    "# environment"
   ]
  },
  {
   "cell_type": "code",
   "execution_count": 66,
   "id": "2d388b98",
   "metadata": {},
   "outputs": [
    {
     "data": {
      "text/plain": [
       "(142,)"
      ]
     },
     "execution_count": 66,
     "metadata": {},
     "output_type": "execute_result"
    }
   ],
   "source": [
    "import gym\n",
    "import numpy as np\n",
    "import time\n",
    "import yaml\n",
    "import gym\n",
    "import numpy as np\n",
    "from scipy.spatial.distance import cdist\n",
    "\n",
    "\n",
    "class F110RaceEnv(gym.Env):\n",
    "    def __init__(self, env_config,\n",
    "                 test_map_name=None,\n",
    "                 scan_range=10.0,\n",
    "                 max_v=15.0,\n",
    "                 n_cps = 110,\n",
    "                 cp_reward = 0.1,\n",
    "                 min_cp_dist=3.0,\n",
    "                 maps_path='../maps',\n",
    "                 models_path='../checkpoints',\n",
    "                 train_map_name='race',\n",
    "                 padding_punish=-0.05,\n",
    "                 safe_padding=0.4,\n",
    "                 laps = 1.0,\n",
    "                 min_deg=110,\n",
    "                 max_deg=250,\n",
    "                 begin_pos=[0.0702245, 0.3002981, 2.79787]\n",
    "                ):\n",
    "        \n",
    "        self.laps = laps\n",
    "        self.maps_path = maps_path\n",
    "        self.observation_space = gym.spaces.Box(low=-np.inf, high=np.inf, shape=(142,), dtype=np.float32)\n",
    "        self.max_v = max_v\n",
    "        self.test_map_name = test_map_name\n",
    "        self.min_cp_dist = min_cp_dist\n",
    "        self.n_cps = n_cps\n",
    "        self.cp_reward = cp_reward\n",
    "        self.scan_range = scan_range\n",
    "        self.safe_padding = safe_padding\n",
    "        self.map_path = None\n",
    "        self.train_map_name = train_map_name\n",
    "        self.action_space = gym.spaces.Box(low=-1, high=1, shape=(2,), dtype=np.float32)\n",
    "        self.cum_r = 0\n",
    "        self.prev_vel = [4.0] * 100\n",
    "        self.padding_punish = padding_punish\n",
    "        \n",
    "        self.total_padding_punish = 0\n",
    "        self.min_deg = min_deg\n",
    "        self.max_deg = max_deg\n",
    "        self.begin_pos = begin_pos\n",
    "        self.ang_vel_diff_hist = [0.0]*50\n",
    "        self.prev_ang_vel = 0.0\n",
    "        self.oscilation_cum_rew = 0\n",
    "        self.prev_cp_t = 0\n",
    "        \n",
    "        self.cp_prev_vel = []\n",
    "    \n",
    "    def _render_callback(self, env_renderer):\n",
    "        # custom extra drawing function\n",
    "\n",
    "        e = env_renderer\n",
    "\n",
    "        # update camera to follow car\n",
    "        x = e.cars[0].vertices[::2]\n",
    "        y = e.cars[0].vertices[1::2]\n",
    "        top, bottom, left, right = max(y), min(y), min(x), max(x)\n",
    "        e.score_label.x = left\n",
    "        e.score_label.y = top - 700\n",
    "        e.left = left - 800\n",
    "        e.right = right + 800\n",
    "        e.top = top + 800\n",
    "        e.bottom = bottom - 800\n",
    "\n",
    "    def load_train_setup(self):\n",
    "        no = np.random.choice(list(range(3,10)))\n",
    "        \n",
    "        map_path = f\"{self.maps_path}/{self.train_map_name}{no}\"\n",
    "        with open(f'{self.maps_path}/{self.train_map_name}{no}-wp.np', 'rb') as f:\n",
    "            wps = np.load(f)\n",
    "            \n",
    "        return map_path, wps\n",
    "    \n",
    "    def load_test_setup(self):\n",
    "        map_path = f\"{self.maps_path}/{self.test_map_name}\"\n",
    "        with open(f'{self.maps_path}/{self.train_map_name}1-wp.np', 'rb') as f:\n",
    "            wps = np.load(f)\n",
    "            \n",
    "        return map_path, wps\n",
    "\n",
    "    def build_checkpoints(self, wps, cp_dist):\n",
    "        \n",
    "        start = np.random.randint(0, len(wps)-1)\n",
    "        checkpoints = []\n",
    "        \n",
    "        i = 0\n",
    "        while i < len(wps):\n",
    "            if i % cp_dist == 0:\n",
    "                checkpoints.append(wps[(start+i)%len(wps)])\n",
    "            i += 1\n",
    "        return checkpoints\n",
    "    \n",
    "    def reset(self):\n",
    "        self.oscilation_cum_rew = 0\n",
    "        self.prev_vel = [3.0] * 100\n",
    "        self.total_padding_punish = 0\n",
    "        self.cum_r = 0\n",
    "        self.cp_prev_vel = [0.0,]\n",
    "        self.ang_vel_diff_hist = [0.0,]\n",
    "        self.prev_ang_vel = 0.0\n",
    "        self.prev_cp_t = 0\n",
    "        \n",
    "        if self.test_map_name is not None:\n",
    "            map_path, wps = self.load_test_setup()\n",
    "        else:\n",
    "            map_path, wps = self.load_train_setup()\n",
    "        \n",
    "#         print(map_path, len(wps))\n",
    "        self.map_path = map_path\n",
    "        self.env = gym.make('f110_gym:f110-v0', map=map_path, map_ext='.png', num_agents=1)\n",
    "        self.env.add_render_callback(self._render_callback)\n",
    "        \n",
    "        cp_dist = len(wps)//self.n_cps\n",
    "        \n",
    "        self.checkpoints = self.build_checkpoints(wps, cp_dist)\n",
    "#         print(f\"number of checkpoints: {len(self.checkpoints)}\")\n",
    "        \n",
    "        if self.test_map_name is None:\n",
    "            rotate = np.random.choice([0, np.pi])\n",
    "            if rotate != 0:\n",
    "                self.checkpoints = self.checkpoints[::-1]\n",
    "            start_idx = np.random.randint(0, len(self.checkpoints))\n",
    "            start_point = self.checkpoints[start_idx]\n",
    "            start_point[-1] += rotate\n",
    "            \n",
    "        else:\n",
    "            dists = cdist([self.begin_pos[:2]], np.array(self.checkpoints)[:,:2])\n",
    "            start_idx = np.argmin(dists)\n",
    "            start_point = self.begin_pos\n",
    "            \n",
    "        self.next_cp_idx = (start_idx + 2)%len(self.checkpoints)\n",
    "            \n",
    "        \n",
    "        obs, step_reward, done, info = self.env.reset(\n",
    "            np.array([\n",
    "                start_point\n",
    "            ])\n",
    "        )\n",
    "        \n",
    "        self.t = 0\n",
    "\n",
    "        return self.to_vector_state(obs)\n",
    "    \n",
    "    def to_vector_state(self, obs):\n",
    "        ranges = obs['scans'][0]\n",
    "        ranges = ranges[int((self.min_deg/360)*len(ranges)):int((self.max_deg/360)*len(ranges))]\n",
    "        scanner = np.clip(ranges, 0, self.scan_range)\n",
    "        \n",
    "        buck = 3\n",
    "        size = len(scanner)//buck\n",
    "        agg_scanner = np.zeros(size,)\n",
    "        for i in range(size):\n",
    "            agg_scanner[i] = np.min(scanner[i*buck: i*buck+buck])\n",
    "        \n",
    "        agg_scanner /= self.scan_range\n",
    "        state = np.concatenate([\n",
    "            agg_scanner,\n",
    "            np.array(obs['linear_vels_x'][:1])/self.max_v,\n",
    "            np.array(obs['ang_vels_z'][:1])/self.max_v,\n",
    "        ])\n",
    "        \n",
    "#         if self.test_map_name is None:\n",
    "#             noise = np.random.normal(loc=0.0, scale=0.02, size=state.shape)\n",
    "#             state = state + noise\n",
    "        \n",
    "        return state\n",
    "    \n",
    "    def checkpoint(self, position, t):\n",
    "        return_cp_idx = (self.next_cp_idx - 5)%len(self.checkpoints)\n",
    "        return_dist = np.linalg.norm(position - self.checkpoints[return_cp_idx][:2])\n",
    "        dist = np.linalg.norm(position - self.checkpoints[self.next_cp_idx][:2])\n",
    "        reward = 0\n",
    "        if dist < self.min_cp_dist:\n",
    "            time_diff = t - self.prev_cp_t\n",
    "            reward = max(self.cp_reward + (0.4 - time_diff)*0.5, self.cp_reward)\n",
    "            #reward = self.cp_reward\n",
    "            self.prev_cp_t = t\n",
    "#            print(time_diff)\n",
    "#             reward = self.cp_reward\n",
    "#            reward += (np.mean(self.cp_prev_vel)/self.max_v)\n",
    "#             reward -= np.mean(self.ang_vel_diff_hist)/(np.pi/3)\n",
    "#            reward *= self.cp_reward\n",
    "            self.next_cp_idx = (self.next_cp_idx + 1)%len(self.checkpoints)\n",
    "            self.ang_vel_diff_hist = [0,]\n",
    "            self.cp_prev_vel = [0,]\n",
    "        elif return_dist < 3.0:\n",
    "            reward = -1\n",
    "        return reward\n",
    "        \n",
    "        \n",
    "    def step(self, action):\n",
    "        reward = 0\n",
    "\n",
    "        act_v = action[0]*(self.max_v/2)+(self.max_v/2)\n",
    "        self.prev_vel.insert(0, act_v)\n",
    "        self.prev_vel.pop()\n",
    "        \n",
    "        \n",
    "        th = action[1]*np.pi/6\n",
    "        act = np.array([[th, act_v]])\n",
    "\n",
    "        obs, step_reward, done, info = self.env.step(act)\n",
    "        pose_x = obs['poses_x'][0]\n",
    "        pose_y = obs['poses_y'][0]\n",
    "        \n",
    "        next_state = self.to_vector_state(obs)\n",
    "        position = np.array([pose_x, pose_y])\n",
    "\n",
    "#         ang_vel_diff = abs(th - self.prev_ang_vel)\n",
    "#         self.prev_ang_vel = th\n",
    "#         self.ang_vel_diff_hist.append(ang_vel_diff)\n",
    "        \n",
    "#        self.cp_prev_vel.append(act_v)\n",
    "    \n",
    "        finish_time = 100\n",
    "        if obs['collisions'][0] == 1.0:\n",
    "            reward = -1\n",
    "            done = True\n",
    "            #if self.test_map_name is not None:\n",
    "            #print('CRASHED')\n",
    "            return next_state, reward, done, {'finish_time': finish_time}\n",
    "            \n",
    "        cp_reward = self.checkpoint(position, obs['lap_times'][0])\n",
    "        reward += cp_reward\n",
    "        self.t += 1\n",
    "        \n",
    "        if obs['lap_counts'][0] == self.laps:\n",
    "            t = obs['lap_times'][0]  \n",
    "#           reward = np.exp(2.5 - 0.05*t)\n",
    "            finish_time = t\n",
    "#             fairlap = 35\n",
    "#             reward = max(0.5*(fairlap - t), 0)\n",
    "            #reward = self.cp_reward\n",
    "            print(f\"agent on {self.map_path} got reward {self.cum_r} in {t}. Finish reward: {reward}. Padding punish: {self.total_padding_punish}\")\n",
    "            done = True\n",
    "        elif cp_reward == -1:\n",
    "            t = obs['lap_times'][0]\n",
    "            print(f\"agent on {self.map_path} got reward {self.cum_r} in {t}. RETURNED\")\n",
    "            done = True\n",
    "        elif np.max(self.prev_vel)<3.0:\n",
    "            t = obs['lap_times'][0]\n",
    "            print(f\"agent on {self.map_path} got reward {self.cum_r} in {t}. STOPPED\")\n",
    "            reward = -1\n",
    "            done = True\n",
    "        \n",
    "        if done and self.test_map_name is not None:\n",
    "            print('lap:', obs['lap_times'])\n",
    "        \n",
    "        if np.min(obs['scans'][0]) < self.safe_padding:\n",
    "            reward += self.padding_punish\n",
    "            self.total_padding_punish += self.padding_punish\n",
    "        \n",
    "        self.cum_r += reward\n",
    "        return next_state, reward, done, {'pos': position, 'finish_time': finish_time,\n",
    "                                          'oscilation': self.oscilation_cum_rew, 'padding': self.total_padding_punish}\n",
    "    \n",
    "    def render(self):\n",
    "        self.env.render()\n",
    "\n",
    "e = F110RaceEnv({})\n",
    "e.reset().shape"
   ]
  },
  {
   "cell_type": "markdown",
   "id": "4a7aefd2",
   "metadata": {},
   "source": [
    "# training"
   ]
  },
  {
   "cell_type": "code",
   "execution_count": 71,
   "id": "0a002a55",
   "metadata": {},
   "outputs": [
    {
     "name": "stdout",
     "output_type": "stream",
     "text": [
      "env: CUDA_VISIBLE_DEVICES=0\n"
     ]
    }
   ],
   "source": [
    "%env CUDA_VISIBLE_DEVICES=0"
   ]
  },
  {
   "cell_type": "code",
   "execution_count": 31,
   "id": "1504b8ed",
   "metadata": {
    "scrolled": true
   },
   "outputs": [
    {
     "name": "stderr",
     "output_type": "stream",
     "text": [
      "ERROR:root:Internal Python error in the inspect module.\n",
      "Below is the traceback from this internal error.\n",
      "\n"
     ]
    },
    {
     "name": "stdout",
     "output_type": "stream",
     "text": [
      "Traceback (most recent call last):\n",
      "  File \"/projects/academic/kjoseph/navid/anaconda3/envs/py38/lib/python3.8/site-packages/IPython/core/magics/execution.py\", line 1324, in time\n",
      "    exec(code, glob, local_ns)\n",
      "  File \"<timed exec>\", line 6, in <module>\n",
      "  File \"/projects/academic/kjoseph/navid/anaconda3/envs/py38/lib/python3.8/site-packages/ray/_private/client_mode_hook.py\", line 105, in wrapper\n",
      "    return func(*args, **kwargs)\n",
      "  File \"/projects/academic/kjoseph/navid/anaconda3/envs/py38/lib/python3.8/site-packages/ray/worker.py\", line 961, in init\n",
      "    connect(\n",
      "  File \"/projects/academic/kjoseph/navid/anaconda3/envs/py38/lib/python3.8/site-packages/ray/worker.py\", line 1399, in connect\n",
      "    job_id = ray.state.next_job_id()\n",
      "  File \"/projects/academic/kjoseph/navid/anaconda3/envs/py38/lib/python3.8/site-packages/ray/state.py\", line 766, in next_job_id\n",
      "    return state.next_job_id()\n",
      "  File \"/projects/academic/kjoseph/navid/anaconda3/envs/py38/lib/python3.8/site-packages/ray/state.py\", line 236, in next_job_id\n",
      "    self._check_connected()\n",
      "  File \"/projects/academic/kjoseph/navid/anaconda3/envs/py38/lib/python3.8/site-packages/ray/state.py\", line 45, in _check_connected\n",
      "    self._really_init_global_state()\n",
      "  File \"/projects/academic/kjoseph/navid/anaconda3/envs/py38/lib/python3.8/site-packages/ray/state.py\", line 77, in _really_init_global_state\n",
      "    self.global_state_accessor.connect()\n",
      "KeyboardInterrupt\n",
      "\n",
      "During handling of the above exception, another exception occurred:\n",
      "\n",
      "Traceback (most recent call last):\n",
      "  File \"/projects/academic/kjoseph/navid/anaconda3/envs/py38/lib/python3.8/site-packages/IPython/core/interactiveshell.py\", line 2064, in showtraceback\n",
      "    stb = value._render_traceback_()\n",
      "AttributeError: 'KeyboardInterrupt' object has no attribute '_render_traceback_'\n",
      "\n",
      "During handling of the above exception, another exception occurred:\n",
      "\n",
      "Traceback (most recent call last):\n",
      "  File \"/projects/academic/kjoseph/navid/anaconda3/envs/py38/lib/python3.8/site-packages/IPython/core/ultratb.py\", line 1101, in get_records\n",
      "    return _fixed_getinnerframes(etb, number_of_lines_of_context, tb_offset)\n",
      "  File \"/projects/academic/kjoseph/navid/anaconda3/envs/py38/lib/python3.8/site-packages/IPython/core/ultratb.py\", line 248, in wrapped\n",
      "    return f(*args, **kwargs)\n",
      "  File \"/projects/academic/kjoseph/navid/anaconda3/envs/py38/lib/python3.8/site-packages/IPython/core/ultratb.py\", line 281, in _fixed_getinnerframes\n",
      "    records = fix_frame_records_filenames(inspect.getinnerframes(etb, context))\n",
      "  File \"/projects/academic/kjoseph/navid/anaconda3/envs/py38/lib/python3.8/inspect.py\", line 1515, in getinnerframes\n",
      "    frameinfo = (tb.tb_frame,) + getframeinfo(tb, context)\n",
      "  File \"/projects/academic/kjoseph/navid/anaconda3/envs/py38/lib/python3.8/inspect.py\", line 1473, in getframeinfo\n",
      "    filename = getsourcefile(frame) or getfile(frame)\n",
      "  File \"/projects/academic/kjoseph/navid/anaconda3/envs/py38/lib/python3.8/inspect.py\", line 708, in getsourcefile\n",
      "    if getattr(getmodule(object, filename), '__loader__', None) is not None:\n",
      "  File \"/projects/academic/kjoseph/navid/anaconda3/envs/py38/lib/python3.8/inspect.py\", line 751, in getmodule\n",
      "    f = getabsfile(module)\n",
      "  File \"/projects/academic/kjoseph/navid/anaconda3/envs/py38/lib/python3.8/inspect.py\", line 720, in getabsfile\n",
      "    _filename = getsourcefile(object) or getfile(object)\n",
      "  File \"/projects/academic/kjoseph/navid/anaconda3/envs/py38/lib/python3.8/inspect.py\", line 705, in getsourcefile\n",
      "    if os.path.exists(filename):\n",
      "  File \"/projects/academic/kjoseph/navid/anaconda3/envs/py38/lib/python3.8/genericpath.py\", line 19, in exists\n",
      "    os.stat(path)\n",
      "KeyboardInterrupt\n"
     ]
    },
    {
     "ename": "TypeError",
     "evalue": "object of type 'NoneType' has no len()",
     "output_type": "error",
     "traceback": [
      "\u001b[0;31m---------------------------------------------------------------------------\u001b[0m",
      "\u001b[0;31mKeyboardInterrupt\u001b[0m                         Traceback (most recent call last)",
      "\u001b[0;32m/projects/academic/kjoseph/navid/anaconda3/envs/py38/lib/python3.8/site-packages/IPython/core/magics/execution.py\u001b[0m in \u001b[0;36mtime\u001b[0;34m(self, line, cell, local_ns)\u001b[0m\n\u001b[1;32m   1323\u001b[0m             \u001b[0;32mtry\u001b[0m\u001b[0;34m:\u001b[0m\u001b[0;34m\u001b[0m\u001b[0;34m\u001b[0m\u001b[0m\n\u001b[0;32m-> 1324\u001b[0;31m                 \u001b[0mexec\u001b[0m\u001b[0;34m(\u001b[0m\u001b[0mcode\u001b[0m\u001b[0;34m,\u001b[0m \u001b[0mglob\u001b[0m\u001b[0;34m,\u001b[0m \u001b[0mlocal_ns\u001b[0m\u001b[0;34m)\u001b[0m\u001b[0;34m\u001b[0m\u001b[0;34m\u001b[0m\u001b[0m\n\u001b[0m\u001b[1;32m   1325\u001b[0m                 \u001b[0mout\u001b[0m\u001b[0;34m=\u001b[0m\u001b[0;32mNone\u001b[0m\u001b[0;34m\u001b[0m\u001b[0;34m\u001b[0m\u001b[0m\n",
      "\u001b[0;32m<timed exec>\u001b[0m in \u001b[0;36m<module>\u001b[0;34m\u001b[0m\n",
      "\u001b[0;32m/projects/academic/kjoseph/navid/anaconda3/envs/py38/lib/python3.8/site-packages/ray/_private/client_mode_hook.py\u001b[0m in \u001b[0;36mwrapper\u001b[0;34m(*args, **kwargs)\u001b[0m\n\u001b[1;32m    104\u001b[0m                 \u001b[0;32mreturn\u001b[0m \u001b[0mgetattr\u001b[0m\u001b[0;34m(\u001b[0m\u001b[0mray\u001b[0m\u001b[0;34m,\u001b[0m \u001b[0mfunc\u001b[0m\u001b[0;34m.\u001b[0m\u001b[0m__name__\u001b[0m\u001b[0;34m)\u001b[0m\u001b[0;34m(\u001b[0m\u001b[0;34m*\u001b[0m\u001b[0margs\u001b[0m\u001b[0;34m,\u001b[0m \u001b[0;34m**\u001b[0m\u001b[0mkwargs\u001b[0m\u001b[0;34m)\u001b[0m\u001b[0;34m\u001b[0m\u001b[0;34m\u001b[0m\u001b[0m\n\u001b[0;32m--> 105\u001b[0;31m         \u001b[0;32mreturn\u001b[0m \u001b[0mfunc\u001b[0m\u001b[0;34m(\u001b[0m\u001b[0;34m*\u001b[0m\u001b[0margs\u001b[0m\u001b[0;34m,\u001b[0m \u001b[0;34m**\u001b[0m\u001b[0mkwargs\u001b[0m\u001b[0;34m)\u001b[0m\u001b[0;34m\u001b[0m\u001b[0;34m\u001b[0m\u001b[0m\n\u001b[0m\u001b[1;32m    106\u001b[0m \u001b[0;34m\u001b[0m\u001b[0m\n",
      "\u001b[0;32m/projects/academic/kjoseph/navid/anaconda3/envs/py38/lib/python3.8/site-packages/ray/worker.py\u001b[0m in \u001b[0;36minit\u001b[0;34m(address, num_cpus, num_gpus, resources, object_store_memory, local_mode, ignore_reinit_error, include_dashboard, dashboard_host, dashboard_port, job_config, configure_logging, logging_level, logging_format, log_to_driver, namespace, runtime_env, _enable_object_reconstruction, _redis_max_memory, _plasma_directory, _node_ip_address, _driver_object_store_memory, _memory, _redis_password, _temp_dir, _metrics_export_port, _system_config, _tracing_startup_hook, **kwargs)\u001b[0m\n\u001b[1;32m    960\u001b[0m \u001b[0;34m\u001b[0m\u001b[0m\n\u001b[0;32m--> 961\u001b[0;31m     connect(\n\u001b[0m\u001b[1;32m    962\u001b[0m         \u001b[0m_global_node\u001b[0m\u001b[0;34m,\u001b[0m\u001b[0;34m\u001b[0m\u001b[0;34m\u001b[0m\u001b[0m\n",
      "\u001b[0;32m/projects/academic/kjoseph/navid/anaconda3/envs/py38/lib/python3.8/site-packages/ray/worker.py\u001b[0m in \u001b[0;36mconnect\u001b[0;34m(node, mode, log_to_driver, worker, driver_object_store_memory, job_id, namespace, job_config, runtime_env_hash, worker_shim_pid, startup_token, ray_debugger_external)\u001b[0m\n\u001b[1;32m   1398\u001b[0m         \u001b[0;32mif\u001b[0m \u001b[0mjob_id\u001b[0m \u001b[0;32mis\u001b[0m \u001b[0;32mNone\u001b[0m\u001b[0;34m:\u001b[0m\u001b[0;34m\u001b[0m\u001b[0;34m\u001b[0m\u001b[0m\n\u001b[0;32m-> 1399\u001b[0;31m             \u001b[0mjob_id\u001b[0m \u001b[0;34m=\u001b[0m \u001b[0mray\u001b[0m\u001b[0;34m.\u001b[0m\u001b[0mstate\u001b[0m\u001b[0;34m.\u001b[0m\u001b[0mnext_job_id\u001b[0m\u001b[0;34m(\u001b[0m\u001b[0;34m)\u001b[0m\u001b[0;34m\u001b[0m\u001b[0;34m\u001b[0m\u001b[0m\n\u001b[0m\u001b[1;32m   1400\u001b[0m \u001b[0;34m\u001b[0m\u001b[0m\n",
      "\u001b[0;32m/projects/academic/kjoseph/navid/anaconda3/envs/py38/lib/python3.8/site-packages/ray/state.py\u001b[0m in \u001b[0;36mnext_job_id\u001b[0;34m()\u001b[0m\n\u001b[1;32m    765\u001b[0m     \"\"\"\n\u001b[0;32m--> 766\u001b[0;31m     \u001b[0;32mreturn\u001b[0m \u001b[0mstate\u001b[0m\u001b[0;34m.\u001b[0m\u001b[0mnext_job_id\u001b[0m\u001b[0;34m(\u001b[0m\u001b[0;34m)\u001b[0m\u001b[0;34m\u001b[0m\u001b[0;34m\u001b[0m\u001b[0m\n\u001b[0m\u001b[1;32m    767\u001b[0m \u001b[0;34m\u001b[0m\u001b[0m\n",
      "\u001b[0;32m/projects/academic/kjoseph/navid/anaconda3/envs/py38/lib/python3.8/site-packages/ray/state.py\u001b[0m in \u001b[0;36mnext_job_id\u001b[0;34m(self)\u001b[0m\n\u001b[1;32m    235\u001b[0m         \"\"\"\n\u001b[0;32m--> 236\u001b[0;31m         \u001b[0mself\u001b[0m\u001b[0;34m.\u001b[0m\u001b[0m_check_connected\u001b[0m\u001b[0;34m(\u001b[0m\u001b[0;34m)\u001b[0m\u001b[0;34m\u001b[0m\u001b[0;34m\u001b[0m\u001b[0m\n\u001b[0m\u001b[1;32m    237\u001b[0m \u001b[0;34m\u001b[0m\u001b[0m\n",
      "\u001b[0;32m/projects/academic/kjoseph/navid/anaconda3/envs/py38/lib/python3.8/site-packages/ray/state.py\u001b[0m in \u001b[0;36m_check_connected\u001b[0;34m(self)\u001b[0m\n\u001b[1;32m     44\u001b[0m                 and self.global_state_accessor is None):\n\u001b[0;32m---> 45\u001b[0;31m             \u001b[0mself\u001b[0m\u001b[0;34m.\u001b[0m\u001b[0m_really_init_global_state\u001b[0m\u001b[0;34m(\u001b[0m\u001b[0;34m)\u001b[0m\u001b[0;34m\u001b[0m\u001b[0;34m\u001b[0m\u001b[0m\n\u001b[0m\u001b[1;32m     46\u001b[0m \u001b[0;34m\u001b[0m\u001b[0m\n",
      "\u001b[0;32m/projects/academic/kjoseph/navid/anaconda3/envs/py38/lib/python3.8/site-packages/ray/state.py\u001b[0m in \u001b[0;36m_really_init_global_state\u001b[0;34m(self)\u001b[0m\n\u001b[1;32m     76\u001b[0m         \u001b[0mself\u001b[0m\u001b[0;34m.\u001b[0m\u001b[0mglobal_state_accessor\u001b[0m \u001b[0;34m=\u001b[0m \u001b[0mGlobalStateAccessor\u001b[0m\u001b[0;34m(\u001b[0m\u001b[0mself\u001b[0m\u001b[0;34m.\u001b[0m\u001b[0mgcs_options\u001b[0m\u001b[0;34m)\u001b[0m\u001b[0;34m\u001b[0m\u001b[0;34m\u001b[0m\u001b[0m\n\u001b[0;32m---> 77\u001b[0;31m         \u001b[0mself\u001b[0m\u001b[0;34m.\u001b[0m\u001b[0mglobal_state_accessor\u001b[0m\u001b[0;34m.\u001b[0m\u001b[0mconnect\u001b[0m\u001b[0;34m(\u001b[0m\u001b[0;34m)\u001b[0m\u001b[0;34m\u001b[0m\u001b[0;34m\u001b[0m\u001b[0m\n\u001b[0m\u001b[1;32m     78\u001b[0m \u001b[0;34m\u001b[0m\u001b[0m\n",
      "\u001b[0;31mKeyboardInterrupt\u001b[0m: ",
      "\nDuring handling of the above exception, another exception occurred:\n",
      "\u001b[0;31mAttributeError\u001b[0m                            Traceback (most recent call last)",
      "\u001b[0;32m/projects/academic/kjoseph/navid/anaconda3/envs/py38/lib/python3.8/site-packages/IPython/core/interactiveshell.py\u001b[0m in \u001b[0;36mshowtraceback\u001b[0;34m(self, exc_tuple, filename, tb_offset, exception_only, running_compiled_code)\u001b[0m\n\u001b[1;32m   2063\u001b[0m                         \u001b[0;31m# in the engines. This should return a list of strings.\u001b[0m\u001b[0;34m\u001b[0m\u001b[0;34m\u001b[0m\u001b[0;34m\u001b[0m\u001b[0m\n\u001b[0;32m-> 2064\u001b[0;31m                         \u001b[0mstb\u001b[0m \u001b[0;34m=\u001b[0m \u001b[0mvalue\u001b[0m\u001b[0;34m.\u001b[0m\u001b[0m_render_traceback_\u001b[0m\u001b[0;34m(\u001b[0m\u001b[0;34m)\u001b[0m\u001b[0;34m\u001b[0m\u001b[0;34m\u001b[0m\u001b[0m\n\u001b[0m\u001b[1;32m   2065\u001b[0m                     \u001b[0;32mexcept\u001b[0m \u001b[0mException\u001b[0m\u001b[0;34m:\u001b[0m\u001b[0;34m\u001b[0m\u001b[0;34m\u001b[0m\u001b[0m\n",
      "\u001b[0;31mAttributeError\u001b[0m: 'KeyboardInterrupt' object has no attribute '_render_traceback_'",
      "\nDuring handling of the above exception, another exception occurred:\n",
      "\u001b[0;31mTypeError\u001b[0m                                 Traceback (most recent call last)",
      "\u001b[0;32m/scratch/10359437/ipykernel_21939/3442399627.py\u001b[0m in \u001b[0;36m<module>\u001b[0;34m\u001b[0m\n\u001b[0;32m----> 1\u001b[0;31m \u001b[0mget_ipython\u001b[0m\u001b[0;34m(\u001b[0m\u001b[0;34m)\u001b[0m\u001b[0;34m.\u001b[0m\u001b[0mrun_cell_magic\u001b[0m\u001b[0;34m(\u001b[0m\u001b[0;34m'time'\u001b[0m\u001b[0;34m,\u001b[0m \u001b[0;34m''\u001b[0m\u001b[0;34m,\u001b[0m \u001b[0;34m'\\nimport ray\\nfrom ray.rllib.agents import ppo\\nfrom ray.rllib.agents.ppo.ppo import DEFAULT_CONFIG\\n\\nray.shutdown()\\nray.init()\\n\\n\\n\\n# with half cheeta configs\\n\\nhc_configs = {\\n    \\'framework\\': \\'torch\\',\\n    \\'num_workers\\': 15,\\n    \\'gamma\\': 0.99,\\n    \\'num_gpus\\': 1.0,\\n    \\'kl_coeff\\': 1.0,\\n    \\'clip_param\\': 0.2,\\n    \\'model\\': {\\n        \\'fcnet_hiddens\\': [300, 300],\\n    },\\n    \\'num_envs_per_worker\\': 1,\\n    \\'train_batch_size\\': 100000,\\n    \\'sgd_minibatch_size\\': 4096,\\n    \\'batch_mode\\': \\'truncate_episodes\\',\\n    \\'lr\\': .0003,\\n    \\'horizon\\': 8000\\n}\\n\\n\\ntrainer = ppo.PPOTrainer(env=F110RaceEnv, config=hc_configs)\\n# print(\"FINE TUNING\")\\n# trainer.restore(\\'../checkpoints/sim_v2.0.1/checkpoint_000151/checkpoint-151\\')\\n\\nprint(trainer.config)\\nrewards = []\\neval_rewards = []\\nbest_reward = -100\\nmodels_path = \\'../checkpoints\\'\\n\\nimport pickle\\n\\ndef evaluate(model, envs):\\n    avg_r = []\\n\\n    for env in envs:\\n        done = False\\n        obs = env.reset()\\n\\n        r = 0\\n        while not done:\\n            action = model.compute_single_action(obs, explore=False)\\n            obs, reward, done, info = env.step(action)\\n            r += reward\\n\\n        avg_r.append(r)\\n        \\n    return np.mean(avg_r)\\n\\n\\neval_envs = [\\n    F110RaceEnv({}, test_map_name=\\'race_test1\\', laps=1),\\n    F110RaceEnv({}, test_map_name=\\'race1\\', laps=1),\\n    F110RaceEnv({}, test_map_name=\\'race2\\', laps=1),\\n]\\n\\nsim_name = \\'race_v1.0.0\\'\\n\\nfor i in range(300):\\n    result = trainer.train()\\n    episode_r = result[\\'episode_reward_mean\\']\\n    print(f\"episode: {i} reward:{episode_r}\")\\n    rewards.append(episode_r)\\n    with open(f\\'{models_path}/{sim_name}_r\\', \\'wb\\') as f:\\n        pickle.dump(rewards, f)\\n        \\n    if i%5 == 0:\\n        eval_reward = evaluate(trainer, envs=eval_envs)\\n        print(f\"evaluation reward: {eval_reward}\")\\n        eval_rewards.append(eval_reward)\\n        with open(f\\'{models_path}/{sim_name}_er\\', \\'wb\\') as f:\\n            pickle.dump(eval_rewards, f)\\n        if eval_reward > best_reward:\\n            best_reward = eval_reward\\n            cp = trainer.save(f\"{models_path}/{sim_name}\")\\n            print(\"checkpoint saved at\", cp)\\n'\u001b[0m\u001b[0;34m)\u001b[0m\u001b[0;34m\u001b[0m\u001b[0;34m\u001b[0m\u001b[0m\n\u001b[0m",
      "\u001b[0;32m/projects/academic/kjoseph/navid/anaconda3/envs/py38/lib/python3.8/site-packages/IPython/core/interactiveshell.py\u001b[0m in \u001b[0;36mrun_cell_magic\u001b[0;34m(self, magic_name, line, cell)\u001b[0m\n\u001b[1;32m   2404\u001b[0m             \u001b[0;32mwith\u001b[0m \u001b[0mself\u001b[0m\u001b[0;34m.\u001b[0m\u001b[0mbuiltin_trap\u001b[0m\u001b[0;34m:\u001b[0m\u001b[0;34m\u001b[0m\u001b[0;34m\u001b[0m\u001b[0m\n\u001b[1;32m   2405\u001b[0m                 \u001b[0margs\u001b[0m \u001b[0;34m=\u001b[0m \u001b[0;34m(\u001b[0m\u001b[0mmagic_arg_s\u001b[0m\u001b[0;34m,\u001b[0m \u001b[0mcell\u001b[0m\u001b[0;34m)\u001b[0m\u001b[0;34m\u001b[0m\u001b[0;34m\u001b[0m\u001b[0m\n\u001b[0;32m-> 2406\u001b[0;31m                 \u001b[0mresult\u001b[0m \u001b[0;34m=\u001b[0m \u001b[0mfn\u001b[0m\u001b[0;34m(\u001b[0m\u001b[0;34m*\u001b[0m\u001b[0margs\u001b[0m\u001b[0;34m,\u001b[0m \u001b[0;34m**\u001b[0m\u001b[0mkwargs\u001b[0m\u001b[0;34m)\u001b[0m\u001b[0;34m\u001b[0m\u001b[0;34m\u001b[0m\u001b[0m\n\u001b[0m\u001b[1;32m   2407\u001b[0m             \u001b[0;32mreturn\u001b[0m \u001b[0mresult\u001b[0m\u001b[0;34m\u001b[0m\u001b[0;34m\u001b[0m\u001b[0m\n\u001b[1;32m   2408\u001b[0m \u001b[0;34m\u001b[0m\u001b[0m\n",
      "\u001b[0;32m/projects/academic/kjoseph/navid/anaconda3/envs/py38/lib/python3.8/site-packages/decorator.py\u001b[0m in \u001b[0;36mfun\u001b[0;34m(*args, **kw)\u001b[0m\n\u001b[1;32m    230\u001b[0m             \u001b[0;32mif\u001b[0m \u001b[0;32mnot\u001b[0m \u001b[0mkwsyntax\u001b[0m\u001b[0;34m:\u001b[0m\u001b[0;34m\u001b[0m\u001b[0;34m\u001b[0m\u001b[0m\n\u001b[1;32m    231\u001b[0m                 \u001b[0margs\u001b[0m\u001b[0;34m,\u001b[0m \u001b[0mkw\u001b[0m \u001b[0;34m=\u001b[0m \u001b[0mfix\u001b[0m\u001b[0;34m(\u001b[0m\u001b[0margs\u001b[0m\u001b[0;34m,\u001b[0m \u001b[0mkw\u001b[0m\u001b[0;34m,\u001b[0m \u001b[0msig\u001b[0m\u001b[0;34m)\u001b[0m\u001b[0;34m\u001b[0m\u001b[0;34m\u001b[0m\u001b[0m\n\u001b[0;32m--> 232\u001b[0;31m             \u001b[0;32mreturn\u001b[0m \u001b[0mcaller\u001b[0m\u001b[0;34m(\u001b[0m\u001b[0mfunc\u001b[0m\u001b[0;34m,\u001b[0m \u001b[0;34m*\u001b[0m\u001b[0;34m(\u001b[0m\u001b[0mextras\u001b[0m \u001b[0;34m+\u001b[0m \u001b[0margs\u001b[0m\u001b[0;34m)\u001b[0m\u001b[0;34m,\u001b[0m \u001b[0;34m**\u001b[0m\u001b[0mkw\u001b[0m\u001b[0;34m)\u001b[0m\u001b[0;34m\u001b[0m\u001b[0;34m\u001b[0m\u001b[0m\n\u001b[0m\u001b[1;32m    233\u001b[0m     \u001b[0mfun\u001b[0m\u001b[0;34m.\u001b[0m\u001b[0m__name__\u001b[0m \u001b[0;34m=\u001b[0m \u001b[0mfunc\u001b[0m\u001b[0;34m.\u001b[0m\u001b[0m__name__\u001b[0m\u001b[0;34m\u001b[0m\u001b[0;34m\u001b[0m\u001b[0m\n\u001b[1;32m    234\u001b[0m     \u001b[0mfun\u001b[0m\u001b[0;34m.\u001b[0m\u001b[0m__doc__\u001b[0m \u001b[0;34m=\u001b[0m \u001b[0mfunc\u001b[0m\u001b[0;34m.\u001b[0m\u001b[0m__doc__\u001b[0m\u001b[0;34m\u001b[0m\u001b[0;34m\u001b[0m\u001b[0m\n",
      "\u001b[0;32m/projects/academic/kjoseph/navid/anaconda3/envs/py38/lib/python3.8/site-packages/IPython/core/magic.py\u001b[0m in \u001b[0;36m<lambda>\u001b[0;34m(f, *a, **k)\u001b[0m\n\u001b[1;32m    185\u001b[0m     \u001b[0;31m# but it's overkill for just that one bit of state.\u001b[0m\u001b[0;34m\u001b[0m\u001b[0;34m\u001b[0m\u001b[0;34m\u001b[0m\u001b[0m\n\u001b[1;32m    186\u001b[0m     \u001b[0;32mdef\u001b[0m \u001b[0mmagic_deco\u001b[0m\u001b[0;34m(\u001b[0m\u001b[0marg\u001b[0m\u001b[0;34m)\u001b[0m\u001b[0;34m:\u001b[0m\u001b[0;34m\u001b[0m\u001b[0;34m\u001b[0m\u001b[0m\n\u001b[0;32m--> 187\u001b[0;31m         \u001b[0mcall\u001b[0m \u001b[0;34m=\u001b[0m \u001b[0;32mlambda\u001b[0m \u001b[0mf\u001b[0m\u001b[0;34m,\u001b[0m \u001b[0;34m*\u001b[0m\u001b[0ma\u001b[0m\u001b[0;34m,\u001b[0m \u001b[0;34m**\u001b[0m\u001b[0mk\u001b[0m\u001b[0;34m:\u001b[0m \u001b[0mf\u001b[0m\u001b[0;34m(\u001b[0m\u001b[0;34m*\u001b[0m\u001b[0ma\u001b[0m\u001b[0;34m,\u001b[0m \u001b[0;34m**\u001b[0m\u001b[0mk\u001b[0m\u001b[0;34m)\u001b[0m\u001b[0;34m\u001b[0m\u001b[0;34m\u001b[0m\u001b[0m\n\u001b[0m\u001b[1;32m    188\u001b[0m \u001b[0;34m\u001b[0m\u001b[0m\n\u001b[1;32m    189\u001b[0m         \u001b[0;32mif\u001b[0m \u001b[0mcallable\u001b[0m\u001b[0;34m(\u001b[0m\u001b[0marg\u001b[0m\u001b[0;34m)\u001b[0m\u001b[0;34m:\u001b[0m\u001b[0;34m\u001b[0m\u001b[0;34m\u001b[0m\u001b[0m\n",
      "\u001b[0;32m/projects/academic/kjoseph/navid/anaconda3/envs/py38/lib/python3.8/site-packages/IPython/core/magics/execution.py\u001b[0m in \u001b[0;36mtime\u001b[0;34m(self, line, cell, local_ns)\u001b[0m\n\u001b[1;32m   1329\u001b[0m                     \u001b[0mout\u001b[0m \u001b[0;34m=\u001b[0m \u001b[0meval\u001b[0m\u001b[0;34m(\u001b[0m\u001b[0mcode_2\u001b[0m\u001b[0;34m,\u001b[0m \u001b[0mglob\u001b[0m\u001b[0;34m,\u001b[0m \u001b[0mlocal_ns\u001b[0m\u001b[0;34m)\u001b[0m\u001b[0;34m\u001b[0m\u001b[0;34m\u001b[0m\u001b[0m\n\u001b[1;32m   1330\u001b[0m             \u001b[0;32mexcept\u001b[0m\u001b[0;34m:\u001b[0m\u001b[0;34m\u001b[0m\u001b[0;34m\u001b[0m\u001b[0m\n\u001b[0;32m-> 1331\u001b[0;31m                 \u001b[0mself\u001b[0m\u001b[0;34m.\u001b[0m\u001b[0mshell\u001b[0m\u001b[0;34m.\u001b[0m\u001b[0mshowtraceback\u001b[0m\u001b[0;34m(\u001b[0m\u001b[0;34m)\u001b[0m\u001b[0;34m\u001b[0m\u001b[0;34m\u001b[0m\u001b[0m\n\u001b[0m\u001b[1;32m   1332\u001b[0m                 \u001b[0;32mreturn\u001b[0m\u001b[0;34m\u001b[0m\u001b[0;34m\u001b[0m\u001b[0m\n\u001b[1;32m   1333\u001b[0m             \u001b[0mend\u001b[0m \u001b[0;34m=\u001b[0m \u001b[0mclock2\u001b[0m\u001b[0;34m(\u001b[0m\u001b[0;34m)\u001b[0m\u001b[0;34m\u001b[0m\u001b[0;34m\u001b[0m\u001b[0m\n",
      "\u001b[0;32m/projects/academic/kjoseph/navid/anaconda3/envs/py38/lib/python3.8/site-packages/IPython/core/interactiveshell.py\u001b[0m in \u001b[0;36mshowtraceback\u001b[0;34m(self, exc_tuple, filename, tb_offset, exception_only, running_compiled_code)\u001b[0m\n\u001b[1;32m   2064\u001b[0m                         \u001b[0mstb\u001b[0m \u001b[0;34m=\u001b[0m \u001b[0mvalue\u001b[0m\u001b[0;34m.\u001b[0m\u001b[0m_render_traceback_\u001b[0m\u001b[0;34m(\u001b[0m\u001b[0;34m)\u001b[0m\u001b[0;34m\u001b[0m\u001b[0;34m\u001b[0m\u001b[0m\n\u001b[1;32m   2065\u001b[0m                     \u001b[0;32mexcept\u001b[0m \u001b[0mException\u001b[0m\u001b[0;34m:\u001b[0m\u001b[0;34m\u001b[0m\u001b[0;34m\u001b[0m\u001b[0m\n\u001b[0;32m-> 2066\u001b[0;31m                         stb = self.InteractiveTB.structured_traceback(etype,\n\u001b[0m\u001b[1;32m   2067\u001b[0m                                             value, tb, tb_offset=tb_offset)\n\u001b[1;32m   2068\u001b[0m \u001b[0;34m\u001b[0m\u001b[0m\n",
      "\u001b[0;32m/projects/academic/kjoseph/navid/anaconda3/envs/py38/lib/python3.8/site-packages/IPython/core/ultratb.py\u001b[0m in \u001b[0;36mstructured_traceback\u001b[0;34m(self, etype, value, tb, tb_offset, number_of_lines_of_context)\u001b[0m\n\u001b[1;32m   1365\u001b[0m         \u001b[0;32melse\u001b[0m\u001b[0;34m:\u001b[0m\u001b[0;34m\u001b[0m\u001b[0;34m\u001b[0m\u001b[0m\n\u001b[1;32m   1366\u001b[0m             \u001b[0mself\u001b[0m\u001b[0;34m.\u001b[0m\u001b[0mtb\u001b[0m \u001b[0;34m=\u001b[0m \u001b[0mtb\u001b[0m\u001b[0;34m\u001b[0m\u001b[0;34m\u001b[0m\u001b[0m\n\u001b[0;32m-> 1367\u001b[0;31m         return FormattedTB.structured_traceback(\n\u001b[0m\u001b[1;32m   1368\u001b[0m             self, etype, value, tb, tb_offset, number_of_lines_of_context)\n\u001b[1;32m   1369\u001b[0m \u001b[0;34m\u001b[0m\u001b[0m\n",
      "\u001b[0;32m/projects/academic/kjoseph/navid/anaconda3/envs/py38/lib/python3.8/site-packages/IPython/core/ultratb.py\u001b[0m in \u001b[0;36mstructured_traceback\u001b[0;34m(self, etype, value, tb, tb_offset, number_of_lines_of_context)\u001b[0m\n\u001b[1;32m   1265\u001b[0m         \u001b[0;32mif\u001b[0m \u001b[0mmode\u001b[0m \u001b[0;32min\u001b[0m \u001b[0mself\u001b[0m\u001b[0;34m.\u001b[0m\u001b[0mverbose_modes\u001b[0m\u001b[0;34m:\u001b[0m\u001b[0;34m\u001b[0m\u001b[0;34m\u001b[0m\u001b[0m\n\u001b[1;32m   1266\u001b[0m             \u001b[0;31m# Verbose modes need a full traceback\u001b[0m\u001b[0;34m\u001b[0m\u001b[0;34m\u001b[0m\u001b[0;34m\u001b[0m\u001b[0m\n\u001b[0;32m-> 1267\u001b[0;31m             return VerboseTB.structured_traceback(\n\u001b[0m\u001b[1;32m   1268\u001b[0m                 \u001b[0mself\u001b[0m\u001b[0;34m,\u001b[0m \u001b[0metype\u001b[0m\u001b[0;34m,\u001b[0m \u001b[0mvalue\u001b[0m\u001b[0;34m,\u001b[0m \u001b[0mtb\u001b[0m\u001b[0;34m,\u001b[0m \u001b[0mtb_offset\u001b[0m\u001b[0;34m,\u001b[0m \u001b[0mnumber_of_lines_of_context\u001b[0m\u001b[0;34m\u001b[0m\u001b[0;34m\u001b[0m\u001b[0m\n\u001b[1;32m   1269\u001b[0m             )\n",
      "\u001b[0;32m/projects/academic/kjoseph/navid/anaconda3/envs/py38/lib/python3.8/site-packages/IPython/core/ultratb.py\u001b[0m in \u001b[0;36mstructured_traceback\u001b[0;34m(self, etype, evalue, etb, tb_offset, number_of_lines_of_context)\u001b[0m\n\u001b[1;32m   1122\u001b[0m         \u001b[0;34m\"\"\"Return a nice text document describing the traceback.\"\"\"\u001b[0m\u001b[0;34m\u001b[0m\u001b[0;34m\u001b[0m\u001b[0m\n\u001b[1;32m   1123\u001b[0m \u001b[0;34m\u001b[0m\u001b[0m\n\u001b[0;32m-> 1124\u001b[0;31m         formatted_exception = self.format_exception_as_a_whole(etype, evalue, etb, number_of_lines_of_context,\n\u001b[0m\u001b[1;32m   1125\u001b[0m                                                                tb_offset)\n\u001b[1;32m   1126\u001b[0m \u001b[0;34m\u001b[0m\u001b[0m\n",
      "\u001b[0;32m/projects/academic/kjoseph/navid/anaconda3/envs/py38/lib/python3.8/site-packages/IPython/core/ultratb.py\u001b[0m in \u001b[0;36mformat_exception_as_a_whole\u001b[0;34m(self, etype, evalue, etb, number_of_lines_of_context, tb_offset)\u001b[0m\n\u001b[1;32m   1080\u001b[0m \u001b[0;34m\u001b[0m\u001b[0m\n\u001b[1;32m   1081\u001b[0m \u001b[0;34m\u001b[0m\u001b[0m\n\u001b[0;32m-> 1082\u001b[0;31m         \u001b[0mlast_unique\u001b[0m\u001b[0;34m,\u001b[0m \u001b[0mrecursion_repeat\u001b[0m \u001b[0;34m=\u001b[0m \u001b[0mfind_recursion\u001b[0m\u001b[0;34m(\u001b[0m\u001b[0morig_etype\u001b[0m\u001b[0;34m,\u001b[0m \u001b[0mevalue\u001b[0m\u001b[0;34m,\u001b[0m \u001b[0mrecords\u001b[0m\u001b[0;34m)\u001b[0m\u001b[0;34m\u001b[0m\u001b[0;34m\u001b[0m\u001b[0m\n\u001b[0m\u001b[1;32m   1083\u001b[0m \u001b[0;34m\u001b[0m\u001b[0m\n\u001b[1;32m   1084\u001b[0m         \u001b[0mframes\u001b[0m \u001b[0;34m=\u001b[0m \u001b[0mself\u001b[0m\u001b[0;34m.\u001b[0m\u001b[0mformat_records\u001b[0m\u001b[0;34m(\u001b[0m\u001b[0mrecords\u001b[0m\u001b[0;34m,\u001b[0m \u001b[0mlast_unique\u001b[0m\u001b[0;34m,\u001b[0m \u001b[0mrecursion_repeat\u001b[0m\u001b[0;34m)\u001b[0m\u001b[0;34m\u001b[0m\u001b[0;34m\u001b[0m\u001b[0m\n",
      "\u001b[0;32m/projects/academic/kjoseph/navid/anaconda3/envs/py38/lib/python3.8/site-packages/IPython/core/ultratb.py\u001b[0m in \u001b[0;36mfind_recursion\u001b[0;34m(etype, value, records)\u001b[0m\n\u001b[1;32m    380\u001b[0m     \u001b[0;31m# first frame (from in to out) that looks different.\u001b[0m\u001b[0;34m\u001b[0m\u001b[0;34m\u001b[0m\u001b[0;34m\u001b[0m\u001b[0m\n\u001b[1;32m    381\u001b[0m     \u001b[0;32mif\u001b[0m \u001b[0;32mnot\u001b[0m \u001b[0mis_recursion_error\u001b[0m\u001b[0;34m(\u001b[0m\u001b[0metype\u001b[0m\u001b[0;34m,\u001b[0m \u001b[0mvalue\u001b[0m\u001b[0;34m,\u001b[0m \u001b[0mrecords\u001b[0m\u001b[0;34m)\u001b[0m\u001b[0;34m:\u001b[0m\u001b[0;34m\u001b[0m\u001b[0;34m\u001b[0m\u001b[0m\n\u001b[0;32m--> 382\u001b[0;31m         \u001b[0;32mreturn\u001b[0m \u001b[0mlen\u001b[0m\u001b[0;34m(\u001b[0m\u001b[0mrecords\u001b[0m\u001b[0;34m)\u001b[0m\u001b[0;34m,\u001b[0m \u001b[0;36m0\u001b[0m\u001b[0;34m\u001b[0m\u001b[0;34m\u001b[0m\u001b[0m\n\u001b[0m\u001b[1;32m    383\u001b[0m \u001b[0;34m\u001b[0m\u001b[0m\n\u001b[1;32m    384\u001b[0m     \u001b[0;31m# Select filename, lineno, func_name to track frames with\u001b[0m\u001b[0;34m\u001b[0m\u001b[0;34m\u001b[0m\u001b[0;34m\u001b[0m\u001b[0m\n",
      "\u001b[0;31mTypeError\u001b[0m: object of type 'NoneType' has no len()"
     ]
    }
   ],
   "source": [
    "%%time\n",
    "\n",
    "import ray\n",
    "from ray.rllib.agents import ppo\n",
    "from ray.rllib.agents.ppo.ppo import DEFAULT_CONFIG\n",
    "\n",
    "ray.shutdown()\n",
    "ray.init()\n",
    "\n",
    "\n",
    "\n",
    "# with half cheeta configs\n",
    "\n",
    "hc_configs = {\n",
    "    'framework': 'torch',\n",
    "    'num_workers': 15,\n",
    "    'gamma': 0.99,\n",
    "    'num_gpus': 1.0,\n",
    "    'kl_coeff': 1.0,\n",
    "    'clip_param': 0.2,\n",
    "    'model': {\n",
    "        'fcnet_hiddens': [300, 300],\n",
    "    },\n",
    "    'num_envs_per_worker': 1,\n",
    "    'train_batch_size': 100000,\n",
    "    'sgd_minibatch_size': 4096,\n",
    "    'batch_mode': 'truncate_episodes',\n",
    "    'lr': .0003,\n",
    "    'horizon': 8000\n",
    "}\n",
    "\n",
    "\n",
    "trainer = ppo.PPOTrainer(env=F110RaceEnv, config=hc_configs)\n",
    "# print(\"FINE TUNING\")\n",
    "# trainer.restore('../checkpoints/sim_v2.0.1/checkpoint_000151/checkpoint-151')\n",
    "\n",
    "print(trainer.config)\n",
    "rewards = []\n",
    "eval_rewards = []\n",
    "best_reward = -100\n",
    "models_path = '../checkpoints'\n",
    "\n",
    "import pickle\n",
    "\n",
    "def evaluate(model, envs):\n",
    "    avg_r = []\n",
    "\n",
    "    for env in envs:\n",
    "        done = False\n",
    "        obs = env.reset()\n",
    "\n",
    "        r = 0\n",
    "        while not done:\n",
    "            action = model.compute_single_action(obs, explore=False)\n",
    "            obs, reward, done, info = env.step(action)\n",
    "            r += reward\n",
    "\n",
    "        avg_r.append(r)\n",
    "        \n",
    "    return np.mean(avg_r)\n",
    "\n",
    "\n",
    "eval_envs = [\n",
    "    F110RaceEnv({}, test_map_name='race_test1', laps=1),\n",
    "    F110RaceEnv({}, test_map_name='race1', laps=1),\n",
    "    F110RaceEnv({}, test_map_name='race2', laps=1),\n",
    "]\n",
    "\n",
    "sim_name = 'race_v1.0.0'\n",
    "\n",
    "for i in range(300):\n",
    "    result = trainer.train()\n",
    "    episode_r = result['episode_reward_mean']\n",
    "    print(f\"episode: {i} reward:{episode_r}\")\n",
    "    rewards.append(episode_r)\n",
    "    with open(f'{models_path}/{sim_name}_r', 'wb') as f:\n",
    "        pickle.dump(rewards, f)\n",
    "        \n",
    "    if i%5 == 0:\n",
    "        eval_reward = evaluate(trainer, envs=eval_envs)\n",
    "        print(f\"evaluation reward: {eval_reward}\")\n",
    "        eval_rewards.append(eval_reward)\n",
    "        with open(f'{models_path}/{sim_name}_er', 'wb') as f:\n",
    "            pickle.dump(eval_rewards, f)\n",
    "        if eval_reward > best_reward:\n",
    "            best_reward = eval_reward\n",
    "            cp = trainer.save(f\"{models_path}/{sim_name}\")\n",
    "            print(\"checkpoint saved at\", cp)\n"
   ]
  },
  {
   "cell_type": "code",
   "execution_count": 1,
   "id": "26d0e6f5",
   "metadata": {},
   "outputs": [],
   "source": [
    "#!rm -rf ../checkpoints/sim_v2.0.0"
   ]
  },
  {
   "cell_type": "markdown",
   "id": "703f7c63",
   "metadata": {},
   "source": [
    "## evaluation"
   ]
  },
  {
   "cell_type": "code",
   "execution_count": 67,
   "id": "1e038e65",
   "metadata": {},
   "outputs": [
    {
     "name": "stderr",
     "output_type": "stream",
     "text": [
      "2022-05-07 17:12:50,304\tWARNING util.py:55 -- Install gputil for GPU system monitoring.\n",
      "2022-05-07 17:12:50,312\tINFO trainable.py:472 -- Restored on 10.64.91.46 from checkpoint: ../checkpoints/race_v2.0.4/checkpoint_000176/checkpoint-176\n",
      "2022-05-07 17:12:50,312\tINFO trainable.py:480 -- Current state after restoring: {'_iteration': 176, '_timesteps_total': 35196480, '_time_total': 7967.091194629669, '_episodes_total': 32954}\n"
     ]
    }
   ],
   "source": [
    "import ray\n",
    "from ray.rllib.agents import ppo\n",
    "from ray.rllib.agents.ppo.ppo import DEFAULT_CONFIG\n",
    "\n",
    "DEFAULT_CONFIG['framework'] = 'torch'\n",
    "DEFAULT_CONFIG['num_workers'] = 0\n",
    "DEFAULT_CONFIG['num_gpus'] = 0\n",
    "DEFAULT_CONFIG['model']['fcnet_hiddens'] = [300, 300]\n",
    "DEFAULT_CONFIG[\"evaluation_num_workers\"] = 0\n",
    "DEFAULT_CONFIG[\"evaluation_config\"][\"render_env\"] = False\n",
    "DEFAULT_CONFIG[\"evaluation_config\"][\"explore\"] = False\n",
    "DEFAULT_CONFIG['explore'] = False\n",
    "\n",
    "trainer = ppo.PPOTrainer(env=F110RaceEnv, config=DEFAULT_CONFIG)\n",
    "trainer.restore('../checkpoints/race_v2.0.4/checkpoint_000176/checkpoint-176')\n",
    "\n"
   ]
  },
  {
   "cell_type": "code",
   "execution_count": 80,
   "id": "42e69c6a",
   "metadata": {},
   "outputs": [
    {
     "name": "stdout",
     "output_type": "stream",
     "text": [
      "agent on ../maps/Oschersleben2 got reward 18.754999999999274 in 28.100000000001593. Finish reward: 0. Padding punish: -0.49999999999999994\n",
      "lap: [28.1]\n",
      "reward:18.754999999999274\n"
     ]
    }
   ],
   "source": [
    "done = False\n",
    "env = F110RaceEnv({}, test_map_name='Oschersleben2', laps=1)\n",
    "obs = env.reset()\n",
    "poses = []\n",
    "hist = []\n",
    "\n",
    "r = 0\n",
    "i = 0\n",
    "while not done:\n",
    "    i += 1\n",
    "    action = trainer.compute_single_action(obs, explore=False)\n",
    "    obs, reward, done, info = env.step(action)\n",
    "    if 'pos' in info:\n",
    "        pos = info['pos'] \n",
    "        hist.append([obs[-2], reward, done, pos])\n",
    "    \n",
    "    if i % 100 == 0 and len(pos)>0:\n",
    "        poses.append(pos)\n",
    "    r += reward\n",
    "    \n",
    "print(f'reward:{r}')\n",
    "env.close()\n",
    "\n",
    "# hist"
   ]
  },
  {
   "cell_type": "code",
   "execution_count": 72,
   "id": "5fc51286",
   "metadata": {},
   "outputs": [
    {
     "data": {
      "text/plain": [
       "<matplotlib.collections.PathCollection at 0x2b68f61ce940>"
      ]
     },
     "execution_count": 72,
     "metadata": {},
     "output_type": "execute_result"
    },
    {
     "data": {
      "image/png": "[encoded data removed]",
      "text/plain": [
       "<Figure size 432x288 with 1 Axes>"
      ]
     },
     "metadata": {
      "needs_background": "light"
     },
     "output_type": "display_data"
    }
   ],
   "source": [
    "import matplotlib.pyplot as plt\n",
    "\n",
    "wps = np.array([i[-1] for i in hist])\n",
    "plt.scatter(wps[:,0], wps[:,1], c='b')\n",
    "plt.scatter(wps[0,0], wps[0,1], c='r')"
   ]
  },
  {
   "cell_type": "markdown",
   "id": "5da9697f",
   "metadata": {},
   "source": [
    "## Exporting models"
   ]
  },
  {
   "cell_type": "code",
   "execution_count": 9,
   "id": "16d9dd94",
   "metadata": {},
   "outputs": [
    {
     "data": {
      "text/plain": [
       "Sequential(\n",
       "  (0): SlimFC(\n",
       "    (_model): Sequential(\n",
       "      (0): Linear(in_features=202, out_features=300, bias=True)\n",
       "      (1): Tanh()\n",
       "    )\n",
       "  )\n",
       "  (1): SlimFC(\n",
       "    (_model): Sequential(\n",
       "      (0): Linear(in_features=300, out_features=300, bias=True)\n",
       "      (1): Tanh()\n",
       "    )\n",
       "  )\n",
       ")"
      ]
     },
     "execution_count": 9,
     "metadata": {},
     "output_type": "execute_result"
    }
   ],
   "source": [
    "import torch\n",
    "\n",
    "policy_model = trainer.get_policy().model\n",
    "policy_model_hiddens = policy_model._hidden_layers\n",
    "policy_model_logits = policy_model._logits\n",
    "policy_model_hiddens"
   ]
  },
  {
   "cell_type": "code",
   "execution_count": 8,
   "id": "3e511f8b",
   "metadata": {},
   "outputs": [
    {
     "ename": "NameError",
     "evalue": "name 'torch' is not defined",
     "output_type": "error",
     "traceback": [
      "\u001b[0;31m---------------------------------------------------------------------------\u001b[0m",
      "\u001b[0;31mNameError\u001b[0m                                 Traceback (most recent call last)",
      "\u001b[0;32m/scratch/10359437/ipykernel_27531/1262354824.py\u001b[0m in \u001b[0;36m<module>\u001b[0;34m\u001b[0m\n\u001b[1;32m      1\u001b[0m \u001b[0mpolicy_path\u001b[0m \u001b[0;34m=\u001b[0m \u001b[0;34m'../checkpoints/phy_v2.0.1/checkpoint_000112/checkpoint-112'\u001b[0m\u001b[0;34m\u001b[0m\u001b[0;34m\u001b[0m\u001b[0m\n\u001b[0;32m----> 2\u001b[0;31m torch.save({\n\u001b[0m\u001b[1;32m      3\u001b[0m     \u001b[0;34m'h1'\u001b[0m\u001b[0;34m:\u001b[0m \u001b[0mpolicy_model_hiddens\u001b[0m\u001b[0;34m[\u001b[0m\u001b[0;36m0\u001b[0m\u001b[0;34m]\u001b[0m\u001b[0;34m.\u001b[0m\u001b[0m_model\u001b[0m\u001b[0;34m.\u001b[0m\u001b[0mstate_dict\u001b[0m\u001b[0;34m(\u001b[0m\u001b[0;34m)\u001b[0m\u001b[0;34m,\u001b[0m\u001b[0;34m\u001b[0m\u001b[0;34m\u001b[0m\u001b[0m\n\u001b[1;32m      4\u001b[0m     \u001b[0;34m'h2'\u001b[0m\u001b[0;34m:\u001b[0m \u001b[0mpolicy_model_hiddens\u001b[0m\u001b[0;34m[\u001b[0m\u001b[0;36m1\u001b[0m\u001b[0;34m]\u001b[0m\u001b[0;34m.\u001b[0m\u001b[0m_model\u001b[0m\u001b[0;34m.\u001b[0m\u001b[0mstate_dict\u001b[0m\u001b[0;34m(\u001b[0m\u001b[0;34m)\u001b[0m\u001b[0;34m,\u001b[0m\u001b[0;34m\u001b[0m\u001b[0;34m\u001b[0m\u001b[0m\n\u001b[1;32m      5\u001b[0m     \u001b[0;34m'logits'\u001b[0m\u001b[0;34m:\u001b[0m \u001b[0mpolicy_model_logits\u001b[0m\u001b[0;34m.\u001b[0m\u001b[0m_model\u001b[0m\u001b[0;34m.\u001b[0m\u001b[0mstate_dict\u001b[0m\u001b[0;34m(\u001b[0m\u001b[0;34m)\u001b[0m\u001b[0;34m\u001b[0m\u001b[0;34m\u001b[0m\u001b[0m\n",
      "\u001b[0;31mNameError\u001b[0m: name 'torch' is not defined"
     ]
    }
   ],
   "source": [
    "policy_path = '../checkpoints/phy_v2.0.1/checkpoint_000112/checkpoint-112'\n",
    "torch.save({\n",
    "    'h1': policy_model_hiddens[0]._model.state_dict(),\n",
    "    'h2': policy_model_hiddens[1]._model.state_dict(),\n",
    "    'logits': policy_model_logits._model.state_dict()\n",
    "}, policy_path)"
   ]
  },
  {
   "cell_type": "code",
   "execution_count": null,
   "id": "dd8eb264",
   "metadata": {},
   "outputs": [],
   "source": [
    "class Policy(torch.nn.Module):\n",
    "    def __init__(self):\n",
    "        super(Policy, self).__init__()\n",
    "        \n",
    "        self.h1 = torch.nn.Sequential(\n",
    "                torch.nn.Linear(in_features=182, out_features=300, bias=True),\n",
    "                torch.nn.Tanh()\n",
    "            )\n",
    "        self.h2 = torch.nn.Sequential(\n",
    "            torch.nn.Linear(in_features=300, out_features=300, bias=True),\n",
    "            torch.nn.Tanh()\n",
    "        )\n",
    "        \n",
    "        self.logits =  torch.nn.Sequential(\n",
    "            torch.nn.Linear(in_features=300, out_features=4, bias=True),\n",
    "        )\n",
    "        \n",
    "    def forward(self, x):\n",
    "        x = self.h1(x)\n",
    "        x = self.h2(x)\n",
    "        return self.logits(x)\n",
    "\n",
    "exported_policy = Policy()\n",
    "exported_policy.h1.load_state_dict(torch.load(policy_path)['h1'])\n",
    "exported_policy.h2.load_state_dict(torch.load(policy_path)['h2'])\n",
    "exported_policy.logits.load_state_dict(torch.load(policy_path)['logits'])\n",
    "exported_policy.eval()"
   ]
  },
  {
   "cell_type": "code",
   "execution_count": null,
   "id": "85e11a3f",
   "metadata": {},
   "outputs": [],
   "source": [
    "done = False\n",
    "env = F110RaceEnv({}, test_map_name='Oschersleben1')\n",
    "obs = env.reset()\n",
    "poses = []\n",
    "hist = []\n",
    "\n",
    "r = 0\n",
    "i = 0\n",
    "while not done:\n",
    "    i += 1\n",
    "    obs_t = torch.tensor(obs, dtype=torch.float32)\n",
    "    output = exported_policy(obs_t).detach().numpy()\n",
    "    v = output[0]\n",
    "    th = output[1]\n",
    "#     v = np.clip(v, -1, 1)\n",
    "#     th = np.clip(th, -1, 1)\n",
    "    obs, reward, done, info = env.step([v, th])\n",
    "#     print(obs[-2:])\n",
    "    if 'pos' in info:\n",
    "        pos = info['pos'] \n",
    "        hist.append([obs[-2], reward, done, pos])\n",
    "    \n",
    "    if i % 100 == 0 and len(pos)>0:\n",
    "        poses.append(pos)\n",
    "    r += reward\n",
    "    env.render()\n",
    "print(f'reward:{r}')\n",
    "env.close()\n",
    "\n",
    "# hist"
   ]
  },
  {
   "cell_type": "markdown",
   "id": "6f8f2783",
   "metadata": {},
   "source": [
    "## Reward plots"
   ]
  },
  {
   "cell_type": "code",
   "execution_count": 95,
   "id": "deb0e53d",
   "metadata": {},
   "outputs": [
    {
     "data": {
      "text/plain": [
       "[<matplotlib.lines.Line2D at 0x2b69092c5af0>]"
      ]
     },
     "execution_count": 95,
     "metadata": {},
     "output_type": "execute_result"
    },
    {
     "data": {
      "image/png": "[encoded data removed]",
      "text/plain": [
       "<Figure size 432x288 with 1 Axes>"
      ]
     },
     "metadata": {
      "needs_background": "light"
     },
     "output_type": "display_data"
    }
   ],
   "source": [
    "import matplotlib.pyplot as plt\n",
    "import pickle \n",
    "\n",
    "with open('../checkpoints/race_v2.0.6_r', 'rb') as f:\n",
    "    rs = pickle.load(f)\n",
    "    \n",
    "plt.plot(rs)"
   ]
  },
  {
   "cell_type": "code",
   "execution_count": 2,
   "id": "a9224554",
   "metadata": {},
   "outputs": [
    {
     "data": {
      "text/plain": [
       "[<matplotlib.lines.Line2D at 0x2b53765ca610>]"
      ]
     },
     "execution_count": 2,
     "metadata": {},
     "output_type": "execute_result"
    },
    {
     "data": {
      "image/png": "[encoded data removed]",
      "text/plain": [
       "<Figure size 432x288 with 1 Axes>"
      ]
     },
     "metadata": {
      "needs_background": "light"
     },
     "output_type": "display_data"
    }
   ],
   "source": [
    "import matplotlib.pyplot as plt\n",
    "import pickle \n",
    "\n",
    "with open('../checkpoints/race_v2.0.1_r', 'rb') as f:\n",
    "    rs = pickle.load(f)\n",
    "    \n",
    "with open('../checkpoints/race_v1.0.0_r', 'rb') as f:\n",
    "    rs2 = pickle.load(f)\n",
    "\n",
    "    \n",
    "with open('../checkpoints/race_v1.0.2_r', 'rb') as f:\n",
    "    rs3 = pickle.load(f)\n",
    "   \n",
    "    \n",
    "with open('../checkpoints/race_v1.0.3_r', 'rb') as f:\n",
    "    rs4 = pickle.load(f)\n",
    "\n",
    "with open('../checkpoints/race_v1.0.4_r', 'rb') as f:\n",
    "    rs5 = pickle.load(f)\n",
    "    \n",
    "with open('../checkpoints/race_v2.0.3_r', 'rb') as f:\n",
    "    rs6 = pickle.load(f)\n",
    "    \n",
    "plt.plot(rs)\n",
    "plt.plot(rs2)\n",
    "plt.plot(rs3)\n",
    "plt.plot(rs4)\n",
    "plt.plot(rs5)\n",
    "plt.plot(rs6)"
   ]
  },
  {
   "cell_type": "code",
   "execution_count": 5,
   "id": "e707d748",
   "metadata": {},
   "outputs": [
    {
     "data": {
      "text/plain": [
       "[<matplotlib.lines.Line2D at 0x2b53767c4490>]"
      ]
     },
     "execution_count": 5,
     "metadata": {},
     "output_type": "execute_result"
    },
    {
     "data": {
      "image/png": "[encoded data removed]",
      "text/plain": [
       "<Figure size 432x288 with 1 Axes>"
      ]
     },
     "metadata": {
      "needs_background": "light"
     },
     "output_type": "display_data"
    }
   ],
   "source": [
    "with open('../checkpoints/race_v2.0.5_r', 'rb') as f:\n",
    "    rs6 = pickle.load(f)\n",
    "    \n",
    "    \n",
    "with open('../checkpoints/race_v2.0.4_r', 'rb') as f:\n",
    "    rs5 = pickle.load(f)\n",
    "    \n",
    "with open('../checkpoints/race_v2.0.6_r', 'rb') as f:\n",
    "    rs4 = pickle.load(f)\n",
    "    \n",
    "with open('../checkpoints/race_v2.0.7_r', 'rb') as f:\n",
    "    rs3 = pickle.load(f)\n",
    "    \n",
    "with open('../checkpoints/race_v2.0.8_r', 'rb') as f:\n",
    "    rs2 = pickle.load(f)\n",
    "\n",
    "plt.plot(rs6)\n",
    "plt.plot(rs5)\n",
    "plt.plot(rs4)\n",
    "plt.plot(rs3)\n",
    "plt.plot(rs2)"
   ]
  },
  {
   "cell_type": "code",
   "execution_count": 6,
   "id": "7a75f95e",
   "metadata": {},
   "outputs": [
    {
     "data": {
      "text/plain": [
       "[<matplotlib.lines.Line2D at 0x2b537681c880>]"
      ]
     },
     "execution_count": 6,
     "metadata": {},
     "output_type": "execute_result"
    },
    {
     "data": {
      "image/png": "[encoded data removed]",
      "text/plain": [
       "<Figure size 432x288 with 1 Axes>"
      ]
     },
     "metadata": {
      "needs_background": "light"
     },
     "output_type": "display_data"
    }
   ],
   "source": [
    "import matplotlib.pyplot as plt\n",
    "import pickle \n",
    "\n",
    "with open('../checkpoints/race_v2.0.8_er', 'rb') as f:\n",
    "    rs = pickle.load(f)\n",
    "    \n",
    "plt.plot(rs)\n"
   ]
  },
  {
   "cell_type": "code",
   "execution_count": null,
   "id": "7c86bf3a",
   "metadata": {},
   "outputs": [],
   "source": []
  },
  {
   "cell_type": "code",
   "execution_count": null,
   "id": "aa5e3f03",
   "metadata": {},
   "outputs": [],
   "source": []
  }
 ],
 "metadata": {
  "kernelspec": {
   "display_name": "Python 3 (ipykernel)",
   "language": "python",
   "name": "python3"
  },
  "language_info": {
   "codemirror_mode": {
    "name": "ipython",
    "version": 3
   },
   "file_extension": ".py",
   "mimetype": "text/x-python",
   "name": "python",
   "nbconvert_exporter": "python",
   "pygments_lexer": "ipython3",
   "version": "3.8.12"
  },
  "toc": {
   "base_numbering": 1,
   "nav_menu": {},
   "number_sections": true,
   "sideBar": true,
   "skip_h1_title": false,
   "title_cell": "Table of Contents",
   "title_sidebar": "Contents",
   "toc_cell": false,
   "toc_position": {
    "height": "calc(100% - 180px)",
    "left": "10px",
    "top": "150px",
    "width": "255.672px"
   },
   "toc_section_display": true,
   "toc_window_display": true
  }
 },
 "nbformat": 4,
 "nbformat_minor": 5
}
