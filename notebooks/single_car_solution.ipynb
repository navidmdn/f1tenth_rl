{
 "cells": [
  {
   "cell_type": "markdown",
   "id": "54efaf43",
   "metadata": {},
   "source": [
    "# waypoints"
   ]
  },
  {
   "cell_type": "markdown",
   "id": "b87f3773",
   "metadata": {},
   "source": [
    "## define agents"
   ]
  },
  {
   "cell_type": "code",
   "execution_count": 10,
   "id": "bc7f90c9",
   "metadata": {},
   "outputs": [],
   "source": [
    "class FGAgent:\n",
    "    def __init__(self, bubble_r=0.5, lookahead_degrees=[90., 270.], speed=2.0):\n",
    "        self.bubble_r = bubble_r\n",
    "        self.lookahead_degrees = lookahead_degrees\n",
    "        self.speed = speed\n",
    "        \n",
    "    def get_action(self, state):\n",
    "        ranges = state[:360]\n",
    "        #print(ranges[10], ranges[90], ranges[180], ranges[270], ranges[350])\n",
    "        beg = int(self.lookahead_degrees[0])\n",
    "        end = int(self.lookahead_degrees[1])\n",
    "\n",
    "        ranges = ranges[beg:end]\n",
    "\n",
    "        ranges = np.clip(ranges, 0, 10.0)\n",
    "        \n",
    "        nearest_point = np.min(ranges)\n",
    "        min_dist = nearest_point + self.bubble_r\n",
    "\n",
    "        ranges = np.where(ranges <= min_dist, 0.0, ranges)\n",
    "\n",
    "        gaps = []\n",
    "        if ranges[0] != 0.0:\n",
    "            gaps.append(0)\n",
    "\n",
    "        i = 0\n",
    "        while i < len(ranges):\n",
    "            if ranges[i] == 0.0:\n",
    "                if i > 0:\n",
    "                    gaps.append(i-1)\n",
    "                while i < len(ranges) and ranges[i] == 0.0:\n",
    "                    i += 1\n",
    "                if i < len(ranges):\n",
    "                    gaps.append(i)\n",
    "                continue\n",
    "\n",
    "            i += 1\n",
    "\n",
    "        if ranges[-1] != 0.0:\n",
    "            gaps.append(len(ranges) - 1)\n",
    "\n",
    "        assert len(gaps) % 2 == 0\n",
    "\n",
    "        max_gap = -1\n",
    "        gap_beg = 0\n",
    "        gap_end = 360\n",
    "\n",
    "        # find max gap\n",
    "        i = 0\n",
    "        while i < len(gaps):\n",
    "            if gaps[i+1]-gaps[i] > max_gap:\n",
    "                max_gap = gaps[i+1]-gaps[i]\n",
    "                gap_beg = gaps[i]+beg\n",
    "                gap_end = gaps[i+1]+beg\n",
    "            i += 2\n",
    "\n",
    "        mid_point = float(gap_end+gap_beg)/2.\n",
    "        angle_deg = mid_point - 180\n",
    "        angle_rad = angle_deg * (np.pi/180.)\n",
    "#         print(f\"midpoint:{mid_point}\")\n",
    "        angle = angle_rad * 1.0\n",
    "        return [angle, self.speed]\n",
    "\n"
   ]
  },
  {
   "cell_type": "code",
   "execution_count": 13,
   "id": "bfa242b3",
   "metadata": {},
   "outputs": [
    {
     "data": {
      "text/plain": [
       "<__main__.WPEnv at 0x2ba4e3cb8b80>"
      ]
     },
     "execution_count": 13,
     "metadata": {},
     "output_type": "execute_result"
    }
   ],
   "source": [
    "import gym\n",
    "import numpy as np\n",
    "import time\n",
    "import yaml\n",
    "import gym\n",
    "import numpy as np\n",
    "from argparse import Namespace\n",
    "\n",
    "    \n",
    "class WPEnv(gym.Env):\n",
    "    \n",
    "    def __init__(self, map_name='', begin_pos=None):\n",
    "        self.map_name = map_name\n",
    "        self.begin_pos = begin_pos\n",
    "        self.reset()\n",
    "        \n",
    "  \n",
    "    def reset(self):\n",
    "        def render_callback(env_renderer):\n",
    "            # custom extra drawing function\n",
    "            \n",
    "            e = env_renderer\n",
    "\n",
    "            # update camera to follow car\n",
    "            x = e.cars[0].vertices[::2]\n",
    "            y = e.cars[0].vertices[1::2]\n",
    "            top, bottom, left, right = max(y), min(y), min(x), max(x)\n",
    "            e.score_label.x = left\n",
    "            e.score_label.y = top - 700\n",
    "            e.left = left - 800\n",
    "            e.right = right + 800\n",
    "            e.top = top + 800\n",
    "            e.bottom = bottom - 800\n",
    "            \n",
    "        map_path = f\"../maps/{self.map_name}\"\n",
    "        \n",
    "        self.env = gym.make('f110_gym:f110-v0', map=map_path, map_ext='.png', num_agents=1)\n",
    "        self.env.add_render_callback(render_callback)\n",
    "        \n",
    "        begin_pos = [0, 0, 0] if self.begin_pos is None else self.begin_pos\n",
    "        obs, step_reward, done, info = self.env.reset(np.array([begin_pos]))\n",
    " \n",
    "        return self.to_vector_state(obs)\n",
    "    \n",
    "    def to_vector_state(self, obs):\n",
    "        \n",
    "        scanner = np.clip(obs['scans'][0], 0, 10)\n",
    "        buck = 3\n",
    "        size = 1080//buck\n",
    "        agg_scanner = np.zeros(size,)\n",
    "        for i in range(size):\n",
    "            agg_scanner[i] = np.mean(scanner[i*buck: i*buck+buck])\n",
    "                \n",
    "        state = [\n",
    "            agg_scanner,\n",
    "            np.array(obs['linear_vels_x'][0]),\n",
    "            np.array(obs['ang_vels_z'][0]),\n",
    "            (obs['poses_x'][0], obs['poses_y'][0], obs['poses_theta'][0])\n",
    "        ]\n",
    "\n",
    "        return state\n",
    "    \n",
    "        \n",
    "    def step(self, action):\n",
    "        act = np.array([action])\n",
    "        reward = 0\n",
    "        obs, step_reward, done, info = self.env.step(act)\n",
    "        \n",
    "        if obs['collisions'][0] == 1.0:\n",
    "            print(\"CRASHED\")\n",
    "            done = True\n",
    "            reward = -1\n",
    "        \n",
    "                \n",
    "        if obs['lap_counts'][0] == 1.0:\n",
    "            reward = 1.0\n",
    "            print(\"DONE\")\n",
    "            done = True\n",
    "        \n",
    "        next_state = self.to_vector_state(obs)\n",
    "        return next_state, reward, done, info\n",
    "    \n",
    "    def render(self):\n",
    "        self.env.render()\n",
    "\n",
    "WPEnv(map_name='Oschersleben1')"
   ]
  },
  {
   "cell_type": "markdown",
   "id": "33ea0f43",
   "metadata": {},
   "source": [
    "## create waypoints"
   ]
  },
  {
   "cell_type": "code",
   "execution_count": 16,
   "id": "e6b9a47b",
   "metadata": {},
   "outputs": [
    {
     "name": "stdout",
     "output_type": "stream",
     "text": [
      "DONE\n"
     ]
    }
   ],
   "source": [
    "\n",
    "done = False\n",
    "env = WPEnv(map_name='Oschersleben2', begin_pos=[0.0702245, 0.3002981, 2.79787])\n",
    "obs = env.reset()\n",
    "agent = FGAgent(speed=2.0)\n",
    "\n",
    "positions = []\n",
    "\n",
    "while not done:\n",
    "    positions.append(obs[3])\n",
    "    th, v = agent.get_action(obs[0])\n",
    "    obs, r, done, _ = env.step([th, v])\n",
    "#     env.render()"
   ]
  },
  {
   "cell_type": "code",
   "execution_count": 21,
   "id": "4dec3012",
   "metadata": {},
   "outputs": [],
   "source": [
    "with open('../maps/Oschersleben2-wp.np', 'wb') as f:\n",
    "    np.save(f, positions)"
   ]
  },
  {
   "cell_type": "markdown",
   "id": "cd9e5bc8",
   "metadata": {},
   "source": [
    "## analyze waypoints"
   ]
  },
  {
   "cell_type": "code",
   "execution_count": 25,
   "id": "c9b9651f",
   "metadata": {},
   "outputs": [
    {
     "name": "stdout",
     "output_type": "stream",
     "text": [
      "1.8980915183812395\n",
      "12949\n",
      "117\n"
     ]
    }
   ],
   "source": [
    "import numpy as np\n",
    "\n",
    "with open('../maps/Oschersleben2-wp.np', 'rb') as f:\n",
    "    wps = np.load(f)\n",
    "    \n",
    "dist = np.linalg.norm(wps[0][:2] - wps[117][:2])\n",
    "print(dist)\n",
    "print(len(wps))\n",
    "print(len(wps)//110)"
   ]
  },
  {
   "cell_type": "code",
   "execution_count": 26,
   "id": "67b73f9f",
   "metadata": {},
   "outputs": [
    {
     "name": "stderr",
     "output_type": "stream",
     "text": [
      "100%|██████████| 12949/12949 [00:05<00:00, 2254.32it/s]\n"
     ]
    }
   ],
   "source": [
    "from tqdm import tqdm\n",
    "import gym\n",
    "\n",
    "map_name = 'Oschersleben2'\n",
    "env = gym.make('f110_gym:f110-v0', map=f\"../maps/{map_name}\", map_ext='.png', num_agents=1)\n",
    "\n",
    "for wp in tqdm(wps):\n",
    "    obs, step_reward, done, info = env.reset(\n",
    "        np.array([\n",
    "            wp\n",
    "        ])\n",
    "    )\n",
    "    if min(obs['scans'][0]) < 0.3:\n",
    "        print(min(obs['scans'][0]))\n",
    "        "
   ]
  },
  {
   "cell_type": "code",
   "execution_count": 27,
   "id": "ff700d27",
   "metadata": {},
   "outputs": [
    {
     "data": {
      "text/plain": [
       "12948"
      ]
     },
     "execution_count": 27,
     "metadata": {},
     "output_type": "execute_result"
    }
   ],
   "source": [
    "from scipy.spatial.distance import cdist\n",
    "\n",
    "x = cdist([[0,0]], wps[:,:2])\n",
    "np.argmin(x)"
   ]
  },
  {
   "cell_type": "code",
   "execution_count": 28,
   "id": "673dbb2e",
   "metadata": {},
   "outputs": [
    {
     "data": {
      "text/plain": [
       "<matplotlib.collections.PathCollection at 0x2ba4e3f25280>"
      ]
     },
     "execution_count": 28,
     "metadata": {},
     "output_type": "execute_result"
    },
    {
     "data": {
      "image/png": "[encoded data removed]",
      "text/plain": [
       "<Figure size 432x288 with 1 Axes>"
      ]
     },
     "metadata": {
      "needs_background": "light"
     },
     "output_type": "display_data"
    }
   ],
   "source": [
    "import matplotlib.pyplot as plt\n",
    "\n",
    "plt.scatter(wps[:,0], wps[:, 1])"
   ]
  },
  {
   "cell_type": "markdown",
   "id": "43fb0cb8",
   "metadata": {},
   "source": [
    "# environment"
   ]
  },
  {
   "cell_type": "code",
   "execution_count": 26,
   "id": "2d388b98",
   "metadata": {},
   "outputs": [
    {
     "data": {
      "text/plain": [
       "(202,)"
      ]
     },
     "execution_count": 26,
     "metadata": {},
     "output_type": "execute_result"
    }
   ],
   "source": [
    "import gym\n",
    "import numpy as np\n",
    "import time\n",
    "import yaml\n",
    "import gym\n",
    "import numpy as np\n",
    "from scipy.spatial.distance import cdist\n",
    "\n",
    "\n",
    "class F110RaceEnv(gym.Env):\n",
    "    def __init__(self, env_config,\n",
    "                 test_map_name=None,\n",
    "                 scan_range=10.0,\n",
    "                 max_v=15.0,\n",
    "                 n_cps = 110,\n",
    "                 cp_reward = 0.1,\n",
    "                 min_cp_dist=3.0,\n",
    "                 maps_path='../maps',\n",
    "                 models_path='../checkpoints',\n",
    "                 train_map_name='Oschersleben',\n",
    "                 safe_padding=0.3,\n",
    "                 laps = 1.0,\n",
    "                 min_deg=80,\n",
    "                 max_deg=280,\n",
    "                 begin_pos=[0.0702245, 0.3002981, 2.79787]\n",
    "                ):\n",
    "        \n",
    "        self.laps = laps\n",
    "        self.maps_path = maps_path\n",
    "        self.observation_space = gym.spaces.Box(low=-np.inf, high=np.inf, shape=(202,), dtype=np.float32)\n",
    "        self.max_v = max_v\n",
    "        self.test_map_name = test_map_name\n",
    "        self.min_cp_dist = min_cp_dist\n",
    "        self.n_cps = n_cps\n",
    "        self.cp_reward = cp_reward\n",
    "        self.scan_range = scan_range\n",
    "        self.safe_padding = safe_padding\n",
    "        self.map_path = None\n",
    "        self.train_map_name = train_map_name\n",
    "        self.action_space = gym.spaces.Box(low=-1, high=1, shape=(2,), dtype=np.float32)\n",
    "        self.cum_r = 0\n",
    "        self.prev_vel = [4.0] * 100\n",
    "        self.total_padding_punish = 0\n",
    "        self.min_deg = min_deg\n",
    "        self.max_deg = max_deg\n",
    "        self.begin_pos = begin_pos\n",
    "    \n",
    "    def _render_callback(self, env_renderer):\n",
    "        # custom extra drawing function\n",
    "\n",
    "        e = env_renderer\n",
    "\n",
    "        # update camera to follow car\n",
    "        x = e.cars[0].vertices[::2]\n",
    "        y = e.cars[0].vertices[1::2]\n",
    "        top, bottom, left, right = max(y), min(y), min(x), max(x)\n",
    "        e.score_label.x = left\n",
    "        e.score_label.y = top - 700\n",
    "        e.left = left - 800\n",
    "        e.right = right + 800\n",
    "        e.top = top + 800\n",
    "        e.bottom = bottom - 800\n",
    "  \n",
    "    def load_train_setup(self):\n",
    "        no = np.random.choice([1, 2])\n",
    "        \n",
    "        map_path = f\"{self.maps_path}/{self.train_map_name}{no}\"\n",
    "        with open(f'{self.maps_path}/Oschersleben{no}-wp.np', 'rb') as f:\n",
    "            wps = np.load(f)\n",
    "            \n",
    "        return map_path, wps\n",
    "    \n",
    "    def load_test_setup(self):\n",
    "        map_path = f\"{self.maps_path}/{self.test_map_name}\"\n",
    "        with open(f'{self.maps_path}/Oschersleben1-wp.np', 'rb') as f:\n",
    "            wps = np.load(f)\n",
    "            \n",
    "        return map_path, wps\n",
    "\n",
    "    def build_checkpoints(self, wps, cp_dist):\n",
    "        \n",
    "        start = np.random.randint(0, len(wps)-1)\n",
    "        checkpoints = []\n",
    "        \n",
    "        i = 0\n",
    "        while i < len(wps):\n",
    "            if i % cp_dist == 0:\n",
    "                checkpoints.append(wps[(start+i)%len(wps)])\n",
    "            i += 1\n",
    "        return checkpoints\n",
    "    \n",
    "    def reset(self):\n",
    "        self.prev_vel = [3.0] * 100\n",
    "        self.total_padding_punish = 0\n",
    "        self.cum_r = 0\n",
    "        \n",
    "        if self.test_map_name is not None:\n",
    "            map_path, wps = self.load_test_setup()\n",
    "        else:\n",
    "            map_path, wps = self.load_train_setup()\n",
    "        \n",
    "#         print(map_path, len(wps))\n",
    "        self.map_path = map_path\n",
    "        self.env = gym.make('f110_gym:f110-v0', map=map_path, map_ext='.png', num_agents=1)\n",
    "        self.env.add_render_callback(self._render_callback)\n",
    "        \n",
    "        cp_dist = len(wps)//self.n_cps\n",
    "        \n",
    "        self.checkpoints = self.build_checkpoints(wps, cp_dist)\n",
    "#         print(f\"number of checkpoints: {len(self.checkpoints)}\")\n",
    "        \n",
    "        if self.test_map_name is None:\n",
    "            start_idx = np.random.randint(0, len(self.checkpoints))\n",
    "            start_point = self.checkpoints[start_idx]\n",
    "            \n",
    "        else:\n",
    "            dists = cdist([self.begin_pos[:2]], np.array(self.checkpoints)[:,:2])\n",
    "            start_idx = np.argmin(dists)\n",
    "            start_point = self.begin_pos\n",
    "            \n",
    "        self.next_cp_idx = (start_idx + 2)%len(self.checkpoints)\n",
    "            \n",
    "        \n",
    "        obs, step_reward, done, info = self.env.reset(\n",
    "            np.array([\n",
    "                start_point\n",
    "            ])\n",
    "        )\n",
    "        \n",
    "        self.t = 0\n",
    "\n",
    "        return self.to_vector_state(obs)\n",
    "    \n",
    "    def to_vector_state(self, obs):\n",
    "        ranges = obs['scans'][0]\n",
    "        ranges = ranges[int((self.min_deg/360)*len(ranges)):int((self.max_deg/360)*len(ranges))]\n",
    "        scanner = np.clip(ranges, 0, self.scan_range)\n",
    "        \n",
    "        buck = 3\n",
    "        size = len(scanner)//buck\n",
    "        agg_scanner = np.zeros(size,)\n",
    "        for i in range(size):\n",
    "            agg_scanner[i] = np.min(scanner[i*buck: i*buck+buck])\n",
    "        \n",
    "        agg_scanner /= self.scan_range\n",
    "        state = np.concatenate([\n",
    "            agg_scanner,\n",
    "            np.array(obs['linear_vels_x'][:1])/self.max_v,\n",
    "            np.array(obs['ang_vels_z'][:1])/self.max_v,\n",
    "        ])\n",
    "        \n",
    "        if self.test_map_name is None:\n",
    "            noise = np.random.normal(loc=0.0, scale=0.02, size=state.shape)\n",
    "            state = state + noise\n",
    "        \n",
    "        return state\n",
    "    \n",
    "    def checkpoint(self, position):\n",
    "        return_cp_idx = (self.next_cp_idx - 5)%len(self.checkpoints)\n",
    "        return_dist = np.linalg.norm(position - self.checkpoints[return_cp_idx][:2])\n",
    "        dist = np.linalg.norm(position - self.checkpoints[self.next_cp_idx][:2])\n",
    "        reward = 0\n",
    "        if dist < self.min_cp_dist:\n",
    "            reward = self.cp_reward\n",
    "            self.next_cp_idx = (self.next_cp_idx + 1)%len(self.checkpoints)\n",
    "        elif return_dist < 3.0:\n",
    "            reward = -1\n",
    "        return reward\n",
    "        \n",
    "        \n",
    "    def step(self, action):\n",
    "        reward = 0\n",
    "\n",
    "        act_v = action[0]*(self.max_v/2)+(self.max_v/2)\n",
    "        self.prev_vel.insert(0, act_v)\n",
    "        self.prev_vel.pop()\n",
    "        \n",
    "        \n",
    "        th = action[1]*np.pi/6\n",
    "        act = np.array([[th, act_v]])\n",
    "\n",
    "        obs, step_reward, done, info = self.env.step(act)\n",
    "        pose_x = obs['poses_x'][0]\n",
    "        pose_y = obs['poses_y'][0]\n",
    "        \n",
    "        next_state = self.to_vector_state(obs)\n",
    "        position = np.array([pose_x, pose_y])\n",
    "\n",
    "        if obs['collisions'][0] == 1.0:\n",
    "            reward = -1\n",
    "            done = True\n",
    "            #if self.test_map_name is not None:\n",
    "                #print('CRASHED')\n",
    "            return next_state, reward, done, {}\n",
    "            \n",
    "        cp_reward = self.checkpoint(position)\n",
    "        reward += cp_reward\n",
    "        self.t += 1\n",
    "        \n",
    "        finish_time = 100\n",
    "        if obs['lap_counts'][0] == self.laps:\n",
    "            t = obs['lap_times'][0]  \n",
    "#             reward = np.exp(2.5 - 0.05*t)\n",
    "            finish_time = t\n",
    "            fairlap = 30\n",
    "            reward = max(0.2*(fairlap - t), self.cp_reward)\n",
    "            print(f\"agent on {self.map_path} got reward {self.cum_r} in {t}. Finish reward: {reward}. Padding punish: {self.total_padding_punish}\")\n",
    "            done = True\n",
    "        elif cp_reward == -1:\n",
    "            t = obs['lap_times'][0]\n",
    "            #print(f\"agent on {self.map_path} got reward {self.cum_r} in {t}. RETURNED\")\n",
    "            done = True\n",
    "        elif np.max(self.prev_vel)<3.0:\n",
    "            t = obs['lap_times'][0]\n",
    "            #print(f\"agent on {self.map_path} got reward {self.cum_r} in {t}. STOPPED\")\n",
    "            reward = -1\n",
    "            done = True\n",
    "        \n",
    "        if done and self.test_map_name is not None:\n",
    "            print('lap:', obs['lap_times'])\n",
    "        \n",
    "        if np.min(obs['scans'][0]) < self.safe_padding:\n",
    "            reward += -0.05\n",
    "            self.total_padding_punish -= 0.05\n",
    "        \n",
    "        self.cum_r += reward\n",
    "        return next_state, reward, done, {'pos': position, 'finish_time': finish_time}\n",
    "    \n",
    "    def render(self):\n",
    "        self.env.render()\n",
    "\n",
    "e = F110RaceEnv({})\n",
    "e.reset().shape"
   ]
  },
  {
   "cell_type": "markdown",
   "id": "4a7aefd2",
   "metadata": {},
   "source": [
    "# training"
   ]
  },
  {
   "cell_type": "code",
   "execution_count": 27,
   "id": "0a002a55",
   "metadata": {},
   "outputs": [
    {
     "name": "stdout",
     "output_type": "stream",
     "text": [
      "env: CUDA_VISIBLE_DEVICES=0\n"
     ]
    }
   ],
   "source": [
    "%env CUDA_VISIBLE_DEVICES=0"
   ]
  },
  {
   "cell_type": "code",
   "execution_count": null,
   "id": "1504b8ed",
   "metadata": {
    "scrolled": true
   },
   "outputs": [
    {
     "name": "stderr",
     "output_type": "stream",
     "text": [
      "2022-04-22 17:13:10,348\tWARNING ppo.py:223 -- `train_batch_size` (100000) cannot be achieved with your other settings (num_workers=15 num_envs_per_worker=1 rollout_fragment_length=200)! Auto-adjusting `rollout_fragment_length` to 6666.\n",
      "\u001b[2m\u001b[36m(RolloutWorker pid=17056)\u001b[0m 2022-04-22 17:13:20,427\tWARNING deprecation.py:45 -- DeprecationWarning: `rllib.env.remote_vector_env.RemoteVectorEnv` has been deprecated. Use `ray.rllib.env.remote_base_env.RemoteBaseEnv` instead. This will raise an error in the future!\n",
      "\u001b[2m\u001b[36m(RolloutWorker pid=17064)\u001b[0m 2022-04-22 17:13:20,426\tWARNING deprecation.py:45 -- DeprecationWarning: `rllib.env.remote_vector_env.RemoteVectorEnv` has been deprecated. Use `ray.rllib.env.remote_base_env.RemoteBaseEnv` instead. This will raise an error in the future!\n",
      "\u001b[2m\u001b[36m(RolloutWorker pid=17066)\u001b[0m 2022-04-22 17:13:20,452\tWARNING deprecation.py:45 -- DeprecationWarning: `rllib.env.remote_vector_env.RemoteVectorEnv` has been deprecated. Use `ray.rllib.env.remote_base_env.RemoteBaseEnv` instead. This will raise an error in the future!\n",
      "\u001b[2m\u001b[36m(RolloutWorker pid=17031)\u001b[0m 2022-04-22 17:13:20,448\tWARNING deprecation.py:45 -- DeprecationWarning: `rllib.env.remote_vector_env.RemoteVectorEnv` has been deprecated. Use `ray.rllib.env.remote_base_env.RemoteBaseEnv` instead. This will raise an error in the future!\n",
      "\u001b[2m\u001b[36m(RolloutWorker pid=17061)\u001b[0m 2022-04-22 17:13:20,446\tWARNING deprecation.py:45 -- DeprecationWarning: `rllib.env.remote_vector_env.RemoteVectorEnv` has been deprecated. Use `ray.rllib.env.remote_base_env.RemoteBaseEnv` instead. This will raise an error in the future!\n",
      "\u001b[2m\u001b[36m(RolloutWorker pid=17059)\u001b[0m 2022-04-22 17:13:20,427\tWARNING deprecation.py:45 -- DeprecationWarning: `rllib.env.remote_vector_env.RemoteVectorEnv` has been deprecated. Use `ray.rllib.env.remote_base_env.RemoteBaseEnv` instead. This will raise an error in the future!\n",
      "\u001b[2m\u001b[36m(RolloutWorker pid=17046)\u001b[0m 2022-04-22 17:13:20,429\tWARNING deprecation.py:45 -- DeprecationWarning: `rllib.env.remote_vector_env.RemoteVectorEnv` has been deprecated. Use `ray.rllib.env.remote_base_env.RemoteBaseEnv` instead. This will raise an error in the future!\n",
      "\u001b[2m\u001b[36m(RolloutWorker pid=17054)\u001b[0m 2022-04-22 17:13:20,444\tWARNING deprecation.py:45 -- DeprecationWarning: `rllib.env.remote_vector_env.RemoteVectorEnv` has been deprecated. Use `ray.rllib.env.remote_base_env.RemoteBaseEnv` instead. This will raise an error in the future!\n",
      "\u001b[2m\u001b[36m(RolloutWorker pid=17071)\u001b[0m 2022-04-22 17:13:20,427\tWARNING deprecation.py:45 -- DeprecationWarning: `rllib.env.remote_vector_env.RemoteVectorEnv` has been deprecated. Use `ray.rllib.env.remote_base_env.RemoteBaseEnv` instead. This will raise an error in the future!\n",
      "\u001b[2m\u001b[36m(RolloutWorker pid=17057)\u001b[0m 2022-04-22 17:13:20,453\tWARNING deprecation.py:45 -- DeprecationWarning: `rllib.env.remote_vector_env.RemoteVectorEnv` has been deprecated. Use `ray.rllib.env.remote_base_env.RemoteBaseEnv` instead. This will raise an error in the future!\n",
      "\u001b[2m\u001b[36m(RolloutWorker pid=17048)\u001b[0m 2022-04-22 17:13:20,444\tWARNING deprecation.py:45 -- DeprecationWarning: `rllib.env.remote_vector_env.RemoteVectorEnv` has been deprecated. Use `ray.rllib.env.remote_base_env.RemoteBaseEnv` instead. This will raise an error in the future!\n",
      "\u001b[2m\u001b[36m(RolloutWorker pid=17053)\u001b[0m 2022-04-22 17:13:20,428\tWARNING deprecation.py:45 -- DeprecationWarning: `rllib.env.remote_vector_env.RemoteVectorEnv` has been deprecated. Use `ray.rllib.env.remote_base_env.RemoteBaseEnv` instead. This will raise an error in the future!\n",
      "\u001b[2m\u001b[36m(RolloutWorker pid=17060)\u001b[0m 2022-04-22 17:13:20,431\tWARNING deprecation.py:45 -- DeprecationWarning: `rllib.env.remote_vector_env.RemoteVectorEnv` has been deprecated. Use `ray.rllib.env.remote_base_env.RemoteBaseEnv` instead. This will raise an error in the future!\n",
      "\u001b[2m\u001b[36m(RolloutWorker pid=17067)\u001b[0m 2022-04-22 17:13:20,438\tWARNING deprecation.py:45 -- DeprecationWarning: `rllib.env.remote_vector_env.RemoteVectorEnv` has been deprecated. Use `ray.rllib.env.remote_base_env.RemoteBaseEnv` instead. This will raise an error in the future!\n",
      "\u001b[2m\u001b[36m(RolloutWorker pid=17052)\u001b[0m 2022-04-22 17:13:20,429\tWARNING deprecation.py:45 -- DeprecationWarning: `rllib.env.remote_vector_env.RemoteVectorEnv` has been deprecated. Use `ray.rllib.env.remote_base_env.RemoteBaseEnv` instead. This will raise an error in the future!\n",
      "2022-04-22 17:13:20,508\tINFO trainable.py:125 -- Trainable.setup took 10.162 seconds. If your trainable is slow to initialize, consider setting reuse_actors=True to reduce actor creation overheads.\n",
      "2022-04-22 17:13:20,509\tWARNING util.py:55 -- Install gputil for GPU system monitoring.\n"
     ]
    },
    {
     "name": "stdout",
     "output_type": "stream",
     "text": [
      "{'num_workers': 15, 'num_envs_per_worker': 1, 'create_env_on_driver': False, 'rollout_fragment_length': 6666, 'batch_mode': 'truncate_episodes', 'gamma': 0.99, 'lr': 0.0003, 'train_batch_size': 100000, 'model': {'_use_default_native_models': False, '_disable_preprocessor_api': False, 'fcnet_hiddens': [300, 300], 'fcnet_activation': 'tanh', 'conv_filters': None, 'conv_activation': 'relu', 'post_fcnet_hiddens': [], 'post_fcnet_activation': 'relu', 'free_log_std': False, 'no_final_linear': False, 'vf_share_layers': False, 'use_lstm': False, 'max_seq_len': 20, 'lstm_cell_size': 256, 'lstm_use_prev_action': False, 'lstm_use_prev_reward': False, '_time_major': False, 'use_attention': False, 'attention_num_transformer_units': 1, 'attention_dim': 64, 'attention_num_heads': 1, 'attention_head_dim': 32, 'attention_memory_inference': 50, 'attention_memory_training': 50, 'attention_position_wise_mlp_dim': 32, 'attention_init_gru_gate_bias': 2.0, 'attention_use_n_prev_actions': 0, 'attention_use_n_prev_rewards': 0, 'framestack': True, 'dim': 84, 'grayscale': False, 'zero_mean': True, 'custom_model': None, 'custom_model_config': {}, 'custom_action_dist': None, 'custom_preprocessor': None, 'lstm_use_prev_action_reward': -1}, 'optimizer': {}, 'horizon': None, 'soft_horizon': False, 'no_done_at_end': False, 'env': 'F110RaceEnv', 'observation_space': None, 'action_space': None, 'env_config': {}, 'remote_worker_envs': False, 'remote_env_batch_wait_ms': 0, 'env_task_fn': None, 'render_env': False, 'record_env': False, 'clip_rewards': None, 'normalize_actions': True, 'clip_actions': False, 'preprocessor_pref': 'deepmind', 'log_level': 'WARN', 'callbacks': <class 'ray.rllib.agents.callbacks.DefaultCallbacks'>, 'ignore_worker_failures': False, 'log_sys_usage': True, 'fake_sampler': False, 'framework': 'torch', 'eager_tracing': False, 'eager_max_retraces': 20, 'explore': False, 'exploration_config': {'type': 'StochasticSampling'}, 'evaluation_interval': None, 'evaluation_duration': 10, 'evaluation_duration_unit': 'episodes', 'evaluation_parallel_to_training': False, 'in_evaluation': False, 'evaluation_config': {'num_workers': 15, 'num_envs_per_worker': 1, 'create_env_on_driver': False, 'rollout_fragment_length': 6666, 'batch_mode': 'truncate_episodes', 'gamma': 0.99, 'lr': 0.0003, 'train_batch_size': 100000, 'model': {'_use_default_native_models': False, '_disable_preprocessor_api': False, 'fcnet_hiddens': [300, 300], 'fcnet_activation': 'tanh', 'conv_filters': None, 'conv_activation': 'relu', 'post_fcnet_hiddens': [], 'post_fcnet_activation': 'relu', 'free_log_std': False, 'no_final_linear': False, 'vf_share_layers': False, 'use_lstm': False, 'max_seq_len': 20, 'lstm_cell_size': 256, 'lstm_use_prev_action': False, 'lstm_use_prev_reward': False, '_time_major': False, 'use_attention': False, 'attention_num_transformer_units': 1, 'attention_dim': 64, 'attention_num_heads': 1, 'attention_head_dim': 32, 'attention_memory_inference': 50, 'attention_memory_training': 50, 'attention_position_wise_mlp_dim': 32, 'attention_init_gru_gate_bias': 2.0, 'attention_use_n_prev_actions': 0, 'attention_use_n_prev_rewards': 0, 'framestack': True, 'dim': 84, 'grayscale': False, 'zero_mean': True, 'custom_model': None, 'custom_model_config': {}, 'custom_action_dist': None, 'custom_preprocessor': None, 'lstm_use_prev_action_reward': -1}, 'optimizer': {}, 'horizon': None, 'soft_horizon': False, 'no_done_at_end': False, 'env': 'F110RaceEnv', 'observation_space': None, 'action_space': None, 'env_config': {}, 'remote_worker_envs': False, 'remote_env_batch_wait_ms': 0, 'env_task_fn': None, 'render_env': False, 'record_env': False, 'clip_rewards': None, 'normalize_actions': True, 'clip_actions': False, 'preprocessor_pref': 'deepmind', 'log_level': 'WARN', 'callbacks': <class 'ray.rllib.agents.callbacks.DefaultCallbacks'>, 'ignore_worker_failures': False, 'log_sys_usage': True, 'fake_sampler': False, 'framework': 'torch', 'eager_tracing': False, 'eager_max_retraces': 20, 'explore': False, 'exploration_config': {'type': 'StochasticSampling'}, 'evaluation_interval': None, 'evaluation_duration': 10, 'evaluation_duration_unit': 'episodes', 'evaluation_parallel_to_training': False, 'in_evaluation': False, 'evaluation_config': {'render_env': False, 'explore': False}, 'evaluation_num_workers': 0, 'custom_eval_function': None, 'always_attach_evaluation_results': False, 'sample_async': False, 'sample_collector': <class 'ray.rllib.evaluation.collectors.simple_list_collector.SimpleListCollector'>, 'observation_filter': 'NoFilter', 'synchronize_filters': True, 'tf_session_args': {'intra_op_parallelism_threads': 2, 'inter_op_parallelism_threads': 2, 'gpu_options': {'allow_growth': True}, 'log_device_placement': False, 'device_count': {'CPU': 1}, 'allow_soft_placement': True}, 'local_tf_session_args': {'intra_op_parallelism_threads': 8, 'inter_op_parallelism_threads': 8}, 'compress_observations': False, 'metrics_episode_collection_timeout_s': 180, 'metrics_num_episodes_for_smoothing': 100, 'min_time_s_per_reporting': None, 'min_train_timesteps_per_reporting': None, 'min_sample_timesteps_per_reporting': 0, 'seed': None, 'extra_python_environs_for_driver': {}, 'extra_python_environs_for_worker': {}, 'num_gpus': 1.0, '_fake_gpus': False, 'num_cpus_per_worker': 1, 'num_gpus_per_worker': 0, 'custom_resources_per_worker': {}, 'num_cpus_for_driver': 1, 'placement_strategy': 'PACK', 'input': 'sampler', 'input_config': {}, 'actions_in_input_normalized': False, 'input_evaluation': ['is', 'wis'], 'postprocess_inputs': False, 'shuffle_buffer_size': 0, 'output': None, 'output_compress_columns': ['obs', 'new_obs'], 'output_max_file_size': 67108864, 'multiagent': {'policies': {'default_policy': PolicySpec(policy_class=<class 'ray.rllib.agents.ppo.ppo_torch_policy.PPOTorchPolicy'>, observation_space=None, action_space=None, config={})}, 'policy_map_capacity': 100, 'policy_map_cache': None, 'policy_mapping_fn': None, 'policies_to_train': None, 'observation_fn': None, 'replay_mode': 'independent', 'count_steps_by': 'env_steps'}, 'logger_config': None, '_tf_policy_handles_more_than_one_loss': False, '_disable_preprocessor_api': False, '_disable_action_flattening': False, '_disable_execution_plan_api': False, 'simple_optimizer': False, 'monitor': -1, 'evaluation_num_episodes': -1, 'metrics_smoothing_episodes': -1, 'timesteps_per_iteration': 0, 'min_iter_time_s': -1, 'collect_metrics_timeout': -1, 'use_critic': True, 'use_gae': True, 'lambda': 1.0, 'kl_coeff': 1.0, 'sgd_minibatch_size': 4096, 'shuffle_sequences': True, 'num_sgd_iter': 30, 'lr_schedule': None, 'vf_loss_coeff': 1.0, 'entropy_coeff': 0.0, 'entropy_coeff_schedule': None, 'clip_param': 0.2, 'vf_clip_param': 10.0, 'grad_clip': None, 'kl_target': 0.01, 'vf_share_layers': -1}, 'evaluation_num_workers': 0, 'custom_eval_function': None, 'always_attach_evaluation_results': False, 'sample_async': False, 'sample_collector': <class 'ray.rllib.evaluation.collectors.simple_list_collector.SimpleListCollector'>, 'observation_filter': 'NoFilter', 'synchronize_filters': True, 'tf_session_args': {'intra_op_parallelism_threads': 2, 'inter_op_parallelism_threads': 2, 'gpu_options': {'allow_growth': True}, 'log_device_placement': False, 'device_count': {'CPU': 1}, 'allow_soft_placement': True}, 'local_tf_session_args': {'intra_op_parallelism_threads': 8, 'inter_op_parallelism_threads': 8}, 'compress_observations': False, 'metrics_episode_collection_timeout_s': 180, 'metrics_num_episodes_for_smoothing': 100, 'min_time_s_per_reporting': None, 'min_train_timesteps_per_reporting': None, 'min_sample_timesteps_per_reporting': 0, 'seed': None, 'extra_python_environs_for_driver': {}, 'extra_python_environs_for_worker': {}, 'num_gpus': 1.0, '_fake_gpus': False, 'num_cpus_per_worker': 1, 'num_gpus_per_worker': 0, 'custom_resources_per_worker': {}, 'num_cpus_for_driver': 1, 'placement_strategy': 'PACK', 'input': 'sampler', 'input_config': {}, 'actions_in_input_normalized': False, 'input_evaluation': ['is', 'wis'], 'postprocess_inputs': False, 'shuffle_buffer_size': 0, 'output': None, 'output_compress_columns': ['obs', 'new_obs'], 'output_max_file_size': 67108864, 'multiagent': {'policies': {'default_policy': PolicySpec(policy_class=<class 'ray.rllib.agents.ppo.ppo_torch_policy.PPOTorchPolicy'>, observation_space=None, action_space=None, config={})}, 'policy_map_capacity': 100, 'policy_map_cache': None, 'policy_mapping_fn': None, 'policies_to_train': None, 'observation_fn': None, 'replay_mode': 'independent', 'count_steps_by': 'env_steps'}, 'logger_config': None, '_tf_policy_handles_more_than_one_loss': False, '_disable_preprocessor_api': False, '_disable_action_flattening': False, '_disable_execution_plan_api': False, 'simple_optimizer': False, 'monitor': -1, 'evaluation_num_episodes': -1, 'metrics_smoothing_episodes': -1, 'timesteps_per_iteration': 0, 'min_iter_time_s': -1, 'collect_metrics_timeout': -1, 'use_critic': True, 'use_gae': True, 'lambda': 1.0, 'kl_coeff': 1.0, 'sgd_minibatch_size': 4096, 'shuffle_sequences': True, 'num_sgd_iter': 30, 'lr_schedule': None, 'vf_loss_coeff': 1.0, 'entropy_coeff': 0.0, 'entropy_coeff_schedule': None, 'clip_param': 0.2, 'vf_clip_param': 10.0, 'grad_clip': None, 'kl_target': 0.01, 'vf_share_layers': -1}\n"
     ]
    },
    {
     "name": "stdout",
     "output_type": "stream",
     "text": [
      "episode: 0 reward:-0.9625464190981431\n",
      "evaluation reward: -1.25\n",
      "checkpoint saved at ../checkpoints/sim_v1.0.6/checkpoint_000001/checkpoint-1\n",
      "episode: 1 reward:-0.9620893914916532\n",
      "episode: 2 reward:-0.9629728289824188\n",
      "episode: 3 reward:-0.9552617230098145\n",
      "episode: 4 reward:-0.9596256684491978\n",
      "episode: 5 reward:-0.9666401695813459\n",
      "evaluation reward: -1.27\n",
      "episode: 6 reward:-0.9545921123716908\n",
      "episode: 7 reward:-0.9633390705679862\n",
      "episode: 8 reward:-0.9209396390790291\n",
      "episode: 9 reward:-0.9175768989328311\n",
      "episode: 10 reward:-0.931980906921241\n",
      "evaluation reward: -1.29\n",
      "episode: 11 reward:-0.9641756988020536\n",
      "episode: 12 reward:-0.9297707736389684\n",
      "episode: 13 reward:-0.9423661971830984\n",
      "episode: 14 reward:-0.932349570200573\n"
     ]
    }
   ],
   "source": [
    "%%time\n",
    "\n",
    "import ray\n",
    "from ray.rllib.agents import ppo\n",
    "from ray.rllib.agents.ppo.ppo import DEFAULT_CONFIG\n",
    "\n",
    "ray.shutdown()\n",
    "ray.init()\n",
    "\n",
    "\n",
    "\n",
    "# with half cheeta configs\n",
    "\n",
    "hc_configs = {\n",
    "    'framework': 'torch',\n",
    "    'num_workers': 15,\n",
    "    'gamma': 0.99,\n",
    "    'num_gpus': 1.0,\n",
    "    'kl_coeff': 1.0,\n",
    "    'clip_param': 0.2,\n",
    "    'model': {\n",
    "        'fcnet_hiddens': [300, 300],\n",
    "    },\n",
    "    'num_envs_per_worker': 1,\n",
    "    'train_batch_size': 100000,\n",
    "    'sgd_minibatch_size': 4096,\n",
    "    'batch_mode': 'truncate_episodes',\n",
    "    'lr': .0003,\n",
    "}\n",
    "\n",
    "\n",
    "trainer = ppo.PPOTrainer(env=F110RaceEnv, config=hc_configs)\n",
    "# print(\"FINE TUNING\")\n",
    "#trainer.restore('../checkpoints/sim_v1.0.2/checkpoint_000071/checkpoint-71')\n",
    "\n",
    "print(trainer.config)\n",
    "rewards = []\n",
    "eval_rewards = []\n",
    "best_reward = -100\n",
    "models_path = '../checkpoints'\n",
    "\n",
    "import pickle\n",
    "\n",
    "def evaluate(model, env, k=5):\n",
    "    avg_r = []\n",
    "    for _ in range(k):\n",
    "        done = False\n",
    "        obs = env.reset()\n",
    "\n",
    "        r = 0\n",
    "        while not done:\n",
    "            action = model.compute_single_action(obs, explore=False)\n",
    "            obs, reward, done, info = env.step(action)\n",
    "            r += reward\n",
    "\n",
    "        avg_r.append(r)\n",
    "        \n",
    "    return np.mean(avg_r)\n",
    "\n",
    "\n",
    "eval_env = F110RaceEnv({}, test_map_name='Oschersleben_test2', laps=1)\n",
    "sim_name = 'sim_v1.0.6'\n",
    "\n",
    "for i in range(300):\n",
    "    result = trainer.train()\n",
    "    episode_r = result['episode_reward_mean']\n",
    "    print(f\"episode: {i} reward:{episode_r}\")\n",
    "    rewards.append(episode_r)\n",
    "    with open(f'{models_path}/{sim_name}_r', 'wb') as f:\n",
    "        pickle.dump(rewards, f)\n",
    "        \n",
    "    if i%5 == 0:\n",
    "        eval_reward = evaluate(trainer, env=eval_env)\n",
    "        print(f\"evaluation reward: {eval_reward}\")\n",
    "        eval_rewards.append(eval_reward)\n",
    "        with open(f'{models_path}/{sim_name}_er', 'wb') as f:\n",
    "            pickle.dump(eval_rewards, f)\n",
    "        if eval_reward > best_reward:\n",
    "            best_reward = episode_r\n",
    "            cp = trainer.save(f\"{models_path}/{sim_name}\")\n",
    "            print(\"checkpoint saved at\", cp)\n"
   ]
  },
  {
   "cell_type": "code",
   "execution_count": 9,
   "id": "26d0e6f5",
   "metadata": {},
   "outputs": [],
   "source": [
    "#!rm -rf ../checkpoints/sim_v1.0.5/"
   ]
  },
  {
   "cell_type": "markdown",
   "id": "703f7c63",
   "metadata": {},
   "source": [
    "## evaluation"
   ]
  },
  {
   "cell_type": "code",
   "execution_count": 24,
   "id": "1e038e65",
   "metadata": {},
   "outputs": [
    {
     "name": "stderr",
     "output_type": "stream",
     "text": [
      "2022-04-22 16:51:01,022\tWARNING util.py:55 -- Install gputil for GPU system monitoring.\n",
      "2022-04-22 16:51:01,031\tINFO trainable.py:472 -- Restored on 10.64.91.46 from checkpoint: ../checkpoints/sim_v1.0.5/checkpoint_000201/checkpoint-201\n",
      "2022-04-22 16:51:01,031\tINFO trainable.py:480 -- Current state after restoring: {'_iteration': 201, '_timesteps_total': 40195980, '_time_total': 9633.977035045624, '_episodes_total': 25581}\n"
     ]
    }
   ],
   "source": [
    "import ray\n",
    "from ray.rllib.agents import ppo\n",
    "from ray.rllib.agents.ppo.ppo import DEFAULT_CONFIG\n",
    "\n",
    "DEFAULT_CONFIG['framework'] = 'torch'\n",
    "DEFAULT_CONFIG['num_workers'] = 0\n",
    "DEFAULT_CONFIG['num_gpus'] = 0\n",
    "DEFAULT_CONFIG['model']['fcnet_hiddens'] = [300, 300]\n",
    "DEFAULT_CONFIG[\"evaluation_num_workers\"] = 0\n",
    "DEFAULT_CONFIG[\"evaluation_config\"][\"render_env\"] = False\n",
    "DEFAULT_CONFIG[\"evaluation_config\"][\"explore\"] = False\n",
    "DEFAULT_CONFIG['explore'] = False\n",
    "\n",
    "trainer = ppo.PPOTrainer(env=F110RaceEnv, config=DEFAULT_CONFIG)\n",
    "trainer.restore('../checkpoints/sim_v1.0.5/checkpoint_000201/checkpoint-201')\n",
    "\n"
   ]
  },
  {
   "cell_type": "code",
   "execution_count": null,
   "id": "caaac414",
   "metadata": {},
   "outputs": [],
   "source": []
  },
  {
   "cell_type": "code",
   "execution_count": 25,
   "id": "42e69c6a",
   "metadata": {},
   "outputs": [
    {
     "name": "stdout",
     "output_type": "stream",
     "text": [
      "agent on ../maps/Oschersleben_test2 got reward 11.099999999999977 in 27.19000000000145. Finish reward: 0.5619999999997098. Padding punish: 0\n",
      "lap: [27.19]\n",
      "reward:11.661999999999686\n"
     ]
    }
   ],
   "source": [
    "done = False\n",
    "env = F110RaceEnv({}, test_map_name='Oschersleben_test2', laps=1)\n",
    "obs = env.reset()\n",
    "poses = []\n",
    "hist = []\n",
    "\n",
    "r = 0\n",
    "i = 0\n",
    "while not done:\n",
    "    i += 1\n",
    "    action = trainer.compute_single_action(obs, explore=False)\n",
    "    obs, reward, done, info = env.step(action)\n",
    "    if 'pos' in info:\n",
    "        pos = info['pos'] \n",
    "        hist.append([obs[-2], reward, done, pos])\n",
    "    \n",
    "    if i % 100 == 0 and len(pos)>0:\n",
    "        poses.append(pos)\n",
    "    r += reward\n",
    "    \n",
    "print(f'reward:{r}')\n",
    "env.close()\n",
    "\n",
    "# hist"
   ]
  },
  {
   "cell_type": "code",
   "execution_count": 5,
   "id": "5fc51286",
   "metadata": {},
   "outputs": [
    {
     "data": {
      "text/plain": [
       "<matplotlib.collections.PathCollection at 0x2ada620a6850>"
      ]
     },
     "execution_count": 5,
     "metadata": {},
     "output_type": "execute_result"
    },
    {
     "data": {
      "image/png": "[encoded data removed]",
      "text/plain": [
       "<Figure size 432x288 with 1 Axes>"
      ]
     },
     "metadata": {
      "needs_background": "light"
     },
     "output_type": "display_data"
    }
   ],
   "source": [
    "import matplotlib.pyplot as plt\n",
    "\n",
    "wps = np.array([i[-1] for i in hist])\n",
    "plt.scatter(wps[:,0], wps[:,1], c='b')\n",
    "plt.scatter(wps[0,0], wps[0,1], c='r')"
   ]
  },
  {
   "cell_type": "markdown",
   "id": "5da9697f",
   "metadata": {},
   "source": [
    "## Exporting models"
   ]
  },
  {
   "cell_type": "code",
   "execution_count": null,
   "id": "16d9dd94",
   "metadata": {},
   "outputs": [],
   "source": [
    "import torch\n",
    "\n",
    "policy_model = trainer.get_policy().model\n",
    "policy_model_hiddens = policy_model._hidden_layers\n",
    "policy_model_logits = policy_model._logits\n",
    "policy_model_hiddens"
   ]
  },
  {
   "cell_type": "code",
   "execution_count": null,
   "id": "3e511f8b",
   "metadata": {},
   "outputs": [],
   "source": [
    "policy_path = '../checkpoints/phy_1.0.5.pt'\n",
    "torch.save({\n",
    "    'h1': policy_model_hiddens[0]._model.state_dict(),\n",
    "    'h2': policy_model_hiddens[1]._model.state_dict(),\n",
    "    'logits': policy_model_logits._model.state_dict()\n",
    "}, policy_path)"
   ]
  },
  {
   "cell_type": "code",
   "execution_count": null,
   "id": "dd8eb264",
   "metadata": {},
   "outputs": [],
   "source": [
    "class Policy(torch.nn.Module):\n",
    "    def __init__(self):\n",
    "        super(Policy, self).__init__()\n",
    "        \n",
    "        self.h1 = torch.nn.Sequential(\n",
    "                torch.nn.Linear(in_features=182, out_features=300, bias=True),\n",
    "                torch.nn.Tanh()\n",
    "            )\n",
    "        self.h2 = torch.nn.Sequential(\n",
    "            torch.nn.Linear(in_features=300, out_features=300, bias=True),\n",
    "            torch.nn.Tanh()\n",
    "        )\n",
    "        \n",
    "        self.logits =  torch.nn.Sequential(\n",
    "            torch.nn.Linear(in_features=300, out_features=4, bias=True),\n",
    "        )\n",
    "        \n",
    "    def forward(self, x):\n",
    "        x = self.h1(x)\n",
    "        x = self.h2(x)\n",
    "        return self.logits(x)\n",
    "\n",
    "exported_policy = Policy()\n",
    "exported_policy.h1.load_state_dict(torch.load(policy_path)['h1'])\n",
    "exported_policy.h2.load_state_dict(torch.load(policy_path)['h2'])\n",
    "exported_policy.logits.load_state_dict(torch.load(policy_path)['logits'])\n",
    "exported_policy.eval()"
   ]
  },
  {
   "cell_type": "code",
   "execution_count": null,
   "id": "85e11a3f",
   "metadata": {},
   "outputs": [],
   "source": [
    "done = False\n",
    "env = F110RaceEnv({}, test_map_name='Oschersleben1')\n",
    "obs = env.reset()\n",
    "poses = []\n",
    "hist = []\n",
    "\n",
    "r = 0\n",
    "i = 0\n",
    "while not done:\n",
    "    i += 1\n",
    "    obs_t = torch.tensor(obs, dtype=torch.float32)\n",
    "    output = exported_policy(obs_t).detach().numpy()\n",
    "    v = output[0]\n",
    "    th = output[1]\n",
    "#     v = np.clip(v, -1, 1)\n",
    "#     th = np.clip(th, -1, 1)\n",
    "    obs, reward, done, info = env.step([v, th])\n",
    "#     print(obs[-2:])\n",
    "    if 'pos' in info:\n",
    "        pos = info['pos'] \n",
    "        hist.append([obs[-2], reward, done, pos])\n",
    "    \n",
    "    if i % 100 == 0 and len(pos)>0:\n",
    "        poses.append(pos)\n",
    "    r += reward\n",
    "    env.render()\n",
    "print(f'reward:{r}')\n",
    "env.close()\n",
    "\n",
    "# hist"
   ]
  },
  {
   "cell_type": "markdown",
   "id": "6f8f2783",
   "metadata": {},
   "source": [
    "## Reward plots"
   ]
  },
  {
   "cell_type": "code",
   "execution_count": 44,
   "id": "deb0e53d",
   "metadata": {},
   "outputs": [
    {
     "data": {
      "text/plain": [
       "[<matplotlib.lines.Line2D at 0x2af547ecaa90>]"
      ]
     },
     "execution_count": 44,
     "metadata": {},
     "output_type": "execute_result"
    },
    {
     "data": {
      "image/png": "[encoded data removed]",
      "text/plain": [
       "<Figure size 432x288 with 1 Axes>"
      ]
     },
     "metadata": {
      "needs_background": "light"
     },
     "output_type": "display_data"
    }
   ],
   "source": [
    "import matplotlib.pyplot as plt\n",
    "import pickle \n",
    "\n",
    "with open('checkpoints/race_v1.1_r', 'rb') as f:\n",
    "    rs = pickle.load(f)\n",
    "    \n",
    "plt.plot(rs)"
   ]
  },
  {
   "cell_type": "code",
   "execution_count": 7,
   "id": "a9224554",
   "metadata": {},
   "outputs": [
    {
     "data": {
      "text/plain": [
       "[<matplotlib.lines.Line2D at 0x2b62dd6bd970>]"
      ]
     },
     "execution_count": 7,
     "metadata": {},
     "output_type": "execute_result"
    },
    {
     "data": {
      "image/png": "[encoded data removed]",
      "text/plain": [
       "<Figure size 432x288 with 1 Axes>"
      ]
     },
     "metadata": {
      "needs_background": "light"
     },
     "output_type": "display_data"
    }
   ],
   "source": [
    "import matplotlib.pyplot as plt\n",
    "import pickle \n",
    "\n",
    "with open('../checkpoints/phy_v1.0.6_r', 'rb') as f:\n",
    "    rs = pickle.load(f)\n",
    "    \n",
    "plt.plot(rs)"
   ]
  },
  {
   "cell_type": "code",
   "execution_count": 6,
   "id": "7a75f95e",
   "metadata": {},
   "outputs": [
    {
     "data": {
      "text/plain": [
       "[<matplotlib.lines.Line2D at 0x2b62dd65a370>]"
      ]
     },
     "execution_count": 6,
     "metadata": {},
     "output_type": "execute_result"
    },
    {
     "data": {
      "image/png": "[encoded data removed]",
      "text/plain": [
       "<Figure size 432x288 with 1 Axes>"
      ]
     },
     "metadata": {
      "needs_background": "light"
     },
     "output_type": "display_data"
    }
   ],
   "source": [
    "import matplotlib.pyplot as plt\n",
    "import pickle \n",
    "\n",
    "with open('../checkpoints/phy_v1.0.6_er', 'rb') as f:\n",
    "    rs = pickle.load(f)\n",
    "    \n",
    "plt.plot(rs)\n"
   ]
  },
  {
   "cell_type": "code",
   "execution_count": null,
   "id": "7c86bf3a",
   "metadata": {},
   "outputs": [],
   "source": []
  }
 ],
 "metadata": {
  "kernelspec": {
   "display_name": "Python 3 (ipykernel)",
   "language": "python",
   "name": "python3"
  },
  "language_info": {
   "codemirror_mode": {
    "name": "ipython",
    "version": 3
   },
   "file_extension": ".py",
   "mimetype": "text/x-python",
   "name": "python",
   "nbconvert_exporter": "python",
   "pygments_lexer": "ipython3",
   "version": "3.8.12"
  },
  "toc": {
   "base_numbering": 1,
   "nav_menu": {},
   "number_sections": true,
   "sideBar": true,
   "skip_h1_title": false,
   "title_cell": "Table of Contents",
   "title_sidebar": "Contents",
   "toc_cell": false,
   "toc_position": {
    "height": "calc(100% - 180px)",
    "left": "10px",
    "top": "150px",
    "width": "255.675px"
   },
   "toc_section_display": true,
   "toc_window_display": true
  }
 },
 "nbformat": 4,
 "nbformat_minor": 5
}
