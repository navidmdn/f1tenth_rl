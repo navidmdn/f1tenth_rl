{
 "cells": [
  {
   "cell_type": "markdown",
   "id": "54efaf43",
   "metadata": {
    "heading_collapsed": true
   },
   "source": [
    "# waypoints"
   ]
  },
  {
   "cell_type": "markdown",
   "id": "b87f3773",
   "metadata": {
    "hidden": true
   },
   "source": [
    "## define agents"
   ]
  },
  {
   "cell_type": "code",
   "execution_count": 24,
   "id": "bc7f90c9",
   "metadata": {
    "hidden": true
   },
   "outputs": [],
   "source": [
    "class FGAgent:\n",
    "    def __init__(self, bubble_r=0.5, lookahead_degrees=[90., 270.], speed=2.0):\n",
    "        self.bubble_r = bubble_r\n",
    "        self.lookahead_degrees = lookahead_degrees\n",
    "        self.speed = speed\n",
    "        \n",
    "    def get_action(self, state):\n",
    "        ranges = state[:360]\n",
    "        #print(ranges[10], ranges[90], ranges[180], ranges[270], ranges[350])\n",
    "        beg = int(self.lookahead_degrees[0])\n",
    "        end = int(self.lookahead_degrees[1])\n",
    "\n",
    "        ranges = ranges[beg:end]\n",
    "\n",
    "        ranges = np.clip(ranges, 0, 10.0)\n",
    "        \n",
    "        nearest_point = np.min(ranges)\n",
    "        min_dist = nearest_point + self.bubble_r\n",
    "\n",
    "        ranges = np.where(ranges <= min_dist, 0.0, ranges)\n",
    "\n",
    "        gaps = []\n",
    "        if ranges[0] != 0.0:\n",
    "            gaps.append(0)\n",
    "\n",
    "        i = 0\n",
    "        while i < len(ranges):\n",
    "            if ranges[i] == 0.0:\n",
    "                if i > 0:\n",
    "                    gaps.append(i-1)\n",
    "                while i < len(ranges) and ranges[i] == 0.0:\n",
    "                    i += 1\n",
    "                if i < len(ranges):\n",
    "                    gaps.append(i)\n",
    "                continue\n",
    "\n",
    "            i += 1\n",
    "\n",
    "        if ranges[-1] != 0.0:\n",
    "            gaps.append(len(ranges) - 1)\n",
    "\n",
    "        assert len(gaps) % 2 == 0\n",
    "\n",
    "        max_gap = -1\n",
    "        gap_beg = 0\n",
    "        gap_end = 360\n",
    "\n",
    "        # find max gap\n",
    "        i = 0\n",
    "        while i < len(gaps):\n",
    "            if gaps[i+1]-gaps[i] > max_gap:\n",
    "                max_gap = gaps[i+1]-gaps[i]\n",
    "                gap_beg = gaps[i]+beg\n",
    "                gap_end = gaps[i+1]+beg\n",
    "            i += 2\n",
    "\n",
    "        mid_point = float(gap_end+gap_beg)/2.\n",
    "        angle_deg = mid_point - 180\n",
    "        angle_rad = angle_deg * (np.pi/180.)\n",
    "#         print(f\"midpoint:{mid_point}\")\n",
    "        angle = angle_rad * 1.0\n",
    "        return [angle, self.speed]\n",
    "\n"
   ]
  },
  {
   "cell_type": "code",
   "execution_count": 40,
   "id": "bfa242b3",
   "metadata": {
    "hidden": true
   },
   "outputs": [
    {
     "data": {
      "text/plain": [
       "<__main__.WPEnv at 0x2b606df3e130>"
      ]
     },
     "execution_count": 40,
     "metadata": {},
     "output_type": "execute_result"
    }
   ],
   "source": [
    "import gym\n",
    "import numpy as np\n",
    "import time\n",
    "import yaml\n",
    "import gym\n",
    "import numpy as np\n",
    "from argparse import Namespace\n",
    "\n",
    "    \n",
    "class WPEnv(gym.Env):\n",
    "    \n",
    "    def __init__(self, map_name='', begin_pos=None):\n",
    "        self.map_name = map_name\n",
    "        self.begin_pos = begin_pos\n",
    "        self.reset()\n",
    "        \n",
    "  \n",
    "    def reset(self):\n",
    "        def render_callback(env_renderer):\n",
    "            # custom extra drawing function\n",
    "            \n",
    "            e = env_renderer\n",
    "\n",
    "            # update camera to follow car\n",
    "            x = e.cars[0].vertices[::2]\n",
    "            y = e.cars[0].vertices[1::2]\n",
    "            top, bottom, left, right = max(y), min(y), min(x), max(x)\n",
    "            e.score_label.x = left\n",
    "            e.score_label.y = top - 700\n",
    "            e.left = left - 800\n",
    "            e.right = right + 800\n",
    "            e.top = top + 800\n",
    "            e.bottom = bottom - 800\n",
    "            \n",
    "        map_path = f\"./f1tenth_gym/examples/{self.map_name}\"\n",
    "        \n",
    "        self.env = gym.make('f110_gym:f110-v0', map=map_path, map_ext='.png', num_agents=1)\n",
    "        self.env.add_render_callback(render_callback)\n",
    "        \n",
    "        begin_pos = [0, 0, 0] if self.begin_pos is None else self.begin_pos\n",
    "        obs, step_reward, done, info = self.env.reset(np.array([begin_pos]))\n",
    " \n",
    "        return self.to_vector_state(obs)\n",
    "    \n",
    "    def to_vector_state(self, obs):\n",
    "        \n",
    "        scanner = np.clip(obs['scans'][0], 0, 10)\n",
    "        buck = 3\n",
    "        size = 1080//buck\n",
    "        agg_scanner = np.zeros(size,)\n",
    "        for i in range(size):\n",
    "            agg_scanner[i] = np.mean(scanner[i*buck: i*buck+buck])\n",
    "                \n",
    "        state = [\n",
    "            agg_scanner,\n",
    "            np.array(obs['linear_vels_x'][0]),\n",
    "            np.array(obs['ang_vels_z'][0]),\n",
    "            (obs['poses_x'][0], obs['poses_y'][0], obs['poses_theta'][0])\n",
    "        ]\n",
    "\n",
    "        return state\n",
    "    \n",
    "        \n",
    "    def step(self, action):\n",
    "        act = np.array([action])\n",
    "        reward = 0\n",
    "        obs, step_reward, done, info = self.env.step(act)\n",
    "        \n",
    "        if obs['collisions'][0] == 1.0:\n",
    "            print(\"CRASHED\")\n",
    "            done = True\n",
    "            reward = -1\n",
    "        \n",
    "                \n",
    "        if obs['lap_counts'][0] == 1.0:\n",
    "            reward = 1.0\n",
    "            print(\"DONE\")\n",
    "            done = True\n",
    "        \n",
    "        next_state = self.to_vector_state(obs)\n",
    "        return next_state, reward, done, info\n",
    "    \n",
    "    def render(self):\n",
    "        self.env.render()\n",
    "\n",
    "WPEnv(map_name='SILVERSTONE')"
   ]
  },
  {
   "cell_type": "markdown",
   "id": "33ea0f43",
   "metadata": {
    "hidden": true
   },
   "source": [
    "## create waypoints"
   ]
  },
  {
   "cell_type": "code",
   "execution_count": 41,
   "id": "e6b9a47b",
   "metadata": {
    "hidden": true
   },
   "outputs": [
    {
     "name": "stdout",
     "output_type": "stream",
     "text": [
      "DONE\n"
     ]
    }
   ],
   "source": [
    "\n",
    "done = False\n",
    "env = WPEnv(map_name='SILVERSTONE_TRAIN3', begin_pos=[0, 0, np.pi+1])\n",
    "obs = env.reset()\n",
    "agent = FGAgent(speed=3.0)\n",
    "\n",
    "positions = []\n",
    "\n",
    "while not done:\n",
    "    positions.append(obs[3])\n",
    "    th, v = agent.get_action(obs[0])\n",
    "    obs, r, done, _ = env.step([th, v])\n",
    "#     env.render()"
   ]
  },
  {
   "cell_type": "code",
   "execution_count": 42,
   "id": "4dec3012",
   "metadata": {
    "hidden": true
   },
   "outputs": [],
   "source": [
    "with open('ss3-wp.np', 'wb') as f:\n",
    "    np.save(f, positions)"
   ]
  },
  {
   "cell_type": "markdown",
   "id": "cd9e5bc8",
   "metadata": {
    "hidden": true
   },
   "source": [
    "## analyze waypoints"
   ]
  },
  {
   "cell_type": "code",
   "execution_count": 31,
   "id": "c9b9651f",
   "metadata": {
    "hidden": true
   },
   "outputs": [
    {
     "name": "stdout",
     "output_type": "stream",
     "text": [
      "0.8745604745519705\n",
      "15578\n",
      "51\n"
     ]
    }
   ],
   "source": [
    "import numpy as np\n",
    "\n",
    "with open('ss2-wp.np', 'rb') as f:\n",
    "    wps = np.load(f)\n",
    "    \n",
    "dist = np.linalg.norm(wps[0][:2] - wps[52][:2])\n",
    "print(dist)\n",
    "print(len(wps))\n",
    "print(len(wps)//300)"
   ]
  },
  {
   "cell_type": "code",
   "execution_count": 33,
   "id": "67b73f9f",
   "metadata": {
    "hidden": true
   },
   "outputs": [
    {
     "name": "stderr",
     "output_type": "stream",
     "text": [
      "  3%|▎         | 441/15578 [00:00<00:06, 2220.17it/s]"
     ]
    },
    {
     "name": "stdout",
     "output_type": "stream",
     "text": [
      "0.4861406010136173\n",
      "0.4861406010136173\n",
      "0.4966346217096672\n",
      "0.4946310243837726\n",
      "0.4650440434137921\n",
      "0.47571143985191683\n",
      "0.4718700112162928\n"
     ]
    },
    {
     "name": "stderr",
     "output_type": "stream",
     "text": [
      "100%|██████████| 15578/15578 [00:06<00:00, 2299.68it/s]\n"
     ]
    }
   ],
   "source": [
    "from tqdm import tqdm\n",
    "\n",
    "map_name = 'SILVERSTONE_TRAIN2'\n",
    "env = gym.make('f110_gym:f110-v0', map=f\"./f1tenth_gym/examples/{map_name}\", map_ext='.png', num_agents=1)\n",
    "\n",
    "for wp in tqdm(wps):\n",
    "    obs, step_reward, done, info = env.reset(\n",
    "        np.array([\n",
    "            wp\n",
    "        ])\n",
    "    )\n",
    "    if min(obs['scans'][0]) < 0.5:\n",
    "        print(min(obs['scans'][0]))\n",
    "        "
   ]
  },
  {
   "cell_type": "code",
   "execution_count": 44,
   "id": "ff700d27",
   "metadata": {
    "hidden": true
   },
   "outputs": [
    {
     "data": {
      "text/plain": [
       "0"
      ]
     },
     "execution_count": 44,
     "metadata": {},
     "output_type": "execute_result"
    }
   ],
   "source": [
    "from scipy.spatial.distance import cdist\n",
    "\n",
    "x = cdist([[0,0]], wps[:,:2])\n",
    "np.argmin(x)"
   ]
  },
  {
   "cell_type": "code",
   "execution_count": 45,
   "id": "673dbb2e",
   "metadata": {
    "hidden": true
   },
   "outputs": [
    {
     "data": {
      "text/plain": [
       "<matplotlib.collections.PathCollection at 0x2b606c5228b0>"
      ]
     },
     "execution_count": 45,
     "metadata": {},
     "output_type": "execute_result"
    },
    {
     "data": {
      "image/png": "[encoded data removed]",
      "text/plain": [
       "<Figure size 432x288 with 1 Axes>"
      ]
     },
     "metadata": {
      "needs_background": "light"
     },
     "output_type": "display_data"
    }
   ],
   "source": [
    "import matplotlib.pyplot as plt\n",
    "\n",
    "plt.scatter(wps[:,0], wps[:, 1])"
   ]
  },
  {
   "cell_type": "markdown",
   "id": "43fb0cb8",
   "metadata": {},
   "source": [
    "# environment"
   ]
  },
  {
   "cell_type": "code",
   "execution_count": 1,
   "id": "2d388b98",
   "metadata": {},
   "outputs": [
    {
     "data": {
      "text/plain": [
       "array([0.22596123, 0.21829119, 0.2189299 , 0.2256114 , 0.22599554,\n",
       "       0.2261687 , 0.22635313, 0.23206633, 0.22921801, 0.22998479,\n",
       "       0.23125471, 0.23544272, 0.23400206, 0.23396737, 0.22927552,\n",
       "       0.22812322, 0.23571204, 0.23483766, 0.2422682 , 0.24224494,\n",
       "       0.24977043, 0.24106442, 0.24196543, 0.2459962 , 0.24522317,\n",
       "       0.25449189, 0.25021449, 0.25048174, 0.24964386, 0.25760005,\n",
       "       0.26595318, 0.26831761, 0.2643269 , 0.26561015, 0.26702397,\n",
       "       0.27495402, 0.28061941, 0.28111119, 0.28005053, 0.28499812,\n",
       "       0.29027452, 0.29358456, 0.2934508 , 0.29881414, 0.30358066,\n",
       "       0.30777133, 0.30726678, 0.3143035 , 0.32081464, 0.32516866,\n",
       "       0.32593329, 0.33434582, 0.34310164, 0.34278224, 0.34516388,\n",
       "       0.36434358, 0.36416683, 0.36822773, 0.38477602, 0.38447776,\n",
       "       0.39375965, 0.40575687, 0.40770394, 0.42624683, 0.42977187,\n",
       "       0.44745999, 0.44404196, 0.47138569, 0.47191776, 0.48954906,\n",
       "       0.50811163, 0.33573979, 0.33230072, 0.31340804, 0.30080947,\n",
       "       0.30195352, 0.29406123, 0.29327559, 0.29081023, 0.28830598,\n",
       "       0.28049276, 0.28206548, 0.28511529, 0.28475322, 0.28236227,\n",
       "       0.28169513, 0.28328661, 0.27282691, 0.27214855, 0.27180836,\n",
       "       0.28079876, 0.28001072, 0.28139579, 0.28020861, 0.280241  ,\n",
       "       0.28152316, 0.2880583 , 0.28796521, 0.28847169, 0.29636024,\n",
       "       0.29677555, 0.30291682, 0.31000469, 0.3109626 , 0.32616178,\n",
       "       0.33074936, 1.        , 1.        , 1.        , 1.        ,\n",
       "       1.        , 1.        , 1.        , 1.        , 1.        ,\n",
       "       1.        , 1.        , 1.        , 1.        , 0.99044735,\n",
       "       0.9576771 , 0.92111669, 0.86966503, 0.84254886, 0.81876324,\n",
       "       0.78876026, 0.75933965, 0.73576741, 0.70526351, 0.69001313,\n",
       "       0.67428367, 0.65477326, 0.634578  , 0.61095682, 0.59835742,\n",
       "       0.58079225, 0.5613104 , 0.55218905, 0.53920886, 0.52089514,\n",
       "       0.50991098, 0.49801933, 0.49129256, 0.48474059, 0.4668908 ,\n",
       "       0.46235909, 0.45151731, 0.44407849, 0.43165791, 0.42945222,\n",
       "       0.42016299, 0.40803812, 0.40515872, 0.39020977, 0.39134438,\n",
       "       0.3872787 , 0.38468451, 0.36989224, 0.36739429, 0.36504937,\n",
       "       0.35322855, 0.35334689, 0.35170525, 0.34874055, 0.33743151,\n",
       "       0.33461791, 0.32943322, 0.33104275, 0.32523679, 0.31612671,\n",
       "       0.31643492, 0.30490947, 0.30537732, 0.30518245, 0.30642606,\n",
       "       0.30547886, 0.2935276 , 0.2920281 , 0.28986393, 0.29303138,\n",
       "       0.29408901, 0.2814767 , 0.27755966, 0.2792131 , 0.27637447,\n",
       "       0.27402292, 0.27582407, 0.26620093, 0.26398166, 0.26626142,\n",
       "       0.26563866, 0.25606781, 0.2577716 , 0.26022464, 0.26148894,\n",
       "       0.25905949, 0.25890494, 0.25907637, 0.24999159, 0.25006269,\n",
       "       0.24996956, 0.25508985, 0.25308006, 0.25295242, 0.25043386,\n",
       "       0.24313885, 0.24445229, 0.24763759, 0.24950539, 0.2435291 ,\n",
       "       0.24279177, 0.24285355, 0.24147485, 0.24223447, 0.23945396,\n",
       "       0.24155223, 0.23918286, 0.24160541, 0.23528065, 0.23683238,\n",
       "       0.        , 0.        ])"
      ]
     },
     "execution_count": 1,
     "metadata": {},
     "output_type": "execute_result"
    }
   ],
   "source": [
    "import gym\n",
    "import numpy as np\n",
    "import time\n",
    "import yaml\n",
    "import gym\n",
    "import numpy as np\n",
    "from scipy.spatial.distance import cdist\n",
    "\n",
    "\n",
    "class F110RaceEnv(gym.Env):\n",
    "    def __init__(self, env_config,\n",
    "                 test_map_name=None,\n",
    "                 scan_range=10.0,\n",
    "                 max_v=12.0,\n",
    "                 n_cps = 200,\n",
    "                 cp_reward = 0.1,\n",
    "                 min_cp_dist=3.0,\n",
    "                 maps_path='../maps',\n",
    "                 models_path='../checkpoints',\n",
    "                 train_map_name='SILVERSTONE_TRAIN',\n",
    "                 safe_padding=0.3,\n",
    "                 laps = 1.0\n",
    "                ):\n",
    "        \n",
    "        self.laps = laps\n",
    "        self.maps_path = maps_path\n",
    "        self.observation_space = gym.spaces.Box(low=-np.inf, high=np.inf, shape=(222,), dtype=np.float32)\n",
    "        self.max_v = max_v\n",
    "        self.test_map_name = test_map_name\n",
    "        self.min_cp_dist = min_cp_dist\n",
    "        self.n_cps = n_cps\n",
    "        self.cp_reward = cp_reward\n",
    "        self.scan_range = scan_range\n",
    "        self.safe_padding = safe_padding\n",
    "        self.map_path = None\n",
    "        self.train_map_name = train_map_name\n",
    "        self.action_space = gym.spaces.Box(low=-1, high=1, shape=(2,), dtype=np.float32)\n",
    "        self.cum_r = 0\n",
    "        self.prev_vel = [4.0] * 100\n",
    "        self.total_padding_punish = 0\n",
    "    \n",
    "    def _render_callback(self, env_renderer):\n",
    "        # custom extra drawing function\n",
    "\n",
    "        e = env_renderer\n",
    "\n",
    "        # update camera to follow car\n",
    "        x = e.cars[0].vertices[::2]\n",
    "        y = e.cars[0].vertices[1::2]\n",
    "        top, bottom, left, right = max(y), min(y), min(x), max(x)\n",
    "        e.score_label.x = left\n",
    "        e.score_label.y = top - 700\n",
    "        e.left = left - 800\n",
    "        e.right = right + 800\n",
    "        e.top = top + 800\n",
    "        e.bottom = bottom - 800\n",
    "  \n",
    "    def load_train_setup(self):\n",
    "        no = np.random.choice([1, 2, 3])\n",
    "        \n",
    "        map_path = f\"{self.maps_path}/{self.train_map_name}{no}\"\n",
    "        with open(f'{self.maps_path}/ss{no}-wp.np', 'rb') as f:\n",
    "            wps = np.load(f)\n",
    "            \n",
    "        return map_path, wps\n",
    "    \n",
    "    def load_test_setup(self):\n",
    "        map_path = f\"{self.maps_path}/{self.test_map_name}\"\n",
    "        with open(f'{self.maps_path}/ss-wp.np', 'rb') as f:\n",
    "            wps = np.load(f)\n",
    "            \n",
    "        return map_path, wps\n",
    "\n",
    "    def build_checkpoints(self, wps, cp_dist):\n",
    "        \n",
    "        start = np.random.randint(0, len(wps)-1)\n",
    "        checkpoints = []\n",
    "        \n",
    "        i = 0\n",
    "        while i < len(wps):\n",
    "            if i % cp_dist == 0:\n",
    "                checkpoints.append(wps[(start+i)%len(wps)])\n",
    "            i += 1\n",
    "        return checkpoints\n",
    "    \n",
    "    def reset(self):\n",
    "        self.prev_vel = [4.0] * 100\n",
    "        self.total_padding_punish = 0\n",
    "        self.cum_r = 0\n",
    "        \n",
    "        if self.test_map_name is not None:\n",
    "            map_path, wps = self.load_test_setup()\n",
    "        else:\n",
    "            map_path, wps = self.load_train_setup()\n",
    "        \n",
    "#         print(map_path, len(wps))\n",
    "        self.map_path = map_path\n",
    "        self.env = gym.make('f110_gym:f110-v0', map=map_path, map_ext='.png', num_agents=1)\n",
    "        self.env.add_render_callback(self._render_callback)\n",
    "        \n",
    "        cp_dist = len(wps)//self.n_cps\n",
    "        \n",
    "        self.checkpoints = self.build_checkpoints(wps, cp_dist)\n",
    "#         print(f\"number of checkpoints: {len(self.checkpoints)}\")\n",
    "        \n",
    "        if self.test_map_name is None:\n",
    "            start_idx = np.random.randint(0, len(self.checkpoints))\n",
    "            start_point = self.checkpoints[start_idx]\n",
    "            \n",
    "        else:\n",
    "            dists = cdist([[0,0]], np.array(self.checkpoints)[:,:2])\n",
    "            start_idx = np.argmin(dists)\n",
    "            start_point = [0., 0., np.pi+1]\n",
    "            \n",
    "        self.next_cp_idx = (start_idx + 2)%len(self.checkpoints)\n",
    "            \n",
    "        \n",
    "        obs, step_reward, done, info = self.env.reset(\n",
    "            np.array([\n",
    "                start_point\n",
    "            ])\n",
    "        )\n",
    "        \n",
    "        self.t = 0\n",
    "\n",
    "        return self.to_vector_state(obs)\n",
    "    \n",
    "    def to_vector_state(self, obs):\n",
    "        \n",
    "        scanner = np.clip(obs['scans'][0], 0, self.scan_range)\n",
    "        scanner = scanner[3*70:3*290]\n",
    "        buck = 3\n",
    "        size = len(scanner)//buck\n",
    "        agg_scanner = np.zeros(size,)\n",
    "        for i in range(size):\n",
    "            agg_scanner[i] = np.min(scanner[i*buck: i*buck+buck])\n",
    "        \n",
    "        agg_scanner /= self.scan_range\n",
    "        state = np.concatenate([\n",
    "            agg_scanner,\n",
    "            np.array(obs['linear_vels_x'][:1])/self.max_v,\n",
    "            np.array(obs['ang_vels_z'][:1])/self.max_v,\n",
    "        ])\n",
    "        \n",
    "#         if self.test_map_name is None:\n",
    "#             noise = np.random.normal(loc=0.0, scale=0.03, size=state.shape)\n",
    "#             state = state + noise\n",
    "        \n",
    "        return state\n",
    "    \n",
    "    def checkpoint(self, position):\n",
    "        return_cp_idx = (self.next_cp_idx - 10)%len(self.checkpoints)\n",
    "        return_dist = np.linalg.norm(position - self.checkpoints[return_cp_idx][:2])\n",
    "        dist = np.linalg.norm(position - self.checkpoints[self.next_cp_idx][:2])\n",
    "        reward = 0\n",
    "        if dist < self.min_cp_dist:\n",
    "            reward = self.cp_reward\n",
    "            self.next_cp_idx = (self.next_cp_idx + 1)%len(self.checkpoints)\n",
    "        elif return_dist < 3.0:\n",
    "            reward = -1\n",
    "        return reward\n",
    "        \n",
    "        \n",
    "    def step(self, action):\n",
    "        reward = 0\n",
    "\n",
    "        act_v = action[0]*(self.max_v/2)+(self.max_v/2)\n",
    "        self.prev_vel.insert(0, act_v)\n",
    "        self.prev_vel.pop()\n",
    "        \n",
    "        \n",
    "        th = action[1]*np.pi/6\n",
    "        act = np.array([[th, act_v]])\n",
    "\n",
    "        obs, step_reward, done, info = self.env.step(act)\n",
    "        pose_x = obs['poses_x'][0]\n",
    "        pose_y = obs['poses_y'][0]\n",
    "        \n",
    "        next_state = self.to_vector_state(obs)\n",
    "        position = np.array([pose_x, pose_y])\n",
    "\n",
    "        if obs['collisions'][0] == 1.0:\n",
    "            reward = -1\n",
    "            done = True\n",
    "            if self.test_map_name is not None:\n",
    "                print('CRASHED')\n",
    "            return next_state, reward, done, {}\n",
    "            \n",
    "        cp_reward = self.checkpoint(position)\n",
    "        reward += cp_reward\n",
    "        self.t += 1\n",
    "        \n",
    "        if obs['lap_counts'][0] == self.laps:\n",
    "            t = obs['lap_times'][0]  \n",
    "#             reward = np.exp(2.5 - 0.05*t)\n",
    "            fairlap = 50\n",
    "            reward = max(0.2*(fairlap - t), self.cp_reward)\n",
    "            print(f\"agent on {self.map_path} got reward {self.cum_r} in {t}. Finish reward: {reward}. Padding punish: {self.total_padding_punish}\")\n",
    "            done = True\n",
    "        elif cp_reward == -1:\n",
    "            t = obs['lap_times'][0]\n",
    "            print(f\"agent on {self.map_path} got reward {self.cum_r} in {t}. RETURNED\")\n",
    "            done = True\n",
    "        elif np.max(self.prev_vel)<3.0:\n",
    "            t = obs['lap_times'][0]\n",
    "            print(f\"agent on {self.map_path} got reward {self.cum_r} in {t}. STOPPED\")\n",
    "            reward = -1\n",
    "            done = True\n",
    "        \n",
    "        if done and self.test_map_name is not None:\n",
    "            print('lap:', obs['lap_times'])\n",
    "        \n",
    "        if np.min(obs['scans'][0]) < self.safe_padding:\n",
    "            reward += -0.05\n",
    "            self.total_padding_punish -= 0.05\n",
    "        \n",
    "        self.cum_r += reward\n",
    "        return next_state, reward, done, {'pos': position}\n",
    "    \n",
    "    def render(self):\n",
    "        self.env.render()\n",
    "\n",
    "e = F110RaceEnv({})\n",
    "e.reset()"
   ]
  },
  {
   "cell_type": "markdown",
   "id": "4a7aefd2",
   "metadata": {},
   "source": [
    "# training"
   ]
  },
  {
   "cell_type": "code",
   "execution_count": 2,
   "id": "0a002a55",
   "metadata": {},
   "outputs": [
    {
     "name": "stdout",
     "output_type": "stream",
     "text": [
      "env: CUDA_VISIBLE_DEVICES=0\n"
     ]
    }
   ],
   "source": [
    "%env CUDA_VISIBLE_DEVICES=0"
   ]
  },
  {
   "cell_type": "code",
   "execution_count": null,
   "id": "1504b8ed",
   "metadata": {
    "scrolled": true
   },
   "outputs": [
    {
     "name": "stderr",
     "output_type": "stream",
     "text": [
      "2022-04-13 13:05:30,214\tWARNING ppo.py:223 -- `train_batch_size` (100000) cannot be achieved with your other settings (num_workers=15 num_envs_per_worker=1 rollout_fragment_length=200)! Auto-adjusting `rollout_fragment_length` to 6666.\n",
      "2022-04-13 13:05:30,215\tINFO ppo.py:249 -- In multi-agent mode, policies will be optimized sequentially by the multi-GPU optimizer. Consider setting simple_optimizer=True if this doesn't work for you.\n",
      "2022-04-13 13:05:30,216\tINFO trainer.py:790 -- Current log_level is WARN. For more information, set 'log_level': 'INFO' / 'DEBUG' or use the -v and -vv flags.\n",
      "\u001b[2m\u001b[36m(RolloutWorker pid=7503)\u001b[0m 2022-04-13 13:05:36,344\tWARNING deprecation.py:45 -- DeprecationWarning: `rllib.env.remote_vector_env.RemoteVectorEnv` has been deprecated. Use `ray.rllib.env.remote_base_env.RemoteBaseEnv` instead. This will raise an error in the future!\n",
      "\u001b[2m\u001b[36m(RolloutWorker pid=7502)\u001b[0m 2022-04-13 13:05:36,652\tWARNING deprecation.py:45 -- DeprecationWarning: `rllib.env.remote_vector_env.RemoteVectorEnv` has been deprecated. Use `ray.rllib.env.remote_base_env.RemoteBaseEnv` instead. This will raise an error in the future!\n",
      "\u001b[2m\u001b[36m(RolloutWorker pid=7498)\u001b[0m 2022-04-13 13:05:36,566\tWARNING deprecation.py:45 -- DeprecationWarning: `rllib.env.remote_vector_env.RemoteVectorEnv` has been deprecated. Use `ray.rllib.env.remote_base_env.RemoteBaseEnv` instead. This will raise an error in the future!\n",
      "\u001b[2m\u001b[36m(RolloutWorker pid=7465)\u001b[0m 2022-04-13 13:05:36,760\tWARNING deprecation.py:45 -- DeprecationWarning: `rllib.env.remote_vector_env.RemoteVectorEnv` has been deprecated. Use `ray.rllib.env.remote_base_env.RemoteBaseEnv` instead. This will raise an error in the future!\n",
      "\u001b[2m\u001b[36m(RolloutWorker pid=7485)\u001b[0m 2022-04-13 13:05:36,724\tWARNING deprecation.py:45 -- DeprecationWarning: `rllib.env.remote_vector_env.RemoteVectorEnv` has been deprecated. Use `ray.rllib.env.remote_base_env.RemoteBaseEnv` instead. This will raise an error in the future!\n",
      "\u001b[2m\u001b[36m(RolloutWorker pid=7490)\u001b[0m 2022-04-13 13:05:36,731\tWARNING deprecation.py:45 -- DeprecationWarning: `rllib.env.remote_vector_env.RemoteVectorEnv` has been deprecated. Use `ray.rllib.env.remote_base_env.RemoteBaseEnv` instead. This will raise an error in the future!\n",
      "\u001b[2m\u001b[36m(RolloutWorker pid=7492)\u001b[0m 2022-04-13 13:05:36,711\tWARNING deprecation.py:45 -- DeprecationWarning: `rllib.env.remote_vector_env.RemoteVectorEnv` has been deprecated. Use `ray.rllib.env.remote_base_env.RemoteBaseEnv` instead. This will raise an error in the future!\n",
      "\u001b[2m\u001b[36m(RolloutWorker pid=7497)\u001b[0m 2022-04-13 13:05:36,747\tWARNING deprecation.py:45 -- DeprecationWarning: `rllib.env.remote_vector_env.RemoteVectorEnv` has been deprecated. Use `ray.rllib.env.remote_base_env.RemoteBaseEnv` instead. This will raise an error in the future!\n",
      "\u001b[2m\u001b[36m(RolloutWorker pid=7467)\u001b[0m 2022-04-13 13:05:36,788\tWARNING deprecation.py:45 -- DeprecationWarning: `rllib.env.remote_vector_env.RemoteVectorEnv` has been deprecated. Use `ray.rllib.env.remote_base_env.RemoteBaseEnv` instead. This will raise an error in the future!\n",
      "\u001b[2m\u001b[36m(RolloutWorker pid=7478)\u001b[0m 2022-04-13 13:05:36,788\tWARNING deprecation.py:45 -- DeprecationWarning: `rllib.env.remote_vector_env.RemoteVectorEnv` has been deprecated. Use `ray.rllib.env.remote_base_env.RemoteBaseEnv` instead. This will raise an error in the future!\n",
      "\u001b[2m\u001b[36m(RolloutWorker pid=7494)\u001b[0m 2022-04-13 13:05:36,813\tWARNING deprecation.py:45 -- DeprecationWarning: `rllib.env.remote_vector_env.RemoteVectorEnv` has been deprecated. Use `ray.rllib.env.remote_base_env.RemoteBaseEnv` instead. This will raise an error in the future!\n",
      "\u001b[2m\u001b[36m(RolloutWorker pid=7505)\u001b[0m 2022-04-13 13:05:36,843\tWARNING deprecation.py:45 -- DeprecationWarning: `rllib.env.remote_vector_env.RemoteVectorEnv` has been deprecated. Use `ray.rllib.env.remote_base_env.RemoteBaseEnv` instead. This will raise an error in the future!\n",
      "\u001b[2m\u001b[36m(RolloutWorker pid=7486)\u001b[0m 2022-04-13 13:05:36,828\tWARNING deprecation.py:45 -- DeprecationWarning: `rllib.env.remote_vector_env.RemoteVectorEnv` has been deprecated. Use `ray.rllib.env.remote_base_env.RemoteBaseEnv` instead. This will raise an error in the future!\n",
      "\u001b[2m\u001b[36m(RolloutWorker pid=7481)\u001b[0m 2022-04-13 13:05:36,855\tWARNING deprecation.py:45 -- DeprecationWarning: `rllib.env.remote_vector_env.RemoteVectorEnv` has been deprecated. Use `ray.rllib.env.remote_base_env.RemoteBaseEnv` instead. This will raise an error in the future!\n",
      "\u001b[2m\u001b[36m(RolloutWorker pid=7506)\u001b[0m 2022-04-13 13:05:36,807\tWARNING deprecation.py:45 -- DeprecationWarning: `rllib.env.remote_vector_env.RemoteVectorEnv` has been deprecated. Use `ray.rllib.env.remote_base_env.RemoteBaseEnv` instead. This will raise an error in the future!\n",
      "2022-04-13 13:05:41,134\tINFO trainable.py:125 -- Trainable.setup took 10.921 seconds. If your trainable is slow to initialize, consider setting reuse_actors=True to reduce actor creation overheads.\n",
      "2022-04-13 13:05:41,137\tWARNING util.py:55 -- Install gputil for GPU system monitoring.\n"
     ]
    },
    {
     "name": "stdout",
     "output_type": "stream",
     "text": [
      "{'num_workers': 15, 'num_envs_per_worker': 1, 'create_env_on_driver': False, 'rollout_fragment_length': 6666, 'batch_mode': 'truncate_episodes', 'gamma': 0.99, 'lr': 0.0003, 'train_batch_size': 100000, 'model': {'_use_default_native_models': False, '_disable_preprocessor_api': False, 'fcnet_hiddens': [300, 300, 300], 'fcnet_activation': 'tanh', 'conv_filters': None, 'conv_activation': 'relu', 'post_fcnet_hiddens': [], 'post_fcnet_activation': 'relu', 'free_log_std': False, 'no_final_linear': False, 'vf_share_layers': False, 'use_lstm': False, 'max_seq_len': 20, 'lstm_cell_size': 256, 'lstm_use_prev_action': False, 'lstm_use_prev_reward': False, '_time_major': False, 'use_attention': False, 'attention_num_transformer_units': 1, 'attention_dim': 64, 'attention_num_heads': 1, 'attention_head_dim': 32, 'attention_memory_inference': 50, 'attention_memory_training': 50, 'attention_position_wise_mlp_dim': 32, 'attention_init_gru_gate_bias': 2.0, 'attention_use_n_prev_actions': 0, 'attention_use_n_prev_rewards': 0, 'framestack': True, 'dim': 84, 'grayscale': False, 'zero_mean': True, 'custom_model': None, 'custom_model_config': {}, 'custom_action_dist': None, 'custom_preprocessor': None, 'lstm_use_prev_action_reward': -1}, 'optimizer': {}, 'horizon': None, 'soft_horizon': False, 'no_done_at_end': False, 'env': 'F110RaceEnv', 'observation_space': None, 'action_space': None, 'env_config': {}, 'remote_worker_envs': False, 'remote_env_batch_wait_ms': 0, 'env_task_fn': None, 'render_env': False, 'record_env': False, 'clip_rewards': None, 'normalize_actions': True, 'clip_actions': False, 'preprocessor_pref': 'deepmind', 'log_level': 'WARN', 'callbacks': <class 'ray.rllib.agents.callbacks.DefaultCallbacks'>, 'ignore_worker_failures': False, 'log_sys_usage': True, 'fake_sampler': False, 'framework': 'torch', 'eager_tracing': False, 'eager_max_retraces': 20, 'explore': True, 'exploration_config': {'type': 'StochasticSampling'}, 'evaluation_interval': None, 'evaluation_duration': 10, 'evaluation_duration_unit': 'episodes', 'evaluation_parallel_to_training': False, 'in_evaluation': False, 'evaluation_config': {'num_workers': 15, 'num_envs_per_worker': 1, 'create_env_on_driver': False, 'rollout_fragment_length': 6666, 'batch_mode': 'truncate_episodes', 'gamma': 0.99, 'lr': 0.0003, 'train_batch_size': 100000, 'model': {'_use_default_native_models': False, '_disable_preprocessor_api': False, 'fcnet_hiddens': [300, 300, 300], 'fcnet_activation': 'tanh', 'conv_filters': None, 'conv_activation': 'relu', 'post_fcnet_hiddens': [], 'post_fcnet_activation': 'relu', 'free_log_std': False, 'no_final_linear': False, 'vf_share_layers': False, 'use_lstm': False, 'max_seq_len': 20, 'lstm_cell_size': 256, 'lstm_use_prev_action': False, 'lstm_use_prev_reward': False, '_time_major': False, 'use_attention': False, 'attention_num_transformer_units': 1, 'attention_dim': 64, 'attention_num_heads': 1, 'attention_head_dim': 32, 'attention_memory_inference': 50, 'attention_memory_training': 50, 'attention_position_wise_mlp_dim': 32, 'attention_init_gru_gate_bias': 2.0, 'attention_use_n_prev_actions': 0, 'attention_use_n_prev_rewards': 0, 'framestack': True, 'dim': 84, 'grayscale': False, 'zero_mean': True, 'custom_model': None, 'custom_model_config': {}, 'custom_action_dist': None, 'custom_preprocessor': None, 'lstm_use_prev_action_reward': -1}, 'optimizer': {}, 'horizon': None, 'soft_horizon': False, 'no_done_at_end': False, 'env': 'F110RaceEnv', 'observation_space': None, 'action_space': None, 'env_config': {}, 'remote_worker_envs': False, 'remote_env_batch_wait_ms': 0, 'env_task_fn': None, 'render_env': False, 'record_env': False, 'clip_rewards': None, 'normalize_actions': True, 'clip_actions': False, 'preprocessor_pref': 'deepmind', 'log_level': 'WARN', 'callbacks': <class 'ray.rllib.agents.callbacks.DefaultCallbacks'>, 'ignore_worker_failures': False, 'log_sys_usage': True, 'fake_sampler': False, 'framework': 'torch', 'eager_tracing': False, 'eager_max_retraces': 20, 'explore': True, 'exploration_config': {'type': 'StochasticSampling'}, 'evaluation_interval': None, 'evaluation_duration': 10, 'evaluation_duration_unit': 'episodes', 'evaluation_parallel_to_training': False, 'in_evaluation': False, 'evaluation_config': {}, 'evaluation_num_workers': 0, 'custom_eval_function': None, 'always_attach_evaluation_results': False, 'sample_async': False, 'sample_collector': <class 'ray.rllib.evaluation.collectors.simple_list_collector.SimpleListCollector'>, 'observation_filter': 'NoFilter', 'synchronize_filters': True, 'tf_session_args': {'intra_op_parallelism_threads': 2, 'inter_op_parallelism_threads': 2, 'gpu_options': {'allow_growth': True}, 'log_device_placement': False, 'device_count': {'CPU': 1}, 'allow_soft_placement': True}, 'local_tf_session_args': {'intra_op_parallelism_threads': 8, 'inter_op_parallelism_threads': 8}, 'compress_observations': False, 'metrics_episode_collection_timeout_s': 180, 'metrics_num_episodes_for_smoothing': 100, 'min_time_s_per_reporting': None, 'min_train_timesteps_per_reporting': None, 'min_sample_timesteps_per_reporting': 0, 'seed': None, 'extra_python_environs_for_driver': {}, 'extra_python_environs_for_worker': {}, 'num_gpus': 1.0, '_fake_gpus': False, 'num_cpus_per_worker': 1, 'num_gpus_per_worker': 0, 'custom_resources_per_worker': {}, 'num_cpus_for_driver': 1, 'placement_strategy': 'PACK', 'input': 'sampler', 'input_config': {}, 'actions_in_input_normalized': False, 'input_evaluation': ['is', 'wis'], 'postprocess_inputs': False, 'shuffle_buffer_size': 0, 'output': None, 'output_compress_columns': ['obs', 'new_obs'], 'output_max_file_size': 67108864, 'multiagent': {'policies': {'default_policy': PolicySpec(policy_class=<class 'ray.rllib.agents.ppo.ppo_torch_policy.PPOTorchPolicy'>, observation_space=None, action_space=None, config={})}, 'policy_map_capacity': 100, 'policy_map_cache': None, 'policy_mapping_fn': None, 'policies_to_train': None, 'observation_fn': None, 'replay_mode': 'independent', 'count_steps_by': 'env_steps'}, 'logger_config': None, '_tf_policy_handles_more_than_one_loss': False, '_disable_preprocessor_api': False, '_disable_action_flattening': False, '_disable_execution_plan_api': False, 'simple_optimizer': False, 'monitor': -1, 'evaluation_num_episodes': -1, 'metrics_smoothing_episodes': -1, 'timesteps_per_iteration': 0, 'min_iter_time_s': -1, 'collect_metrics_timeout': -1, 'use_critic': True, 'use_gae': True, 'lambda': 1.0, 'kl_coeff': 1.0, 'sgd_minibatch_size': 4096, 'shuffle_sequences': True, 'num_sgd_iter': 30, 'lr_schedule': None, 'vf_loss_coeff': 1.0, 'entropy_coeff': 0.0, 'entropy_coeff_schedule': None, 'clip_param': 0.2, 'vf_clip_param': 10.0, 'grad_clip': None, 'kl_target': 0.01, 'vf_share_layers': -1}, 'evaluation_num_workers': 0, 'custom_eval_function': None, 'always_attach_evaluation_results': False, 'sample_async': False, 'sample_collector': <class 'ray.rllib.evaluation.collectors.simple_list_collector.SimpleListCollector'>, 'observation_filter': 'NoFilter', 'synchronize_filters': True, 'tf_session_args': {'intra_op_parallelism_threads': 2, 'inter_op_parallelism_threads': 2, 'gpu_options': {'allow_growth': True}, 'log_device_placement': False, 'device_count': {'CPU': 1}, 'allow_soft_placement': True}, 'local_tf_session_args': {'intra_op_parallelism_threads': 8, 'inter_op_parallelism_threads': 8}, 'compress_observations': False, 'metrics_episode_collection_timeout_s': 180, 'metrics_num_episodes_for_smoothing': 100, 'min_time_s_per_reporting': None, 'min_train_timesteps_per_reporting': None, 'min_sample_timesteps_per_reporting': 0, 'seed': None, 'extra_python_environs_for_driver': {}, 'extra_python_environs_for_worker': {}, 'num_gpus': 1.0, '_fake_gpus': False, 'num_cpus_per_worker': 1, 'num_gpus_per_worker': 0, 'custom_resources_per_worker': {}, 'num_cpus_for_driver': 1, 'placement_strategy': 'PACK', 'input': 'sampler', 'input_config': {}, 'actions_in_input_normalized': False, 'input_evaluation': ['is', 'wis'], 'postprocess_inputs': False, 'shuffle_buffer_size': 0, 'output': None, 'output_compress_columns': ['obs', 'new_obs'], 'output_max_file_size': 67108864, 'multiagent': {'policies': {'default_policy': PolicySpec(policy_class=<class 'ray.rllib.agents.ppo.ppo_torch_policy.PPOTorchPolicy'>, observation_space=None, action_space=None, config={})}, 'policy_map_capacity': 100, 'policy_map_cache': None, 'policy_mapping_fn': None, 'policies_to_train': None, 'observation_fn': None, 'replay_mode': 'independent', 'count_steps_by': 'env_steps'}, 'logger_config': None, '_tf_policy_handles_more_than_one_loss': False, '_disable_preprocessor_api': False, '_disable_action_flattening': False, '_disable_execution_plan_api': False, 'simple_optimizer': False, 'monitor': -1, 'evaluation_num_episodes': -1, 'metrics_smoothing_episodes': -1, 'timesteps_per_iteration': 0, 'min_iter_time_s': -1, 'collect_metrics_timeout': -1, 'use_critic': True, 'use_gae': True, 'lambda': 1.0, 'kl_coeff': 1.0, 'sgd_minibatch_size': 4096, 'shuffle_sequences': True, 'num_sgd_iter': 30, 'lr_schedule': None, 'vf_loss_coeff': 1.0, 'entropy_coeff': 0.0, 'entropy_coeff_schedule': None, 'clip_param': 0.2, 'vf_clip_param': 10.0, 'grad_clip': None, 'kl_target': 0.01, 'vf_share_layers': -1}\n"
     ]
    },
    {
     "name": "stderr",
     "output_type": "stream",
     "text": [
      "2022-04-13 13:06:49,529\tWARNING deprecation.py:45 -- DeprecationWarning: `clear_buffer` has been deprecated. Use `Filter.reset_buffer()` instead. This will raise an error in the future!\n"
     ]
    },
    {
     "name": "stdout",
     "output_type": "stream",
     "text": [
      "episode: 0 reward:-0.9314984709480122\n",
      "checkpoint saved at ../checkpoints/v2.2/checkpoint_000001/checkpoint-1\n",
      "episode: 1 reward:-0.8910935738444193\n",
      "episode: 2 reward:-0.734984984984985\n",
      "episode: 3 reward:-0.4551835853131749\n",
      "episode: 4 reward:0.16125461254612553\n",
      "episode: 5 reward:0.8821243523316062\n",
      "checkpoint saved at ../checkpoints/v2.2/checkpoint_000006/checkpoint-6\n",
      "episode: 6 reward:2.858999999999995\n",
      "\u001b[2m\u001b[36m(RolloutWorker pid=7505)\u001b[0m agent on ../maps/SILVERSTONE_TRAIN1 got reward 20.30000000000002 in 85.02000000000659. Finish reward: 0.1. Padding punish: -0.1\n",
      "\u001b[2m\u001b[36m(RolloutWorker pid=7467)\u001b[0m agent on ../maps/SILVERSTONE_TRAIN1 got reward 20.350000000000023 in 84.2600000000062. Finish reward: 0.1. Padding punish: -0.05\n",
      "episode: 7 reward:3.7799999999999954\n",
      "\u001b[2m\u001b[36m(RolloutWorker pid=7503)\u001b[0m agent on ../maps/SILVERSTONE_TRAIN1 got reward 20.40000000000002 in 88.3700000000083. Finish reward: 0.1. Padding punish: 0\n",
      "\u001b[2m\u001b[36m(RolloutWorker pid=7498)\u001b[0m agent on ../maps/SILVERSTONE_TRAIN1 got reward 20.40000000000002 in 88.38000000000831. Finish reward: 0.1. Padding punish: 0\n",
      "\u001b[2m\u001b[36m(RolloutWorker pid=7503)\u001b[0m agent on ../maps/SILVERSTONE_TRAIN1 got reward 19.750000000000014 in 88.88000000000856. Finish reward: 0.1. Padding punish: -0.65\n",
      "episode: 8 reward:4.9489999999999945\n",
      "\u001b[2m\u001b[36m(RolloutWorker pid=7497)\u001b[0m agent on ../maps/SILVERSTONE_TRAIN1 got reward 19.700000000000003 in 88.33000000000828. Finish reward: 0.1. Padding punish: -0.7000000000000001\n",
      "\u001b[2m\u001b[36m(RolloutWorker pid=7506)\u001b[0m agent on ../maps/SILVERSTONE_TRAIN1 got reward 19.750000000000014 in 88.98000000000862. Finish reward: 0.1. Padding punish: -0.65\n",
      "\u001b[2m\u001b[36m(RolloutWorker pid=7486)\u001b[0m agent on ../maps/SILVERSTONE_TRAIN1 got reward 20.30000000000002 in 89.44000000000885. Finish reward: 0.1. Padding punish: -0.1\n",
      "\u001b[2m\u001b[36m(RolloutWorker pid=7465)\u001b[0m agent on ../maps/SILVERSTONE_TRAIN1 got reward 20.40000000000002 in 89.28000000000877. Finish reward: 0.1. Padding punish: 0\n",
      "episode: 9 reward:6.77549999999999\n",
      "\u001b[2m\u001b[36m(RolloutWorker pid=7485)\u001b[0m agent on ../maps/SILVERSTONE_TRAIN1 got reward 20.40000000000002 in 88.99000000000862. Finish reward: 0.1. Padding punish: 0\n",
      "\u001b[2m\u001b[36m(RolloutWorker pid=7498)\u001b[0m agent on ../maps/SILVERSTONE_TRAIN1 got reward 20.40000000000002 in 87.0000000000076. Finish reward: 0.1. Padding punish: 0\n",
      "\u001b[2m\u001b[36m(RolloutWorker pid=7490)\u001b[0m agent on ../maps/SILVERSTONE_TRAIN1 got reward 20.40000000000002 in 85.0400000000066. Finish reward: 0.1. Padding punish: 0\n",
      "\u001b[2m\u001b[36m(RolloutWorker pid=7505)\u001b[0m agent on ../maps/SILVERSTONE_TRAIN3 got reward 19.900000000000016 in 89.29000000000877. Finish reward: 0.1. Padding punish: -0.2\n",
      "\u001b[2m\u001b[36m(RolloutWorker pid=7502)\u001b[0m agent on ../maps/SILVERSTONE_TRAIN3 got reward 20.100000000000016 in 86.33000000000726. Finish reward: 0.1. Padding punish: 0\n",
      "\u001b[2m\u001b[36m(RolloutWorker pid=7506)\u001b[0m agent on ../maps/SILVERSTONE_TRAIN1 got reward 20.40000000000002 in 83.19000000000565. Finish reward: 0.1. Padding punish: 0\n",
      "\u001b[2m\u001b[36m(RolloutWorker pid=7503)\u001b[0m agent on ../maps/SILVERSTONE_TRAIN2 got reward 19.450000000000006 in 86.68000000000744. Finish reward: 0.1. Padding punish: -0.8500000000000002\n",
      "\u001b[2m\u001b[36m(RolloutWorker pid=7492)\u001b[0m agent on ../maps/SILVERSTONE_TRAIN2 got reward 20.30000000000002 in 87.35000000000778. Finish reward: 0.1. Padding punish: 0\n",
      "\u001b[2m\u001b[36m(RolloutWorker pid=7494)\u001b[0m agent on ../maps/SILVERSTONE_TRAIN1 got reward 19.450000000000014 in 85.22000000000669. Finish reward: 0.1. Padding punish: -0.9500000000000003\n",
      "\u001b[2m\u001b[36m(RolloutWorker pid=7481)\u001b[0m agent on ../maps/SILVERSTONE_TRAIN1 got reward 20.40000000000002 in 85.76000000000697. Finish reward: 0.1. Padding punish: 0\n",
      "\u001b[2m\u001b[36m(RolloutWorker pid=7467)\u001b[0m agent on ../maps/SILVERSTONE_TRAIN1 got reward 20.40000000000002 in 85.75000000000696. Finish reward: 0.1. Padding punish: 0\n",
      "\u001b[2m\u001b[36m(RolloutWorker pid=7497)\u001b[0m agent on ../maps/SILVERSTONE_TRAIN1 got reward 20.40000000000002 in 83.30000000000571. Finish reward: 0.1. Padding punish: 0\n",
      "episode: 10 reward:9.02699999999999\n",
      "checkpoint saved at ../checkpoints/v2.2/checkpoint_000011/checkpoint-11\n",
      "\u001b[2m\u001b[36m(RolloutWorker pid=7485)\u001b[0m agent on ../maps/SILVERSTONE_TRAIN1 got reward 20.40000000000002 in 82.97000000000554. Finish reward: 0.1. Padding punish: 0\n",
      "\u001b[2m\u001b[36m(RolloutWorker pid=7506)\u001b[0m agent on ../maps/SILVERSTONE_TRAIN1 got reward 20.40000000000002 in 84.58000000000636. Finish reward: 0.1. Padding punish: 0\n",
      "\u001b[2m\u001b[36m(RolloutWorker pid=7492)\u001b[0m agent on ../maps/SILVERSTONE_TRAIN1 got reward 19.200000000000003 in 81.28000000000468. Finish reward: 0.1. Padding punish: -1.2000000000000004\n",
      "\u001b[2m\u001b[36m(RolloutWorker pid=7494)\u001b[0m agent on ../maps/SILVERSTONE_TRAIN1 got reward 20.40000000000002 in 81.77000000000493. Finish reward: 0.1. Padding punish: 0\n",
      "\u001b[2m\u001b[36m(RolloutWorker pid=7465)\u001b[0m agent on ../maps/SILVERSTONE_TRAIN3 got reward 20.100000000000016 in 83.62000000000587. Finish reward: 0.1. Padding punish: 0\n",
      "\u001b[2m\u001b[36m(RolloutWorker pid=7498)\u001b[0m agent on ../maps/SILVERSTONE_TRAIN1 got reward 20.40000000000002 in 82.14000000000512. Finish reward: 0.1. Padding punish: 0\n",
      "\u001b[2m\u001b[36m(RolloutWorker pid=7503)\u001b[0m agent on ../maps/SILVERSTONE_TRAIN1 got reward 19.3 in 82.85000000000548. Finish reward: 0.1. Padding punish: -1.1000000000000003\n",
      "\u001b[2m\u001b[36m(RolloutWorker pid=7485)\u001b[0m agent on ../maps/SILVERSTONE_TRAIN1 got reward 20.000000000000018 in 78.64000000000333. Finish reward: 0.1. Padding punish: -0.3\n",
      "\u001b[2m\u001b[36m(RolloutWorker pid=7467)\u001b[0m agent on ../maps/SILVERSTONE_TRAIN1 got reward 20.050000000000015 in 80.66000000000436. Finish reward: 0.1. Padding punish: -0.35\n",
      "episode: 11 reward:10.571999999999994\n",
      "\u001b[2m\u001b[36m(RolloutWorker pid=7486)\u001b[0m agent on ../maps/SILVERSTONE_TRAIN1 got reward 19.19999999999999 in 83.860000000006. Finish reward: 0.1. Padding punish: -1.2000000000000004\n",
      "\u001b[2m\u001b[36m(RolloutWorker pid=7505)\u001b[0m agent on ../maps/SILVERSTONE_TRAIN1 got reward 19.450000000000003 in 82.1100000000051. Finish reward: 0.1. Padding punish: -0.9500000000000003\n",
      "\u001b[2m\u001b[36m(RolloutWorker pid=7506)\u001b[0m agent on ../maps/SILVERSTONE_TRAIN1 got reward 20.35000000000002 in 82.26000000000518. Finish reward: 0.1. Padding punish: -0.05\n",
      "\u001b[2m\u001b[36m(RolloutWorker pid=7498)\u001b[0m agent on ../maps/SILVERSTONE_TRAIN1 got reward 20.350000000000023 in 79.44000000000374. Finish reward: 0.1. Padding punish: -0.05\n",
      "\u001b[2m\u001b[36m(RolloutWorker pid=7478)\u001b[0m agent on ../maps/SILVERSTONE_TRAIN1 got reward 19.900000000000013 in 77.6000000000028. Finish reward: 0.1. Padding punish: -0.49999999999999994\n",
      "\u001b[2m\u001b[36m(RolloutWorker pid=7490)\u001b[0m agent on ../maps/SILVERSTONE_TRAIN3 got reward 17.949999999999978 in 82.1200000000051. Finish reward: 0.1. Padding punish: -2.1500000000000004\n"
     ]
    }
   ],
   "source": [
    "%%time\n",
    "\n",
    "import ray\n",
    "from ray.rllib.agents import ppo\n",
    "from ray.rllib.agents.ppo.ppo import DEFAULT_CONFIG\n",
    "\n",
    "ray.shutdown()\n",
    "ray.init()\n",
    "\n",
    "\n",
    "\n",
    "# with half cheeta configs\n",
    "\n",
    "hc_configs = {\n",
    "    'framework': 'torch',\n",
    "    'num_workers': 15,\n",
    "    'gamma': 0.99,\n",
    "    'num_gpus': 1.0,\n",
    "    'kl_coeff': 1.0,\n",
    "    'clip_param': 0.2,\n",
    "    'model': {\n",
    "        'fcnet_hiddens': [300, 300, 300],\n",
    "    },\n",
    "    'num_envs_per_worker': 1,\n",
    "    'train_batch_size': 100000,\n",
    "    'sgd_minibatch_size': 4096,\n",
    "    'batch_mode': 'truncate_episodes',\n",
    "    'lr': .0003,\n",
    "}\n",
    "\n",
    "\n",
    "trainer = ppo.PPOTrainer(env=F110RaceEnv, config=hc_configs)\n",
    "# print(\"FINE TUNING\")\n",
    "# trainer.restore('./checkpoints/v1.9/checkpoint_000116/checkpoint-116')\n",
    "\n",
    "print(trainer.config)\n",
    "rewards = []\n",
    "best_reward = -100\n",
    "models_path = '../checkpoints'\n",
    "\n",
    "import pickle\n",
    "\n",
    "for i in range(300):\n",
    "    result = trainer.train()\n",
    "    episode_r = result['episode_reward_mean']\n",
    "    print(f\"episode: {i} reward:{episode_r}\")\n",
    "    rewards.append(episode_r)\n",
    "    with open(f'{models_path}/v2.2_r', 'wb') as f:\n",
    "        pickle.dump(rewards, f)\n",
    "        \n",
    "    if i%5 == 0 and episode_r > best_reward:\n",
    "        best_reward = episode_r\n",
    "        cp = trainer.save(f\"{models_path}/v2.2\")\n",
    "        print(\"checkpoint saved at\", cp)\n"
   ]
  },
  {
   "cell_type": "code",
   "execution_count": 1,
   "id": "9d645a42",
   "metadata": {},
   "outputs": [],
   "source": [
    "!rm -rf ../checkpoints/v3"
   ]
  },
  {
   "cell_type": "markdown",
   "id": "703f7c63",
   "metadata": {},
   "source": [
    "## evaluation"
   ]
  },
  {
   "cell_type": "code",
   "execution_count": 11,
   "id": "1e038e65",
   "metadata": {},
   "outputs": [
    {
     "name": "stderr",
     "output_type": "stream",
     "text": [
      "2022-04-12 16:32:09,484\tWARNING util.py:55 -- Install gputil for GPU system monitoring.\n",
      "2022-04-12 16:32:09,491\tINFO trainable.py:472 -- Restored on 10.64.91.46 from checkpoint: ./checkpoints/v2.1/checkpoint_000031/checkpoint-31\n",
      "2022-04-12 16:32:09,492\tINFO trainable.py:480 -- Current state after restoring: {'_iteration': 31, '_timesteps_total': 6199380, '_time_total': 1487.5876996517181, '_episodes_total': 5846}\n"
     ]
    }
   ],
   "source": [
    "import ray\n",
    "from ray.rllib.agents import ppo\n",
    "from ray.rllib.agents.ppo.ppo import DEFAULT_CONFIG\n",
    "\n",
    "DEFAULT_CONFIG['framework'] = 'torch'\n",
    "DEFAULT_CONFIG['num_workers'] = 0\n",
    "DEFAULT_CONFIG['num_gpus'] = 0\n",
    "# DEFAULT_CONFIG['model']['fcnet_hiddens'] = [300, 300]\n",
    "DEFAULT_CONFIG[\"evaluation_num_workers\"] = 0\n",
    "DEFAULT_CONFIG[\"evaluation_config\"][\"render_env\"] = False\n",
    "DEFAULT_CONFIG[\"evaluation_config\"][\"explore\"] = False\n",
    "DEFAULT_CONFIG['explore'] = False\n",
    "\n",
    "trainer = ppo.PPOTrainer(env=F110RaceEnv, config=DEFAULT_CONFIG)\n",
    "trainer.restore('./checkpoints/v2.1/checkpoint_000031/checkpoint-31')\n",
    "\n"
   ]
  },
  {
   "cell_type": "code",
   "execution_count": 15,
   "id": "42e69c6a",
   "metadata": {},
   "outputs": [
    {
     "name": "stdout",
     "output_type": "stream",
     "text": [
      "CRASHED\n",
      "reward:4.649999999999996\n"
     ]
    }
   ],
   "source": [
    "done = False\n",
    "env = F110RaceEnv({}, test_map_name='SILVERSTONE_OBS', laps=1)\n",
    "obs = env.reset()\n",
    "poses = []\n",
    "hist = []\n",
    "\n",
    "r = 0\n",
    "i = 0\n",
    "while not done:\n",
    "    i += 1\n",
    "    action = trainer.compute_single_action(obs, explore=False)\n",
    "    obs, reward, done, info = env.step(action)\n",
    "    if 'pos' in info:\n",
    "        pos = info['pos'] \n",
    "        hist.append([obs[-2], reward, done, pos])\n",
    "    \n",
    "    if i % 100 == 0 and len(pos)>0:\n",
    "        poses.append(pos)\n",
    "    r += reward\n",
    "    \n",
    "print(f'reward:{r}')\n",
    "env.close()\n",
    "\n",
    "# hist"
   ]
  },
  {
   "cell_type": "code",
   "execution_count": 8,
   "id": "5fc51286",
   "metadata": {},
   "outputs": [
    {
     "data": {
      "text/plain": [
       "<matplotlib.collections.PathCollection at 0x2ad05e32d040>"
      ]
     },
     "execution_count": 8,
     "metadata": {},
     "output_type": "execute_result"
    },
    {
     "data": {
      "image/png": "[encoded data removed]",
      "text/plain": [
       "<Figure size 432x288 with 1 Axes>"
      ]
     },
     "metadata": {
      "needs_background": "light"
     },
     "output_type": "display_data"
    }
   ],
   "source": [
    "import matplotlib.pyplot as plt\n",
    "\n",
    "wps = np.array([i[-1] for i in hist])\n",
    "plt.scatter(wps[:,0], wps[:,1], c='b')\n",
    "plt.scatter(wps[0,0], wps[0,1], c='r')"
   ]
  },
  {
   "cell_type": "code",
   "execution_count": 44,
   "id": "deb0e53d",
   "metadata": {},
   "outputs": [
    {
     "data": {
      "text/plain": [
       "[<matplotlib.lines.Line2D at 0x2af547ecaa90>]"
      ]
     },
     "execution_count": 44,
     "metadata": {},
     "output_type": "execute_result"
    },
    {
     "data": {
      "image/png": "[encoded data removed]",
      "text/plain": [
       "<Figure size 432x288 with 1 Axes>"
      ]
     },
     "metadata": {
      "needs_background": "light"
     },
     "output_type": "display_data"
    }
   ],
   "source": [
    "import matplotlib.pyplot as plt\n",
    "import pickle \n",
    "\n",
    "with open('checkpoints/race_v1.1_r', 'rb') as f:\n",
    "    rs = pickle.load(f)\n",
    "    \n",
    "plt.plot(rs)"
   ]
  },
  {
   "cell_type": "code",
   "execution_count": 4,
   "id": "a9224554",
   "metadata": {},
   "outputs": [
    {
     "data": {
      "text/plain": [
       "[<matplotlib.lines.Line2D at 0x2af5b4064640>]"
      ]
     },
     "execution_count": 4,
     "metadata": {},
     "output_type": "execute_result"
    },
    {
     "data": {
      "image/png": "[encoded data removed]",
      "text/plain": [
       "<Figure size 432x288 with 1 Axes>"
      ]
     },
     "metadata": {
      "needs_background": "light"
     },
     "output_type": "display_data"
    }
   ],
   "source": [
    "import matplotlib.pyplot as plt\n",
    "import pickle \n",
    "\n",
    "with open('checkpoints/v1.2_r', 'rb') as f:\n",
    "    rs = pickle.load(f)\n",
    "    \n",
    "plt.plot(rs)"
   ]
  },
  {
   "cell_type": "code",
   "execution_count": 4,
   "id": "7a75f95e",
   "metadata": {},
   "outputs": [
    {
     "data": {
      "text/plain": [
       "[<matplotlib.lines.Line2D at 0x2bcb3f6756a0>]"
      ]
     },
     "execution_count": 4,
     "metadata": {},
     "output_type": "execute_result"
    },
    {
     "data": {
      "image/png": "[encoded data removed]",
      "text/plain": [
       "<Figure size 432x288 with 1 Axes>"
      ]
     },
     "metadata": {
      "needs_background": "light"
     },
     "output_type": "display_data"
    }
   ],
   "source": [
    "import matplotlib.pyplot as plt\n",
    "import pickle \n",
    "\n",
    "with open('checkpoints/v2.1_r', 'rb') as f:\n",
    "    rs = pickle.load(f)\n",
    "    \n",
    "plt.plot(rs)\n"
   ]
  }
 ],
 "metadata": {
  "kernelspec": {
   "display_name": "Python 3 (ipykernel)",
   "language": "python",
   "name": "python3"
  },
  "language_info": {
   "codemirror_mode": {
    "name": "ipython",
    "version": 3
   },
   "file_extension": ".py",
   "mimetype": "text/x-python",
   "name": "python",
   "nbconvert_exporter": "python",
   "pygments_lexer": "ipython3",
   "version": "3.8.12"
  },
  "toc": {
   "base_numbering": 1,
   "nav_menu": {},
   "number_sections": true,
   "sideBar": true,
   "skip_h1_title": false,
   "title_cell": "Table of Contents",
   "title_sidebar": "Contents",
   "toc_cell": false,
   "toc_position": {},
   "toc_section_display": true,
   "toc_window_display": true
  }
 },
 "nbformat": 4,
 "nbformat_minor": 5
}
