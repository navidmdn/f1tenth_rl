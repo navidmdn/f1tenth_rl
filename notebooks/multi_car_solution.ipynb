{
 "cells": [
  {
   "cell_type": "markdown",
   "id": "c624158f",
   "metadata": {},
   "source": [
    "# Opponent"
   ]
  },
  {
   "cell_type": "code",
   "execution_count": 1,
   "id": "1b12b69a",
   "metadata": {},
   "outputs": [
    {
     "name": "stdout",
     "output_type": "stream",
     "text": [
      "env: CUDA_VISIBLE_DEVICES=0\n"
     ]
    }
   ],
   "source": [
    "%env CUDA_VISIBLE_DEVICES=0"
   ]
  },
  {
   "cell_type": "code",
   "execution_count": 2,
   "id": "987f4ae0",
   "metadata": {},
   "outputs": [
    {
     "data": {
      "text/plain": [
       "True"
      ]
     },
     "execution_count": 2,
     "metadata": {},
     "output_type": "execute_result"
    }
   ],
   "source": [
    "import torch\n",
    "\n",
    "torch.cuda.is_available()"
   ]
  },
  {
   "cell_type": "code",
   "execution_count": 3,
   "id": "9eef7f5a",
   "metadata": {},
   "outputs": [],
   "source": [
    "import torch\n",
    "\n",
    "class Policy(torch.nn.Module):\n",
    "    def __init__(self):\n",
    "        super(Policy, self).__init__()\n",
    "        \n",
    "        self.h1 = torch.nn.Sequential(\n",
    "                torch.nn.Linear(in_features=142, out_features=300, bias=True),\n",
    "                torch.nn.Tanh()\n",
    "            )\n",
    "        self.h2 = torch.nn.Sequential(\n",
    "            torch.nn.Linear(in_features=300, out_features=300, bias=True),\n",
    "            torch.nn.Tanh()\n",
    "        )\n",
    "        \n",
    "        self.logits =  torch.nn.Sequential(\n",
    "            torch.nn.Linear(in_features=300, out_features=4, bias=True),\n",
    "        )\n",
    "        \n",
    "    def forward(self, x):\n",
    "        x = self.h1(x)\n",
    "        x = self.h2(x)\n",
    "        return self.logits(x)\n",
    "\n",
    "# policy_path = '../checkpoints/race_v2.0.4.pt'\n",
    "# exported_policy = Policy()\n",
    "# exported_policy.h1.load_state_dict(torch.load(policy_path)['h1'])\n",
    "# exported_policy.h2.load_state_dict(torch.load(policy_path)['h2'])\n",
    "# exported_policy.logits.load_state_dict(torch.load(policy_path)['logits'])\n",
    "# exported_policy.eval()"
   ]
  },
  {
   "cell_type": "code",
   "execution_count": 4,
   "id": "bca24efe",
   "metadata": {},
   "outputs": [],
   "source": [
    "class PolicyWrapper:\n",
    "    def __init__(self, load_path='models/'):\n",
    "        self.device = torch.device('cpu')\n",
    "        self.policy = Policy()\n",
    "        self.policy.to(self.device)\n",
    "        self.policy.h1.load_state_dict(torch.load(load_path)['h1'])\n",
    "        self.policy.h2.load_state_dict(torch.load(load_path)['h2'])\n",
    "        self.policy.logits.load_state_dict(torch.load(load_path)['logits'])\n",
    "        self.policy.eval()\n",
    "        \n",
    "    def get_action(self, observation):\n",
    "        obs_t = torch.tensor(observation, dtype=torch.float32).to(self.device)\n",
    "        acts = self.policy(obs_t).detach().cpu().numpy()\n",
    "        v, th = np.clip(acts[0], -1, 1), np.clip(acts[1], -1, 1)\n",
    "        #v, th = acts[0], acts[1]\n",
    "        return v, th\n",
    "    \n",
    "op_policy = PolicyWrapper('../checkpoints/race_v2.0.4.pt')\n"
   ]
  },
  {
   "cell_type": "markdown",
   "id": "43fb0cb8",
   "metadata": {},
   "source": [
    "# environment"
   ]
  },
  {
   "cell_type": "code",
   "execution_count": 5,
   "id": "2d388b98",
   "metadata": {},
   "outputs": [
    {
     "data": {
      "text/plain": [
       "(142,)"
      ]
     },
     "execution_count": 5,
     "metadata": {},
     "output_type": "execute_result"
    }
   ],
   "source": [
    "import gym\n",
    "import numpy as np\n",
    "import time\n",
    "import yaml\n",
    "import gym\n",
    "import numpy as np\n",
    "from scipy.spatial.distance import cdist\n",
    "\n",
    "\n",
    "class F110RaceEnv(gym.Env):\n",
    "    def __init__(self, env_config,\n",
    "                 test_map_name=None,\n",
    "                 scan_range=10.0,\n",
    "                 max_v=20.0,\n",
    "                 n_cps = 110,\n",
    "                 cp_reward = 0.01,\n",
    "                 min_cp_dist=3.0,\n",
    "                 maps_path='../maps',\n",
    "                 models_path='../checkpoints',\n",
    "                 train_map_name='Oschersleben',\n",
    "                 padding_punish=0.0,\n",
    "                 safe_padding=0.4,\n",
    "                 laps = 1.0,\n",
    "                 min_deg=110,\n",
    "                 max_deg=250,\n",
    "                 begin_pos=[\n",
    "                     [0.9966514, -0.9306893, 2.79787],\n",
    "                    [0.0702245, 0.3002981, 2.79787],\n",
    "                    ],\n",
    "                 op=op_policy\n",
    "                ):\n",
    "        \n",
    "        self.laps = laps\n",
    "        self.maps_path = maps_path\n",
    "        self.observation_space = gym.spaces.Box(low=-np.inf, high=np.inf, shape=(142,), dtype=np.float32)\n",
    "        self.max_v = max_v\n",
    "        self.test_map_name = test_map_name\n",
    "        self.min_cp_dist = min_cp_dist\n",
    "        self.n_cps = n_cps\n",
    "        self.cp_reward = cp_reward\n",
    "        self.scan_range = scan_range\n",
    "        self.safe_padding = safe_padding\n",
    "        self.map_path = None\n",
    "        self.train_map_name = train_map_name\n",
    "        self.action_space = gym.spaces.Box(low=-1, high=1, shape=(2,), dtype=np.float32)\n",
    "        self.cum_r = 0\n",
    "        self.prev_vel = [4.0] * 100\n",
    "        self.padding_punish = padding_punish\n",
    "        self.op_policy = op_policy\n",
    "        self.total_padding_punish = 0\n",
    "        self.min_deg = min_deg\n",
    "        self.max_deg = max_deg\n",
    "        self.begin_pos = begin_pos\n",
    "        self.prev_cp_t = 0\n",
    "        self.ego_forward = False\n",
    "        \n",
    "        self.ego_passed_cps = 0\n",
    "        self.op_passed_cps = 0\n",
    "        self.op_next_cp_idx = 0\n",
    "        self.op_prev_state = None\n",
    "        self.cp_prev_vel = []\n",
    "        self.took_over = False\n",
    "    \n",
    "\n",
    "    def load_train_setup(self):\n",
    "        \n",
    "        map_path = f\"{self.maps_path}/{self.train_map_name}\"\n",
    "        with open(f'{self.maps_path}/{self.train_map_name}-wp.np', 'rb') as f:\n",
    "            wps = np.load(f)\n",
    "            \n",
    "        return map_path, wps\n",
    "    \n",
    "    def load_test_setup(self):\n",
    "        map_path = f\"{self.maps_path}/{self.test_map_name}\"\n",
    "        with open(f'{self.maps_path}/{self.train_map_name}-wp.np', 'rb') as f:\n",
    "            wps = np.load(f)\n",
    "            \n",
    "        return map_path, wps\n",
    "\n",
    "    def build_checkpoints(self, wps, cp_dist):\n",
    "        \n",
    "        start = np.random.randint(0, len(wps)-1)\n",
    "        checkpoints = []\n",
    "        \n",
    "        i = 0\n",
    "        while i < len(wps):\n",
    "            if i % cp_dist == 0:\n",
    "                checkpoints.append(wps[(start+i)%len(wps)])\n",
    "            i += 1\n",
    "        return checkpoints\n",
    "    \n",
    "    def reset(self):\n",
    "        \n",
    "        self.ego_passed_cps = 0\n",
    "        self.op_passed_cps = 0\n",
    "        self.took_over = False\n",
    "        \n",
    "        self.prev_vel = [3.0] * 100\n",
    "        self.total_padding_punish = 0\n",
    "        self.cum_r = 0\n",
    "        self.prev_cp_t = 0\n",
    "        self.op_prev_state = None\n",
    "        self.op_base_vel = np.random.uniform(low=5.0, high=15.0)\n",
    "        \n",
    "        if self.test_map_name is not None:\n",
    "            map_path, wps = self.load_test_setup()\n",
    "        else:\n",
    "            map_path, wps = self.load_train_setup()\n",
    "        \n",
    "#         print(map_path, len(wps))\n",
    "        self.map_path = map_path\n",
    "        self.env = gym.make('f110_gym:f110-v0', map=map_path, map_ext='.png', num_agents=2)\n",
    "        \n",
    "        cp_dist = len(wps)//self.n_cps\n",
    "        \n",
    "        self.checkpoints = self.build_checkpoints(wps, cp_dist)\n",
    "        \n",
    "        if self.test_map_name is not None:\n",
    "            dists = cdist([self.begin_pos[0][:2]], np.array(self.checkpoints)[:,:2])\n",
    "            start_idx = np.argmin(dists)\n",
    "            self.ego_abs_idx = start_idx\n",
    "            self.op_abs_idx = start_idx\n",
    "            \n",
    "            self.next_cp_idx = (start_idx + 2)%len(self.checkpoints)\n",
    "            self.op_next_cp_idx = self.next_cp_idx\n",
    "\n",
    "            obs, step_reward, done, info = self.env.reset(\n",
    "                np.array(\n",
    "                    self.begin_pos\n",
    "                )\n",
    "            )\n",
    "        else:  \n",
    "            start_idx = np.random.randint(0, len(self.checkpoints))\n",
    "            start_point = self.checkpoints[start_idx]\n",
    "            self.ego_abs_idx = start_idx\n",
    "            shift = np.random.choice([-4, 4], p=[0., 1.0])\n",
    "            self.ego_forward = True if shift < 0 else False\n",
    "            self.op_abs_idx = start_idx+shift\n",
    "            op_start_idx = (start_idx + shift)%len(self.checkpoints)\n",
    "            op_start_point = self.checkpoints[op_start_idx]\n",
    "            \n",
    "            self.next_cp_idx = (start_idx + 2)%len(self.checkpoints)\n",
    "            self.op_next_cp_idx = (op_start_idx + 2)%len(self.checkpoints)\n",
    "\n",
    "            obs, step_reward, done, info = self.env.reset(\n",
    "                np.array([\n",
    "                   start_point,    \n",
    "                   op_start_point\n",
    "                ])\n",
    "            )\n",
    "        \n",
    "            \n",
    "        self.t = 0\n",
    "        self.op_prev_state = self.to_vector_state_op(obs)\n",
    "        return self.to_vector_state(obs)\n",
    "    \n",
    "    def to_vector_state(self, obs):\n",
    "        ranges = obs['scans'][0]\n",
    "        ranges = ranges[int((self.min_deg/360)*len(ranges)):int((self.max_deg/360)*len(ranges))]\n",
    "        scanner = np.clip(ranges, 0, self.scan_range)\n",
    "        \n",
    "        buck = 3\n",
    "        size = len(scanner)//buck\n",
    "        agg_scanner = np.zeros(size,)\n",
    "        for i in range(size):\n",
    "            agg_scanner[i] = np.min(scanner[i*buck: i*buck+buck])\n",
    "        \n",
    "        agg_scanner /= self.scan_range\n",
    "        state = np.concatenate([\n",
    "            agg_scanner,\n",
    "            np.array(obs['linear_vels_x'][:1])/self.max_v,\n",
    "            np.array(obs['ang_vels_z'][:1])/self.max_v,\n",
    "        ])\n",
    "        \n",
    "        return state\n",
    "    \n",
    "        \n",
    "    def to_vector_state_op(self, obs):\n",
    "        ranges = obs['scans'][1]\n",
    "        ranges = ranges[int((110/360)*len(ranges)):int((250/360)*len(ranges))]\n",
    "        scanner = np.clip(ranges, 0, self.scan_range)\n",
    "        \n",
    "        buck = 3\n",
    "        size = len(scanner)//buck\n",
    "        agg_scanner = np.zeros(size,)\n",
    "        for i in range(size):\n",
    "            agg_scanner[i] = np.min(scanner[i*buck: i*buck+buck])\n",
    "        \n",
    "        agg_scanner /= self.scan_range\n",
    "        state = np.concatenate([\n",
    "            agg_scanner,\n",
    "            np.array(obs['linear_vels_x'][1:])/15.,\n",
    "            np.array(obs['ang_vels_z'][1:])/15.,\n",
    "        ])\n",
    "        \n",
    "        return state\n",
    "    \n",
    "    def checkpoint(self, position, op_position, t):\n",
    "        return_cp_idx = (self.next_cp_idx - 10)%len(self.checkpoints)\n",
    "        return_dist = np.linalg.norm(position - self.checkpoints[return_cp_idx][:2])\n",
    "        dist = np.linalg.norm(position - self.checkpoints[self.next_cp_idx][:2])\n",
    "        opdist = np.linalg.norm(op_position - self.checkpoints[self.op_next_cp_idx ][:2])\n",
    "        \n",
    "        if opdist < self.min_cp_dist:\n",
    "            self.op_passed_cps += 1\n",
    "            self.op_abs_idx += 1\n",
    "            self.op_next_cp_idx = (self.op_next_cp_idx + 1)%len(self.checkpoints)\n",
    "        \n",
    "        reward = 0\n",
    "        if dist < self.min_cp_dist:\n",
    "            self.ego_passed_cps += 1\n",
    "            self.ego_abs_idx += 1\n",
    "            reward = self.cp_reward\n",
    "#             time_diff = t - self.prev_cp_t\n",
    "#             reward = max(self.cp_reward + (0.4 - time_diff)*0.5, self.cp_reward)\n",
    "            self.prev_cp_t = t\n",
    "            self.next_cp_idx = (self.next_cp_idx + 1)%len(self.checkpoints)\n",
    "        \n",
    "        elif return_dist < 3.0:\n",
    "            reward = -1\n",
    "        return reward\n",
    "        \n",
    "        \n",
    "    def step(self, action):\n",
    "        reward = 0\n",
    "\n",
    "        act_v = action[0]*(self.max_v/2)+(self.max_v/2)\n",
    "        self.prev_vel.insert(0, act_v)\n",
    "        self.prev_vel.pop()\n",
    "        th = action[1]*np.pi/6\n",
    "        \n",
    "        op_v, op_th = self.op_policy.get_action(self.op_prev_state)\n",
    "        op_th *= np.pi/6\n",
    "        op_v = op_v*(self.op_base_vel/2)+(self.op_base_vel/2)\n",
    "        \n",
    "        act = np.array([\n",
    "            [th, act_v],\n",
    "            [op_th, op_v]\n",
    "        ])\n",
    "\n",
    "        obs, step_reward, done, info = self.env.step(act)\n",
    "        pose_x = obs['poses_x'][0]\n",
    "        pose_y = obs['poses_y'][0]\n",
    "        \n",
    "        self.op_prev_state = self.to_vector_state_op(obs)\n",
    "        next_state = self.to_vector_state(obs)\n",
    "        position = np.array([pose_x, pose_y])\n",
    "        op_position = np.array([obs['poses_x'][1], obs['poses_y'][1]])\n",
    "    \n",
    "        finish_time = 100\n",
    "        if obs['collisions'][0] == 1.0:\n",
    "            reward = -1\n",
    "            done = True\n",
    "            return next_state, reward, done, {'finish_time': finish_time}\n",
    "            \n",
    "        \n",
    "        if (self.ego_abs_idx > self.op_abs_idx\n",
    "            and not self.ego_forward\n",
    "            and not self.took_over):\n",
    "            #print(\"Agent took over!\")\n",
    "            reward = +1.0\n",
    "            self.took_over = True\n",
    "        \n",
    "#         if self.ego_abs_idx > self.op_abs_idx + 5 and self.test_map_name is None:\n",
    "#             if not self.ego_forward:\n",
    "#                 print(\"AGENT RAN AWAY!\")\n",
    "#                 reward = 0.5\n",
    "#                 done = True\n",
    "    \n",
    "        cp_reward = self.checkpoint(position, op_position, obs['lap_times'][0])\n",
    "        reward += cp_reward\n",
    "        self.t += 1\n",
    "        \n",
    "        if obs['lap_counts'][0] == self.laps:\n",
    "            t = obs['lap_times'][0]  \n",
    "            finish_time = t\n",
    "            if self.took_over:\n",
    "                print(f\"reward {self.cum_r} in {t}. op base speed: {self.op_base_vel}\")\n",
    "            #print(f\"was ahead:{self.ego_forward} and take over:{self.took_over}\")\n",
    "            done = True\n",
    "        elif cp_reward == -1:\n",
    "            t = obs['lap_times'][0]\n",
    "            print(f\"agent on {self.map_path} got reward {self.cum_r} in {t}. RETURNED\")\n",
    "            done = True\n",
    "        elif np.max(self.prev_vel)<3.0:\n",
    "            t = obs['lap_times'][0]\n",
    "            print(f\"agent on {self.map_path} got reward {self.cum_r} in {t}. STOPPED\")\n",
    "            reward = -1\n",
    "            done = True\n",
    "        \n",
    "        if done and self.test_map_name is not None:\n",
    "            print('lap:', obs['lap_times'])\n",
    "        \n",
    "        if np.min(obs['scans'][0]) < self.safe_padding:\n",
    "            reward += self.padding_punish\n",
    "            self.total_padding_punish += self.padding_punish\n",
    "        \n",
    "        self.cum_r += reward\n",
    "        return next_state, reward, done, {'pos': position, 'finish_time': finish_time,\n",
    "                                           'padding': self.total_padding_punish}\n",
    "    \n",
    "    def render(self):\n",
    "        self.env.render()\n",
    "\n",
    "e = F110RaceEnv({})\n",
    "e.reset().shape"
   ]
  },
  {
   "cell_type": "markdown",
   "id": "4a7aefd2",
   "metadata": {},
   "source": [
    "# training"
   ]
  },
  {
   "cell_type": "code",
   "execution_count": null,
   "id": "1504b8ed",
   "metadata": {
    "scrolled": true
   },
   "outputs": [
    {
     "name": "stderr",
     "output_type": "stream",
     "text": [
      "2022-05-12 16:15:22,496\tWARNING ppo.py:223 -- `train_batch_size` (20000) cannot be achieved with your other settings (num_workers=15 num_envs_per_worker=1 rollout_fragment_length=200)! Auto-adjusting `rollout_fragment_length` to 1333.\n",
      "\u001b[2m\u001b[36m(RolloutWorker pid=55491)\u001b[0m 2022-05-12 16:15:30,342\tWARNING deprecation.py:45 -- DeprecationWarning: `rllib.env.remote_vector_env.RemoteVectorEnv` has been deprecated. Use `ray.rllib.env.remote_base_env.RemoteBaseEnv` instead. This will raise an error in the future!\n",
      "\u001b[2m\u001b[36m(RolloutWorker pid=55493)\u001b[0m 2022-05-12 16:15:30,344\tWARNING deprecation.py:45 -- DeprecationWarning: `rllib.env.remote_vector_env.RemoteVectorEnv` has been deprecated. Use `ray.rllib.env.remote_base_env.RemoteBaseEnv` instead. This will raise an error in the future!\n",
      "\u001b[2m\u001b[36m(RolloutWorker pid=55488)\u001b[0m 2022-05-12 16:15:30,342\tWARNING deprecation.py:45 -- DeprecationWarning: `rllib.env.remote_vector_env.RemoteVectorEnv` has been deprecated. Use `ray.rllib.env.remote_base_env.RemoteBaseEnv` instead. This will raise an error in the future!\n",
      "\u001b[2m\u001b[36m(RolloutWorker pid=55497)\u001b[0m 2022-05-12 16:15:30,342\tWARNING deprecation.py:45 -- DeprecationWarning: `rllib.env.remote_vector_env.RemoteVectorEnv` has been deprecated. Use `ray.rllib.env.remote_base_env.RemoteBaseEnv` instead. This will raise an error in the future!\n",
      "\u001b[2m\u001b[36m(RolloutWorker pid=55505)\u001b[0m 2022-05-12 16:15:30,338\tWARNING deprecation.py:45 -- DeprecationWarning: `rllib.env.remote_vector_env.RemoteVectorEnv` has been deprecated. Use `ray.rllib.env.remote_base_env.RemoteBaseEnv` instead. This will raise an error in the future!\n",
      "\u001b[2m\u001b[36m(RolloutWorker pid=55495)\u001b[0m 2022-05-12 16:15:30,342\tWARNING deprecation.py:45 -- DeprecationWarning: `rllib.env.remote_vector_env.RemoteVectorEnv` has been deprecated. Use `ray.rllib.env.remote_base_env.RemoteBaseEnv` instead. This will raise an error in the future!\n",
      "\u001b[2m\u001b[36m(RolloutWorker pid=55489)\u001b[0m 2022-05-12 16:15:30,339\tWARNING deprecation.py:45 -- DeprecationWarning: `rllib.env.remote_vector_env.RemoteVectorEnv` has been deprecated. Use `ray.rllib.env.remote_base_env.RemoteBaseEnv` instead. This will raise an error in the future!\n",
      "\u001b[2m\u001b[36m(RolloutWorker pid=55473)\u001b[0m 2022-05-12 16:15:30,342\tWARNING deprecation.py:45 -- DeprecationWarning: `rllib.env.remote_vector_env.RemoteVectorEnv` has been deprecated. Use `ray.rllib.env.remote_base_env.RemoteBaseEnv` instead. This will raise an error in the future!\n",
      "\u001b[2m\u001b[36m(RolloutWorker pid=55504)\u001b[0m 2022-05-12 16:15:30,339\tWARNING deprecation.py:45 -- DeprecationWarning: `rllib.env.remote_vector_env.RemoteVectorEnv` has been deprecated. Use `ray.rllib.env.remote_base_env.RemoteBaseEnv` instead. This will raise an error in the future!\n",
      "\u001b[2m\u001b[36m(RolloutWorker pid=55479)\u001b[0m 2022-05-12 16:15:30,344\tWARNING deprecation.py:45 -- DeprecationWarning: `rllib.env.remote_vector_env.RemoteVectorEnv` has been deprecated. Use `ray.rllib.env.remote_base_env.RemoteBaseEnv` instead. This will raise an error in the future!\n",
      "\u001b[2m\u001b[36m(RolloutWorker pid=55503)\u001b[0m 2022-05-12 16:15:30,335\tWARNING deprecation.py:45 -- DeprecationWarning: `rllib.env.remote_vector_env.RemoteVectorEnv` has been deprecated. Use `ray.rllib.env.remote_base_env.RemoteBaseEnv` instead. This will raise an error in the future!\n",
      "\u001b[2m\u001b[36m(RolloutWorker pid=55474)\u001b[0m 2022-05-12 16:15:30,344\tWARNING deprecation.py:45 -- DeprecationWarning: `rllib.env.remote_vector_env.RemoteVectorEnv` has been deprecated. Use `ray.rllib.env.remote_base_env.RemoteBaseEnv` instead. This will raise an error in the future!\n",
      "\u001b[2m\u001b[36m(RolloutWorker pid=55484)\u001b[0m 2022-05-12 16:15:30,345\tWARNING deprecation.py:45 -- DeprecationWarning: `rllib.env.remote_vector_env.RemoteVectorEnv` has been deprecated. Use `ray.rllib.env.remote_base_env.RemoteBaseEnv` instead. This will raise an error in the future!\n",
      "\u001b[2m\u001b[36m(RolloutWorker pid=55483)\u001b[0m 2022-05-12 16:15:30,345\tWARNING deprecation.py:45 -- DeprecationWarning: `rllib.env.remote_vector_env.RemoteVectorEnv` has been deprecated. Use `ray.rllib.env.remote_base_env.RemoteBaseEnv` instead. This will raise an error in the future!\n",
      "\u001b[2m\u001b[36m(RolloutWorker pid=55492)\u001b[0m 2022-05-12 16:15:30,338\tWARNING deprecation.py:45 -- DeprecationWarning: `rllib.env.remote_vector_env.RemoteVectorEnv` has been deprecated. Use `ray.rllib.env.remote_base_env.RemoteBaseEnv` instead. This will raise an error in the future!\n",
      "2022-05-12 16:15:30,486\tWARNING util.py:55 -- Install gputil for GPU system monitoring.\n"
     ]
    },
    {
     "name": "stdout",
     "output_type": "stream",
     "text": [
      "{'num_workers': 15, 'num_envs_per_worker': 1, 'create_env_on_driver': False, 'rollout_fragment_length': 1333, 'batch_mode': 'truncate_episodes', 'gamma': 0.99, 'lr': 0.0003, 'train_batch_size': 20000, 'model': {'_use_default_native_models': False, '_disable_preprocessor_api': False, 'fcnet_hiddens': [300, 300], 'fcnet_activation': 'tanh', 'conv_filters': None, 'conv_activation': 'relu', 'post_fcnet_hiddens': [], 'post_fcnet_activation': 'relu', 'free_log_std': False, 'no_final_linear': False, 'vf_share_layers': False, 'use_lstm': False, 'max_seq_len': 20, 'lstm_cell_size': 256, 'lstm_use_prev_action': False, 'lstm_use_prev_reward': False, '_time_major': False, 'use_attention': False, 'attention_num_transformer_units': 1, 'attention_dim': 64, 'attention_num_heads': 1, 'attention_head_dim': 32, 'attention_memory_inference': 50, 'attention_memory_training': 50, 'attention_position_wise_mlp_dim': 32, 'attention_init_gru_gate_bias': 2.0, 'attention_use_n_prev_actions': 0, 'attention_use_n_prev_rewards': 0, 'framestack': True, 'dim': 84, 'grayscale': False, 'zero_mean': True, 'custom_model': None, 'custom_model_config': {}, 'custom_action_dist': None, 'custom_preprocessor': None, 'lstm_use_prev_action_reward': -1}, 'optimizer': {}, 'horizon': None, 'soft_horizon': False, 'no_done_at_end': False, 'env': 'F110RaceEnv', 'observation_space': None, 'action_space': None, 'env_config': {}, 'remote_worker_envs': False, 'remote_env_batch_wait_ms': 0, 'env_task_fn': None, 'render_env': False, 'record_env': False, 'clip_rewards': None, 'normalize_actions': True, 'clip_actions': False, 'preprocessor_pref': 'deepmind', 'log_level': 'WARN', 'callbacks': <class 'ray.rllib.agents.callbacks.DefaultCallbacks'>, 'ignore_worker_failures': False, 'log_sys_usage': True, 'fake_sampler': False, 'framework': 'torch', 'eager_tracing': False, 'eager_max_retraces': 20, 'explore': True, 'exploration_config': {'type': 'StochasticSampling'}, 'evaluation_interval': None, 'evaluation_duration': 10, 'evaluation_duration_unit': 'episodes', 'evaluation_parallel_to_training': False, 'in_evaluation': False, 'evaluation_config': {'num_workers': 15, 'num_envs_per_worker': 1, 'create_env_on_driver': False, 'rollout_fragment_length': 1333, 'batch_mode': 'truncate_episodes', 'gamma': 0.99, 'lr': 0.0003, 'train_batch_size': 20000, 'model': {'_use_default_native_models': False, '_disable_preprocessor_api': False, 'fcnet_hiddens': [300, 300], 'fcnet_activation': 'tanh', 'conv_filters': None, 'conv_activation': 'relu', 'post_fcnet_hiddens': [], 'post_fcnet_activation': 'relu', 'free_log_std': False, 'no_final_linear': False, 'vf_share_layers': False, 'use_lstm': False, 'max_seq_len': 20, 'lstm_cell_size': 256, 'lstm_use_prev_action': False, 'lstm_use_prev_reward': False, '_time_major': False, 'use_attention': False, 'attention_num_transformer_units': 1, 'attention_dim': 64, 'attention_num_heads': 1, 'attention_head_dim': 32, 'attention_memory_inference': 50, 'attention_memory_training': 50, 'attention_position_wise_mlp_dim': 32, 'attention_init_gru_gate_bias': 2.0, 'attention_use_n_prev_actions': 0, 'attention_use_n_prev_rewards': 0, 'framestack': True, 'dim': 84, 'grayscale': False, 'zero_mean': True, 'custom_model': None, 'custom_model_config': {}, 'custom_action_dist': None, 'custom_preprocessor': None, 'lstm_use_prev_action_reward': -1}, 'optimizer': {}, 'horizon': None, 'soft_horizon': False, 'no_done_at_end': False, 'env': 'F110RaceEnv', 'observation_space': None, 'action_space': None, 'env_config': {}, 'remote_worker_envs': False, 'remote_env_batch_wait_ms': 0, 'env_task_fn': None, 'render_env': False, 'record_env': False, 'clip_rewards': None, 'normalize_actions': True, 'clip_actions': False, 'preprocessor_pref': 'deepmind', 'log_level': 'WARN', 'callbacks': <class 'ray.rllib.agents.callbacks.DefaultCallbacks'>, 'ignore_worker_failures': False, 'log_sys_usage': True, 'fake_sampler': False, 'framework': 'torch', 'eager_tracing': False, 'eager_max_retraces': 20, 'explore': True, 'exploration_config': {'type': 'StochasticSampling'}, 'evaluation_interval': None, 'evaluation_duration': 10, 'evaluation_duration_unit': 'episodes', 'evaluation_parallel_to_training': False, 'in_evaluation': False, 'evaluation_config': {}, 'evaluation_num_workers': 0, 'custom_eval_function': None, 'always_attach_evaluation_results': False, 'sample_async': False, 'sample_collector': <class 'ray.rllib.evaluation.collectors.simple_list_collector.SimpleListCollector'>, 'observation_filter': 'NoFilter', 'synchronize_filters': True, 'tf_session_args': {'intra_op_parallelism_threads': 2, 'inter_op_parallelism_threads': 2, 'gpu_options': {'allow_growth': True}, 'log_device_placement': False, 'device_count': {'CPU': 1}, 'allow_soft_placement': True}, 'local_tf_session_args': {'intra_op_parallelism_threads': 8, 'inter_op_parallelism_threads': 8}, 'compress_observations': False, 'metrics_episode_collection_timeout_s': 180, 'metrics_num_episodes_for_smoothing': 100, 'min_time_s_per_reporting': None, 'min_train_timesteps_per_reporting': None, 'min_sample_timesteps_per_reporting': 0, 'seed': None, 'extra_python_environs_for_driver': {}, 'extra_python_environs_for_worker': {}, 'num_gpus': 1.0, '_fake_gpus': False, 'num_cpus_per_worker': 1, 'num_gpus_per_worker': 0, 'custom_resources_per_worker': {}, 'num_cpus_for_driver': 1, 'placement_strategy': 'PACK', 'input': 'sampler', 'input_config': {}, 'actions_in_input_normalized': False, 'input_evaluation': ['is', 'wis'], 'postprocess_inputs': False, 'shuffle_buffer_size': 0, 'output': None, 'output_compress_columns': ['obs', 'new_obs'], 'output_max_file_size': 67108864, 'multiagent': {'policies': {'default_policy': PolicySpec(policy_class=<class 'ray.rllib.agents.ppo.ppo_torch_policy.PPOTorchPolicy'>, observation_space=None, action_space=None, config={})}, 'policy_map_capacity': 100, 'policy_map_cache': None, 'policy_mapping_fn': None, 'policies_to_train': None, 'observation_fn': None, 'replay_mode': 'independent', 'count_steps_by': 'env_steps'}, 'logger_config': None, '_tf_policy_handles_more_than_one_loss': False, '_disable_preprocessor_api': False, '_disable_action_flattening': False, '_disable_execution_plan_api': False, 'simple_optimizer': False, 'monitor': -1, 'evaluation_num_episodes': -1, 'metrics_smoothing_episodes': -1, 'timesteps_per_iteration': 0, 'min_iter_time_s': -1, 'collect_metrics_timeout': -1, 'use_critic': True, 'use_gae': True, 'lambda': 1.0, 'kl_coeff': 1.0, 'sgd_minibatch_size': 409, 'shuffle_sequences': True, 'num_sgd_iter': 30, 'lr_schedule': None, 'vf_loss_coeff': 1.0, 'entropy_coeff': 0.0, 'entropy_coeff_schedule': None, 'clip_param': 0.2, 'vf_clip_param': 10.0, 'grad_clip': None, 'kl_target': 0.01, 'vf_share_layers': -1}, 'evaluation_num_workers': 0, 'custom_eval_function': None, 'always_attach_evaluation_results': False, 'sample_async': False, 'sample_collector': <class 'ray.rllib.evaluation.collectors.simple_list_collector.SimpleListCollector'>, 'observation_filter': 'NoFilter', 'synchronize_filters': True, 'tf_session_args': {'intra_op_parallelism_threads': 2, 'inter_op_parallelism_threads': 2, 'gpu_options': {'allow_growth': True}, 'log_device_placement': False, 'device_count': {'CPU': 1}, 'allow_soft_placement': True}, 'local_tf_session_args': {'intra_op_parallelism_threads': 8, 'inter_op_parallelism_threads': 8}, 'compress_observations': False, 'metrics_episode_collection_timeout_s': 180, 'metrics_num_episodes_for_smoothing': 100, 'min_time_s_per_reporting': None, 'min_train_timesteps_per_reporting': None, 'min_sample_timesteps_per_reporting': 0, 'seed': None, 'extra_python_environs_for_driver': {}, 'extra_python_environs_for_worker': {}, 'num_gpus': 1.0, '_fake_gpus': False, 'num_cpus_per_worker': 1, 'num_gpus_per_worker': 0, 'custom_resources_per_worker': {}, 'num_cpus_for_driver': 1, 'placement_strategy': 'PACK', 'input': 'sampler', 'input_config': {}, 'actions_in_input_normalized': False, 'input_evaluation': ['is', 'wis'], 'postprocess_inputs': False, 'shuffle_buffer_size': 0, 'output': None, 'output_compress_columns': ['obs', 'new_obs'], 'output_max_file_size': 67108864, 'multiagent': {'policies': {'default_policy': PolicySpec(policy_class=<class 'ray.rllib.agents.ppo.ppo_torch_policy.PPOTorchPolicy'>, observation_space=None, action_space=None, config={})}, 'policy_map_capacity': 100, 'policy_map_cache': None, 'policy_mapping_fn': None, 'policies_to_train': None, 'observation_fn': None, 'replay_mode': 'independent', 'count_steps_by': 'env_steps'}, 'logger_config': None, '_tf_policy_handles_more_than_one_loss': False, '_disable_preprocessor_api': False, '_disable_action_flattening': False, '_disable_execution_plan_api': False, 'simple_optimizer': False, 'monitor': -1, 'evaluation_num_episodes': -1, 'metrics_smoothing_episodes': -1, 'timesteps_per_iteration': 0, 'min_iter_time_s': -1, 'collect_metrics_timeout': -1, 'use_critic': True, 'use_gae': True, 'lambda': 1.0, 'kl_coeff': 1.0, 'sgd_minibatch_size': 409, 'shuffle_sequences': True, 'num_sgd_iter': 30, 'lr_schedule': None, 'vf_loss_coeff': 1.0, 'entropy_coeff': 0.0, 'entropy_coeff_schedule': None, 'clip_param': 0.2, 'vf_clip_param': 10.0, 'grad_clip': None, 'kl_target': 0.01, 'vf_share_layers': -1}\n"
     ]
    },
    {
     "name": "stdout",
     "output_type": "stream",
     "text": [
      "episode: 0 reward:-0.9836271186440678\n",
      "episode: 1 reward:-0.9814336917562726\n",
      "episode: 2 reward:-0.976706827309237\n",
      "episode: 3 reward:-0.9702777777777778\n",
      "episode: 4 reward:-0.9599415204678361\n"
     ]
    },
    {
     "name": "stderr",
     "output_type": "stream",
     "text": [
      "2022-05-12 16:19:07,738\tWARNING deprecation.py:45 -- DeprecationWarning: `clear_buffer` has been deprecated. Use `Filter.reset_buffer()` instead. This will raise an error in the future!\n"
     ]
    },
    {
     "name": "stdout",
     "output_type": "stream",
     "text": [
      "evaluation time: 100.0\n",
      "checkpoint saved at ../checkpoints/race_v2.4.4/checkpoint_000005/checkpoint-5\n",
      "episode: 5 reward:-0.9467763157894736\n",
      "episode: 6 reward:-0.9336434108527132\n",
      "episode: 7 reward:-0.913904761904762\n",
      "episode: 8 reward:-0.8945000000000001\n",
      "episode: 9 reward:-0.8504999999999999\n",
      "episode: 11 reward:-0.7716000000000001\n",
      "episode: 12 reward:-0.7132999999999999\n",
      "episode: 13 reward:-0.6598999999999998\n",
      "\u001b[2m\u001b[36m(RolloutWorker pid=55489)\u001b[0m reward 2.109999999999998 in 41.46000000000032. op base speed: 6.051091539662439\n",
      "episode: 14 reward:-0.5442999999999999\n",
      "lap: [43.56 43.56]\n",
      "evaluation time: 43.5599999999999\n",
      "checkpoint saved at ../checkpoints/race_v2.4.4/checkpoint_000015/checkpoint-15\n",
      "episode: 15 reward:-0.4499999999999998\n",
      "episode: 16 reward:-0.34619999999999984\n",
      "episode: 17 reward:-0.2538999999999998\n",
      "\u001b[2m\u001b[36m(RolloutWorker pid=55484)\u001b[0m reward 2.109999999999998 in 45.659999999999485. op base speed: 5.393877958462982\n",
      "episode: 18 reward:-0.14949999999999972\n",
      "\u001b[2m\u001b[36m(RolloutWorker pid=55503)\u001b[0m reward 2.109999999999998 in 46.94999999999923. op base speed: 5.185849014898663\n",
      "episode: 19 reward:-0.06559999999999974\n",
      "lap: [44.72 44.72]\n",
      "evaluation time: 44.71999999999967\n",
      "checkpoint saved at ../checkpoints/race_v2.4.4/checkpoint_000020/checkpoint-20\n",
      "episode: 20 reward:-0.10409999999999972\n"
     ]
    }
   ],
   "source": [
    "%%time\n",
    "\n",
    "import ray\n",
    "from ray.rllib.agents import ppo\n",
    "from ray.rllib.agents.ppo.ppo import DEFAULT_CONFIG\n",
    "\n",
    "ray.shutdown()\n",
    "ray.init()\n",
    "\n",
    "\n",
    "# with half cheeta configs\n",
    "\n",
    "hc_configs = {\n",
    "    'framework': 'torch',\n",
    "    'num_workers': 15,\n",
    "    'gamma': 0.99,\n",
    "    'num_gpus': 1.0,\n",
    "    'kl_coeff': 1.0,\n",
    "    'clip_param': 0.2,\n",
    "    'model': {\n",
    "        'fcnet_hiddens': [300, 300]\n",
    "    },\n",
    "    #'num_gpus_per_worker': 1/15,\n",
    "    'num_envs_per_worker': 1,\n",
    "    'train_batch_size': 20000,\n",
    "    'sgd_minibatch_size': 409,\n",
    "    'batch_mode': 'truncate_episodes',\n",
    "    'lr': .0003,\n",
    "#     'horizon': 8000\n",
    "}\n",
    "\n",
    "\n",
    "trainer = ppo.PPOTrainer(env=F110RaceEnv, config=hc_configs)\n",
    "#print(\"FINE TUNING\")\n",
    "#trainer.restore('../checkpoints/race_v2.4.2/checkpoint_000020/checkpoint-20')\n",
    "\n",
    "print(trainer.config)\n",
    "rewards = []\n",
    "eval_rewards = []\n",
    "best_time = 1000\n",
    "models_path = '../checkpoints'\n",
    "\n",
    "import pickle\n",
    "\n",
    "def evaluate(model, env, k):\n",
    "    avg_time = []\n",
    "    \n",
    "    for _ in range(k):\n",
    "        done = False\n",
    "        obs = env.reset()\n",
    "\n",
    "        r = 0\n",
    "        while not done:\n",
    "            action = model.compute_single_action(obs, explore=False)\n",
    "            obs, reward, done, info = env.step(action)\n",
    "            r += reward\n",
    "\n",
    "        avg_time.append(info['finish_time'])\n",
    "        \n",
    "    return np.mean(avg_time)\n",
    "\n",
    "\n",
    "sim_name = 'race_v2.4.4'\n",
    "best_reward = -100\n",
    "eval_env = F110RaceEnv({}, test_map_name='Oschersleben', laps=1)\n",
    "\n",
    "for i in range(300):\n",
    "    result = trainer.train()\n",
    "    episode_r = result['episode_reward_mean']\n",
    "    print(f\"episode: {i} reward:{episode_r}\")\n",
    "    rewards.append(episode_r)\n",
    "    with open(f'{models_path}/{sim_name}_r', 'wb') as f:\n",
    "        pickle.dump(rewards, f)\n",
    "        \n",
    "    if (i+1)%5 == 0:\n",
    "        eval_time = evaluate(trainer, eval_env, k=1)\n",
    "        print(f\"evaluation time: {eval_time}\") \n",
    "        eval_rewards.append(eval_time)\n",
    "        with open(f'{models_path}/{sim_name}_er', 'wb') as f:\n",
    "            pickle.dump(eval_rewards, f)\n",
    "        if episode_r > best_reward:\n",
    "            best_reward = episode_r\n",
    "            cp = trainer.save(f\"{models_path}/{sim_name}\")\n",
    "            print(\"checkpoint saved at\", cp)\n"
   ]
  },
  {
   "cell_type": "code",
   "execution_count": 7,
   "id": "26d0e6f5",
   "metadata": {},
   "outputs": [],
   "source": [
    "#!rm -rf ../checkpoints/race_v2.1.1"
   ]
  },
  {
   "cell_type": "markdown",
   "id": "703f7c63",
   "metadata": {},
   "source": [
    "## evaluation"
   ]
  },
  {
   "cell_type": "code",
   "execution_count": 8,
   "id": "1e038e65",
   "metadata": {},
   "outputs": [
    {
     "name": "stderr",
     "output_type": "stream",
     "text": [
      "\u001b[2m\u001b[36m(RolloutWorker pid=10211)\u001b[0m 2022-05-11 19:20:33,764\tWARNING deprecation.py:45 -- DeprecationWarning: `rllib.env.remote_vector_env.RemoteVectorEnv` has been deprecated. Use `ray.rllib.env.remote_base_env.RemoteBaseEnv` instead. This will raise an error in the future!\n",
      "\u001b[2m\u001b[36m(RolloutWorker pid=10206)\u001b[0m 2022-05-11 19:20:34,376\tWARNING deprecation.py:45 -- DeprecationWarning: `rllib.env.remote_vector_env.RemoteVectorEnv` has been deprecated. Use `ray.rllib.env.remote_base_env.RemoteBaseEnv` instead. This will raise an error in the future!\n",
      "2022-05-11 19:20:34,639\tWARNING deprecation.py:45 -- DeprecationWarning: `rllib.env.remote_vector_env.RemoteVectorEnv` has been deprecated. Use `ray.rllib.env.remote_base_env.RemoteBaseEnv` instead. This will raise an error in the future!\n",
      "2022-05-11 19:20:34,644\tWARNING util.py:55 -- Install gputil for GPU system monitoring.\n",
      "2022-05-11 19:20:34,700\tINFO trainable.py:472 -- Restored on 10.64.91.46 from checkpoint: ../checkpoints/race_v2.3.4/checkpoint_000031/checkpoint-31\n",
      "2022-05-11 19:20:34,701\tINFO trainable.py:480 -- Current state after restoring: {'_iteration': 31, '_timesteps_total': 6199380, '_time_total': 2651.6065838336945, '_episodes_total': 11731}\n"
     ]
    }
   ],
   "source": [
    "import ray\n",
    "from ray.rllib.agents import ppo\n",
    "from ray.rllib.agents.ppo.ppo import DEFAULT_CONFIG\n",
    "\n",
    "DEFAULT_CONFIG['framework'] = 'torch'\n",
    "DEFAULT_CONFIG['num_workers'] = 0\n",
    "DEFAULT_CONFIG['num_gpus'] = 0\n",
    "DEFAULT_CONFIG['model']['fcnet_hiddens'] = [300, 300]\n",
    "DEFAULT_CONFIG[\"evaluation_num_workers\"] = 0\n",
    "DEFAULT_CONFIG[\"evaluation_config\"][\"render_env\"] = False\n",
    "DEFAULT_CONFIG[\"evaluation_config\"][\"explore\"] = False\n",
    "DEFAULT_CONFIG['explore'] = False\n",
    "\n",
    "trainer = ppo.PPOTrainer(env=F110RaceEnv, config=DEFAULT_CONFIG)\n",
    "trainer.restore('../checkpoints/race_v2.3.4/checkpoint_000031/checkpoint-31')\n",
    "\n"
   ]
  },
  {
   "cell_type": "code",
   "execution_count": 8,
   "id": "42e69c6a",
   "metadata": {},
   "outputs": [
    {
     "name": "stdout",
     "output_type": "stream",
     "text": [
      "agent on ../maps/Oschersleben got reward 16.814999999999092 in 33.27000000000195. Finish reward: 0. Padding punish: 0.0\n",
      "take over: False\n",
      "lap: [33.27 33.27]\n",
      "reward:16.814999999999092\n"
     ]
    }
   ],
   "source": [
    "done = False\n",
    "env = F110RaceEnv({}, test_map_name='Oschersleben', laps=1)\n",
    "obs = env.reset()\n",
    "poses = []\n",
    "hist = []\n",
    "\n",
    "r = 0\n",
    "i = 0\n",
    "while not done:\n",
    "    i += 1\n",
    "    action = trainer.compute_single_action(obs, explore=False)\n",
    "    obs, reward, done, info = env.step(action)\n",
    "    if 'pos' in info:\n",
    "        pos = info['pos'] \n",
    "        hist.append([obs[-2], reward, done, pos])\n",
    "    \n",
    "    if i % 100 == 0 and len(pos)>0:\n",
    "        poses.append(pos)\n",
    "    r += reward\n",
    "    \n",
    "print(f'reward:{r}')\n",
    "env.close()\n",
    "\n",
    "# hist"
   ]
  },
  {
   "cell_type": "code",
   "execution_count": 10,
   "id": "5fc51286",
   "metadata": {},
   "outputs": [
    {
     "data": {
      "text/plain": [
       "<matplotlib.collections.PathCollection at 0x2addba0054f0>"
      ]
     },
     "execution_count": 10,
     "metadata": {},
     "output_type": "execute_result"
    },
    {
     "data": {
      "image/png": "[encoded data removed]",
      "text/plain": [
       "<Figure size 432x288 with 1 Axes>"
      ]
     },
     "metadata": {
      "needs_background": "light"
     },
     "output_type": "display_data"
    }
   ],
   "source": [
    "import matplotlib.pyplot as plt\n",
    "\n",
    "wps = np.array([i[-1] for i in hist])\n",
    "\n",
    "plt.scatter(wps[:,0], wps[:,1], c='b')\n",
    "plt.scatter(wps[0,0], wps[0,1], c='r')\n",
    "\n"
   ]
  },
  {
   "cell_type": "markdown",
   "id": "5da9697f",
   "metadata": {},
   "source": [
    "## Exporting models"
   ]
  },
  {
   "cell_type": "code",
   "execution_count": 5,
   "id": "16d9dd94",
   "metadata": {},
   "outputs": [
    {
     "ename": "NameError",
     "evalue": "name 'trainer' is not defined",
     "output_type": "error",
     "traceback": [
      "\u001b[0;31m---------------------------------------------------------------------------\u001b[0m",
      "\u001b[0;31mNameError\u001b[0m                                 Traceback (most recent call last)",
      "\u001b[0;32m/scratch/10468126/ipykernel_1096/801735876.py\u001b[0m in \u001b[0;36m<module>\u001b[0;34m\u001b[0m\n\u001b[1;32m      1\u001b[0m \u001b[0;32mimport\u001b[0m \u001b[0mtorch\u001b[0m\u001b[0;34m\u001b[0m\u001b[0;34m\u001b[0m\u001b[0m\n\u001b[1;32m      2\u001b[0m \u001b[0;34m\u001b[0m\u001b[0m\n\u001b[0;32m----> 3\u001b[0;31m \u001b[0mpolicy_model\u001b[0m \u001b[0;34m=\u001b[0m \u001b[0mtrainer\u001b[0m\u001b[0;34m.\u001b[0m\u001b[0mget_policy\u001b[0m\u001b[0;34m(\u001b[0m\u001b[0;34m)\u001b[0m\u001b[0;34m.\u001b[0m\u001b[0mmodel\u001b[0m\u001b[0;34m\u001b[0m\u001b[0;34m\u001b[0m\u001b[0m\n\u001b[0m\u001b[1;32m      4\u001b[0m \u001b[0mpolicy_model_hiddens\u001b[0m \u001b[0;34m=\u001b[0m \u001b[0mpolicy_model\u001b[0m\u001b[0;34m.\u001b[0m\u001b[0m_hidden_layers\u001b[0m\u001b[0;34m\u001b[0m\u001b[0;34m\u001b[0m\u001b[0m\n\u001b[1;32m      5\u001b[0m \u001b[0mpolicy_model_logits\u001b[0m \u001b[0;34m=\u001b[0m \u001b[0mpolicy_model\u001b[0m\u001b[0;34m.\u001b[0m\u001b[0m_logits\u001b[0m\u001b[0;34m\u001b[0m\u001b[0;34m\u001b[0m\u001b[0m\n",
      "\u001b[0;31mNameError\u001b[0m: name 'trainer' is not defined"
     ]
    }
   ],
   "source": [
    "import torch\n",
    "\n",
    "policy_model = trainer.get_policy().model\n",
    "policy_model_hiddens = policy_model._hidden_layers\n",
    "policy_model_logits = policy_model._logits\n",
    "policy_model_hiddens"
   ]
  },
  {
   "cell_type": "code",
   "execution_count": 4,
   "id": "3e511f8b",
   "metadata": {},
   "outputs": [
    {
     "ename": "NameError",
     "evalue": "name 'policy_model_hiddens' is not defined",
     "output_type": "error",
     "traceback": [
      "\u001b[0;31m---------------------------------------------------------------------------\u001b[0m",
      "\u001b[0;31mNameError\u001b[0m                                 Traceback (most recent call last)",
      "\u001b[0;32m/scratch/10468126/ipykernel_1096/2373385990.py\u001b[0m in \u001b[0;36m<module>\u001b[0;34m\u001b[0m\n\u001b[1;32m      1\u001b[0m \u001b[0mpolicy_path\u001b[0m \u001b[0;34m=\u001b[0m \u001b[0;34m'../checkpoints/race_v2.0.4.pt'\u001b[0m\u001b[0;34m\u001b[0m\u001b[0;34m\u001b[0m\u001b[0m\n\u001b[1;32m      2\u001b[0m torch.save({\n\u001b[0;32m----> 3\u001b[0;31m     \u001b[0;34m'h1'\u001b[0m\u001b[0;34m:\u001b[0m \u001b[0mpolicy_model_hiddens\u001b[0m\u001b[0;34m[\u001b[0m\u001b[0;36m0\u001b[0m\u001b[0;34m]\u001b[0m\u001b[0;34m.\u001b[0m\u001b[0m_model\u001b[0m\u001b[0;34m.\u001b[0m\u001b[0mstate_dict\u001b[0m\u001b[0;34m(\u001b[0m\u001b[0;34m)\u001b[0m\u001b[0;34m,\u001b[0m\u001b[0;34m\u001b[0m\u001b[0;34m\u001b[0m\u001b[0m\n\u001b[0m\u001b[1;32m      4\u001b[0m     \u001b[0;34m'h2'\u001b[0m\u001b[0;34m:\u001b[0m \u001b[0mpolicy_model_hiddens\u001b[0m\u001b[0;34m[\u001b[0m\u001b[0;36m1\u001b[0m\u001b[0;34m]\u001b[0m\u001b[0;34m.\u001b[0m\u001b[0m_model\u001b[0m\u001b[0;34m.\u001b[0m\u001b[0mstate_dict\u001b[0m\u001b[0;34m(\u001b[0m\u001b[0;34m)\u001b[0m\u001b[0;34m,\u001b[0m\u001b[0;34m\u001b[0m\u001b[0;34m\u001b[0m\u001b[0m\n\u001b[1;32m      5\u001b[0m     \u001b[0;34m'logits'\u001b[0m\u001b[0;34m:\u001b[0m \u001b[0mpolicy_model_logits\u001b[0m\u001b[0;34m.\u001b[0m\u001b[0m_model\u001b[0m\u001b[0;34m.\u001b[0m\u001b[0mstate_dict\u001b[0m\u001b[0;34m(\u001b[0m\u001b[0;34m)\u001b[0m\u001b[0;34m\u001b[0m\u001b[0;34m\u001b[0m\u001b[0m\n",
      "\u001b[0;31mNameError\u001b[0m: name 'policy_model_hiddens' is not defined"
     ]
    }
   ],
   "source": [
    "policy_path = '../checkpoints/race_v2.0.4.pt'\n",
    "torch.save({\n",
    "    'h1': policy_model_hiddens[0]._model.state_dict(),\n",
    "    'h2': policy_model_hiddens[1]._model.state_dict(),\n",
    "    'logits': policy_model_logits._model.state_dict()\n",
    "}, policy_path)"
   ]
  },
  {
   "cell_type": "code",
   "execution_count": null,
   "id": "dd8eb264",
   "metadata": {},
   "outputs": [],
   "source": [
    "class Policy(torch.nn.Module):\n",
    "    def __init__(self):\n",
    "        super(Policy, self).__init__()\n",
    "        \n",
    "        self.h1 = torch.nn.Sequential(\n",
    "                torch.nn.Linear(in_features=182, out_features=300, bias=True),\n",
    "                torch.nn.Tanh()\n",
    "            )\n",
    "        self.h2 = torch.nn.Sequential(\n",
    "            torch.nn.Linear(in_features=300, out_features=300, bias=True),\n",
    "            torch.nn.Tanh()\n",
    "        )\n",
    "        \n",
    "        self.logits =  torch.nn.Sequential(\n",
    "            torch.nn.Linear(in_features=300, out_features=4, bias=True),\n",
    "        )\n",
    "        \n",
    "    def forward(self, x):\n",
    "        x = self.h1(x)\n",
    "        x = self.h2(x)\n",
    "        return self.logits(x)\n",
    "\n",
    "exported_policy = Policy()\n",
    "exported_policy.h1.load_state_dict(torch.load(policy_path)['h1'])\n",
    "exported_policy.h2.load_state_dict(torch.load(policy_path)['h2'])\n",
    "exported_policy.logits.load_state_dict(torch.load(policy_path)['logits'])\n",
    "exported_policy.eval()"
   ]
  },
  {
   "cell_type": "code",
   "execution_count": null,
   "id": "85e11a3f",
   "metadata": {},
   "outputs": [],
   "source": [
    "done = False\n",
    "env = F110RaceEnv({}, test_map_name='Oschersleben1')\n",
    "obs = env.reset()\n",
    "poses = []\n",
    "hist = []\n",
    "\n",
    "r = 0\n",
    "i = 0\n",
    "while not done:\n",
    "    i += 1\n",
    "    obs_t = torch.tensor(obs, dtype=torch.float32)\n",
    "    output = exported_policy(obs_t).detach().numpy()\n",
    "    v = output[0]\n",
    "    th = output[1]\n",
    "#     v = np.clip(v, -1, 1)\n",
    "#     th = np.clip(th, -1, 1)\n",
    "    obs, reward, done, info = env.step([v, th])\n",
    "#     print(obs[-2:])\n",
    "    if 'pos' in info:\n",
    "        pos = info['pos'] \n",
    "        hist.append([obs[-2], reward, done, pos])\n",
    "    \n",
    "    if i % 100 == 0 and len(pos)>0:\n",
    "        poses.append(pos)\n",
    "    r += reward\n",
    "    env.render()\n",
    "print(f'reward:{r}')\n",
    "env.close()\n",
    "\n",
    "# hist"
   ]
  },
  {
   "cell_type": "markdown",
   "id": "6f8f2783",
   "metadata": {},
   "source": [
    "## Reward plots"
   ]
  },
  {
   "cell_type": "code",
   "execution_count": 44,
   "id": "deb0e53d",
   "metadata": {},
   "outputs": [
    {
     "data": {
      "text/plain": [
       "[<matplotlib.lines.Line2D at 0x2af547ecaa90>]"
      ]
     },
     "execution_count": 44,
     "metadata": {},
     "output_type": "execute_result"
    },
    {
     "data": {
      "image/png": "[encoded data removed]",
      "text/plain": [
       "<Figure size 432x288 with 1 Axes>"
      ]
     },
     "metadata": {
      "needs_background": "light"
     },
     "output_type": "display_data"
    }
   ],
   "source": [
    "import matplotlib.pyplot as plt\n",
    "import pickle \n",
    "\n",
    "with open('checkpoints/race_v1.1_r', 'rb') as f:\n",
    "    rs = pickle.load(f)\n",
    "    \n",
    "plt.plot(rs)"
   ]
  },
  {
   "cell_type": "code",
   "execution_count": 7,
   "id": "a9224554",
   "metadata": {},
   "outputs": [
    {
     "data": {
      "text/plain": [
       "[<matplotlib.lines.Line2D at 0x2b03fad394f0>]"
      ]
     },
     "execution_count": 7,
     "metadata": {},
     "output_type": "execute_result"
    },
    {
     "data": {
      "image/png": "[encoded data removed]",
      "text/plain": [
       "<Figure size 432x288 with 1 Axes>"
      ]
     },
     "metadata": {
      "needs_background": "light"
     },
     "output_type": "display_data"
    }
   ],
   "source": [
    "import matplotlib.pyplot as plt\n",
    "import pickle \n",
    "\n",
    "with open('../checkpoints/race_v2.3.0_r', 'rb') as f:\n",
    "    rs = pickle.load(f)\n",
    "with open('../checkpoints/race_v2.3.1_r', 'rb') as f:\n",
    "    rs2 = pickle.load(f) \n",
    "    \n",
    "plt.plot(rs)\n",
    "plt.plot(rs2)"
   ]
  },
  {
   "cell_type": "code",
   "execution_count": 7,
   "id": "7a75f95e",
   "metadata": {},
   "outputs": [
    {
     "data": {
      "text/plain": [
       "[<matplotlib.lines.Line2D at 0x2afda655ea30>]"
      ]
     },
     "execution_count": 7,
     "metadata": {},
     "output_type": "execute_result"
    },
    {
     "data": {
      "image/png": "[encoded data removed]",
      "text/plain": [
       "<Figure size 432x288 with 1 Axes>"
      ]
     },
     "metadata": {
      "needs_background": "light"
     },
     "output_type": "display_data"
    }
   ],
   "source": [
    "import matplotlib.pyplot as plt\n",
    "import pickle \n",
    "\n",
    "with open('../checkpoints/phy_v2.0.1_er', 'rb') as f:\n",
    "    rs = pickle.load(f)\n",
    "    \n",
    "plt.plot(rs)\n"
   ]
  },
  {
   "cell_type": "code",
   "execution_count": null,
   "id": "7c86bf3a",
   "metadata": {},
   "outputs": [],
   "source": []
  },
  {
   "cell_type": "code",
   "execution_count": null,
   "id": "aa5e3f03",
   "metadata": {},
   "outputs": [],
   "source": []
  }
 ],
 "metadata": {
  "kernelspec": {
   "display_name": "Python 3 (ipykernel)",
   "language": "python",
   "name": "python3"
  },
  "language_info": {
   "codemirror_mode": {
    "name": "ipython",
    "version": 3
   },
   "file_extension": ".py",
   "mimetype": "text/x-python",
   "name": "python",
   "nbconvert_exporter": "python",
   "pygments_lexer": "ipython3",
   "version": "3.8.12"
  },
  "toc": {
   "base_numbering": 1,
   "nav_menu": {},
   "number_sections": true,
   "sideBar": true,
   "skip_h1_title": false,
   "title_cell": "Table of Contents",
   "title_sidebar": "Contents",
   "toc_cell": false,
   "toc_position": {
    "height": "calc(100% - 180px)",
    "left": "10px",
    "top": "150px",
    "width": "255.653px"
   },
   "toc_section_display": true,
   "toc_window_display": true
  }
 },
 "nbformat": 4,
 "nbformat_minor": 5
}
