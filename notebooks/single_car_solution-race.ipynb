{
 "cells": [
  {
   "cell_type": "markdown",
   "id": "54efaf43",
   "metadata": {},
   "source": [
    "# waypoints"
   ]
  },
  {
   "cell_type": "markdown",
   "id": "b87f3773",
   "metadata": {},
   "source": [
    "## define agents"
   ]
  },
  {
   "cell_type": "code",
   "execution_count": 1,
   "id": "bc7f90c9",
   "metadata": {},
   "outputs": [],
   "source": [
    "class FGAgent:\n",
    "    def __init__(self, bubble_r=0.5, lookahead_degrees=[90., 270.], speed=2.0):\n",
    "        self.bubble_r = bubble_r\n",
    "        self.lookahead_degrees = lookahead_degrees\n",
    "        self.speed = speed\n",
    "        \n",
    "    def get_action(self, state):\n",
    "        ranges = state[:360]\n",
    "        #print(ranges[10], ranges[90], ranges[180], ranges[270], ranges[350])\n",
    "        beg = int(self.lookahead_degrees[0])\n",
    "        end = int(self.lookahead_degrees[1])\n",
    "\n",
    "        ranges = ranges[beg:end]\n",
    "\n",
    "        ranges = np.clip(ranges, 0, 10.0)\n",
    "        \n",
    "        nearest_point = np.min(ranges)\n",
    "        min_dist = nearest_point + self.bubble_r\n",
    "\n",
    "        ranges = np.where(ranges <= min_dist, 0.0, ranges)\n",
    "\n",
    "        gaps = []\n",
    "        if ranges[0] != 0.0:\n",
    "            gaps.append(0)\n",
    "\n",
    "        i = 0\n",
    "        while i < len(ranges):\n",
    "            if ranges[i] == 0.0:\n",
    "                if i > 0:\n",
    "                    gaps.append(i-1)\n",
    "                while i < len(ranges) and ranges[i] == 0.0:\n",
    "                    i += 1\n",
    "                if i < len(ranges):\n",
    "                    gaps.append(i)\n",
    "                continue\n",
    "\n",
    "            i += 1\n",
    "\n",
    "        if ranges[-1] != 0.0:\n",
    "            gaps.append(len(ranges) - 1)\n",
    "\n",
    "        assert len(gaps) % 2 == 0\n",
    "\n",
    "        max_gap = -1\n",
    "        gap_beg = 0\n",
    "        gap_end = 360\n",
    "\n",
    "        # find max gap\n",
    "        i = 0\n",
    "        while i < len(gaps):\n",
    "            if gaps[i+1]-gaps[i] > max_gap:\n",
    "                max_gap = gaps[i+1]-gaps[i]\n",
    "                gap_beg = gaps[i]+beg\n",
    "                gap_end = gaps[i+1]+beg\n",
    "            i += 2\n",
    "\n",
    "        mid_point = float(gap_end+gap_beg)/2.\n",
    "        angle_deg = mid_point - 180\n",
    "        angle_rad = angle_deg * (np.pi/180.)\n",
    "#         print(f\"midpoint:{mid_point}\")\n",
    "        angle = angle_rad * 1.0\n",
    "        return [angle, self.speed]\n",
    "\n"
   ]
  },
  {
   "cell_type": "code",
   "execution_count": 2,
   "id": "bfa242b3",
   "metadata": {},
   "outputs": [
    {
     "data": {
      "text/plain": [
       "<__main__.WPEnv at 0x2ab92bed90d0>"
      ]
     },
     "execution_count": 2,
     "metadata": {},
     "output_type": "execute_result"
    }
   ],
   "source": [
    "import gym\n",
    "import numpy as np\n",
    "import time\n",
    "import yaml\n",
    "import gym\n",
    "import numpy as np\n",
    "from argparse import Namespace\n",
    "\n",
    "    \n",
    "class WPEnv(gym.Env):\n",
    "    \n",
    "    def __init__(self, map_name='', begin_pos=None):\n",
    "        self.map_name = map_name\n",
    "        self.begin_pos = begin_pos\n",
    "        self.reset()\n",
    "        \n",
    "  \n",
    "    def reset(self):\n",
    "        def render_callback(env_renderer):\n",
    "            # custom extra drawing function\n",
    "            \n",
    "            e = env_renderer\n",
    "\n",
    "            # update camera to follow car\n",
    "            x = e.cars[0].vertices[::2]\n",
    "            y = e.cars[0].vertices[1::2]\n",
    "            top, bottom, left, right = max(y), min(y), min(x), max(x)\n",
    "            e.score_label.x = left\n",
    "            e.score_label.y = top - 700\n",
    "            e.left = left - 800\n",
    "            e.right = right + 800\n",
    "            e.top = top + 800\n",
    "            e.bottom = bottom - 800\n",
    "            \n",
    "        map_path = f\"../maps/{self.map_name}\"\n",
    "        \n",
    "        self.env = gym.make('f110_gym:f110-v0', map=map_path, map_ext='.png', num_agents=1)\n",
    "        self.env.add_render_callback(render_callback)\n",
    "        \n",
    "        begin_pos = [0, 0, 0] if self.begin_pos is None else self.begin_pos\n",
    "        obs, step_reward, done, info = self.env.reset(np.array([begin_pos]))\n",
    " \n",
    "        return self.to_vector_state(obs)\n",
    "    \n",
    "    def to_vector_state(self, obs):\n",
    "        \n",
    "        scanner = np.clip(obs['scans'][0], 0, 10)\n",
    "        buck = 3\n",
    "        size = 1080//buck\n",
    "        agg_scanner = np.zeros(size,)\n",
    "        for i in range(size):\n",
    "            agg_scanner[i] = np.mean(scanner[i*buck: i*buck+buck])\n",
    "                \n",
    "        state = [\n",
    "            agg_scanner,\n",
    "            np.array(obs['linear_vels_x'][0]),\n",
    "            np.array(obs['ang_vels_z'][0]),\n",
    "            (obs['poses_x'][0], obs['poses_y'][0], obs['poses_theta'][0])\n",
    "        ]\n",
    "\n",
    "        return state\n",
    "    \n",
    "        \n",
    "    def step(self, action):\n",
    "        act = np.array([action])\n",
    "        reward = 0\n",
    "        obs, step_reward, done, info = self.env.step(act)\n",
    "        \n",
    "        if obs['collisions'][0] == 1.0:\n",
    "            print(\"CRASHED\")\n",
    "            done = True\n",
    "            reward = -1\n",
    "        \n",
    "                \n",
    "        if obs['lap_counts'][0] == 1.0:\n",
    "            reward = 1.0\n",
    "            print(\"DONE\")\n",
    "            done = True\n",
    "        \n",
    "        next_state = self.to_vector_state(obs)\n",
    "        return next_state, reward, done, info\n",
    "    \n",
    "    def render(self):\n",
    "        self.env.render()\n",
    "\n",
    "WPEnv(map_name='Oschersleben1')"
   ]
  },
  {
   "cell_type": "markdown",
   "id": "33ea0f43",
   "metadata": {},
   "source": [
    "## create waypoints"
   ]
  },
  {
   "cell_type": "code",
   "execution_count": 10,
   "id": "e6b9a47b",
   "metadata": {},
   "outputs": [
    {
     "name": "stdout",
     "output_type": "stream",
     "text": [
      "DONE\n"
     ]
    }
   ],
   "source": [
    "\n",
    "done = False\n",
    "env = WPEnv(map_name='race2', begin_pos=[0.0702245, 0.3002981, 2.79787])\n",
    "obs = env.reset()\n",
    "agent = FGAgent(speed=3.0, bubble_r=0.5)\n",
    "\n",
    "positions = []\n",
    "\n",
    "while not done:\n",
    "    positions.append(obs[3])\n",
    "    th, v = agent.get_action(obs[0])\n",
    "    obs, r, done, _ = env.step([th, v])\n",
    "#     env.render()"
   ]
  },
  {
   "cell_type": "code",
   "execution_count": 11,
   "id": "4dec3012",
   "metadata": {},
   "outputs": [],
   "source": [
    "with open('../maps/race2-wp.np', 'wb') as f:\n",
    "    np.save(f, positions)"
   ]
  },
  {
   "cell_type": "markdown",
   "id": "cd9e5bc8",
   "metadata": {},
   "source": [
    "## analyze waypoints"
   ]
  },
  {
   "cell_type": "code",
   "execution_count": 7,
   "id": "c9b9651f",
   "metadata": {},
   "outputs": [
    {
     "name": "stdout",
     "output_type": "stream",
     "text": [
      "2.786963710331641\n",
      "8658\n",
      "78\n"
     ]
    }
   ],
   "source": [
    "import numpy as np\n",
    "\n",
    "with open('../maps/race1-wp.np', 'rb') as f:\n",
    "    wps = np.load(f)\n",
    "    \n",
    "dist = np.linalg.norm(wps[0][:2] - wps[117][:2])\n",
    "print(dist)\n",
    "print(len(wps))\n",
    "print(len(wps)//110)"
   ]
  },
  {
   "cell_type": "code",
   "execution_count": 8,
   "id": "67b73f9f",
   "metadata": {},
   "outputs": [
    {
     "name": "stderr",
     "output_type": "stream",
     "text": [
      "100%|██████████| 8658/8658 [00:03<00:00, 2251.99it/s]"
     ]
    },
    {
     "name": "stdout",
     "output_type": "stream",
     "text": [
      "43\n"
     ]
    },
    {
     "name": "stderr",
     "output_type": "stream",
     "text": [
      "\n"
     ]
    }
   ],
   "source": [
    "from tqdm import tqdm\n",
    "import gym\n",
    "\n",
    "map_name = 'race1'\n",
    "env = gym.make('f110_gym:f110-v0', map=f\"../maps/{map_name}\", map_ext='.png', num_agents=1)\n",
    "cnt = 0\n",
    "for wp in tqdm(wps):\n",
    "    obs, step_reward, done, info = env.reset(\n",
    "        np.array([\n",
    "            wp\n",
    "        ])\n",
    "    )\n",
    "    if min(obs['scans'][0]) < 0.4:\n",
    "        cnt += 1\n",
    "print(cnt)"
   ]
  },
  {
   "cell_type": "code",
   "execution_count": 27,
   "id": "ff700d27",
   "metadata": {},
   "outputs": [
    {
     "data": {
      "text/plain": [
       "12948"
      ]
     },
     "execution_count": 27,
     "metadata": {},
     "output_type": "execute_result"
    }
   ],
   "source": [
    "from scipy.spatial.distance import cdist\n",
    "\n",
    "x = cdist([[0,0]], wps[:,:2])\n",
    "np.argmin(x)"
   ]
  },
  {
   "cell_type": "code",
   "execution_count": 9,
   "id": "673dbb2e",
   "metadata": {},
   "outputs": [
    {
     "data": {
      "text/plain": [
       "<matplotlib.collections.PathCollection at 0x2ab9dd5a1430>"
      ]
     },
     "execution_count": 9,
     "metadata": {},
     "output_type": "execute_result"
    },
    {
     "data": {
      "image/png": "[encoded data removed]",
      "text/plain": [
       "<Figure size 432x288 with 1 Axes>"
      ]
     },
     "metadata": {
      "needs_background": "light"
     },
     "output_type": "display_data"
    }
   ],
   "source": [
    "import matplotlib.pyplot as plt\n",
    "\n",
    "plt.scatter(wps[:,0], wps[:, 1])"
   ]
  },
  {
   "cell_type": "markdown",
   "id": "43fb0cb8",
   "metadata": {},
   "source": [
    "# environment"
   ]
  },
  {
   "cell_type": "code",
   "execution_count": 1,
   "id": "2d388b98",
   "metadata": {},
   "outputs": [
    {
     "data": {
      "text/plain": [
       "(142,)"
      ]
     },
     "execution_count": 1,
     "metadata": {},
     "output_type": "execute_result"
    }
   ],
   "source": [
    "import gym\n",
    "import numpy as np\n",
    "import time\n",
    "import yaml\n",
    "import gym\n",
    "import numpy as np\n",
    "from scipy.spatial.distance import cdist\n",
    "\n",
    "\n",
    "class F110RaceEnv(gym.Env):\n",
    "    def __init__(self, env_config,\n",
    "                 test_map_name=None,\n",
    "                 scan_range=10.0,\n",
    "                 max_v=15.0,\n",
    "                 n_cps = 110,\n",
    "                 cp_reward = 0.1,\n",
    "                 min_cp_dist=3.0,\n",
    "                 maps_path='../maps',\n",
    "                 models_path='../checkpoints',\n",
    "                 train_map_name='race',\n",
    "                 padding_punish=-0.05,\n",
    "                 safe_padding=0.4,\n",
    "                 laps = 1.0,\n",
    "                 min_deg=110,\n",
    "                 max_deg=250,\n",
    "                 begin_pos=[0.0702245, 0.3002981, 2.79787]\n",
    "                ):\n",
    "        \n",
    "        self.laps = laps\n",
    "        self.maps_path = maps_path\n",
    "        self.observation_space = gym.spaces.Box(low=-np.inf, high=np.inf, shape=(142,), dtype=np.float32)\n",
    "        self.max_v = max_v\n",
    "        self.test_map_name = test_map_name\n",
    "        self.min_cp_dist = min_cp_dist\n",
    "        self.n_cps = n_cps\n",
    "        self.cp_reward = cp_reward\n",
    "        self.scan_range = scan_range\n",
    "        self.safe_padding = safe_padding\n",
    "        self.map_path = None\n",
    "        self.train_map_name = train_map_name\n",
    "        self.action_space = gym.spaces.Box(low=-1, high=1, shape=(2,), dtype=np.float32)\n",
    "        self.cum_r = 0\n",
    "        self.prev_vel = [4.0] * 100\n",
    "        self.padding_punish = padding_punish\n",
    "        \n",
    "        self.total_padding_punish = 0\n",
    "        self.min_deg = min_deg\n",
    "        self.max_deg = max_deg\n",
    "        self.begin_pos = begin_pos\n",
    "        self.ang_vel_diff_hist = [0.0]*50\n",
    "        self.prev_ang_vel = 0.0\n",
    "        self.oscilation_cum_rew = 0\n",
    "        self.prev_cp_t = 0\n",
    "        \n",
    "        self.cp_prev_vel = []\n",
    "    \n",
    "    def _render_callback(self, env_renderer):\n",
    "        # custom extra drawing function\n",
    "\n",
    "        e = env_renderer\n",
    "\n",
    "        # update camera to follow car\n",
    "        x = e.cars[0].vertices[::2]\n",
    "        y = e.cars[0].vertices[1::2]\n",
    "        top, bottom, left, right = max(y), min(y), min(x), max(x)\n",
    "        e.score_label.x = left\n",
    "        e.score_label.y = top - 700\n",
    "        e.left = left - 800\n",
    "        e.right = right + 800\n",
    "        e.top = top + 800\n",
    "        e.bottom = bottom - 800\n",
    "\n",
    "    def load_train_setup(self):\n",
    "        no = np.random.choice(list(range(3,10)))\n",
    "        \n",
    "        map_path = f\"{self.maps_path}/{self.train_map_name}{no}\"\n",
    "        with open(f'{self.maps_path}/{self.train_map_name}{no}-wp.np', 'rb') as f:\n",
    "            wps = np.load(f)\n",
    "            \n",
    "        return map_path, wps\n",
    "    \n",
    "    def load_test_setup(self):\n",
    "        map_path = f\"{self.maps_path}/{self.test_map_name}\"\n",
    "        with open(f'{self.maps_path}/{self.train_map_name}1-wp.np', 'rb') as f:\n",
    "            wps = np.load(f)\n",
    "            \n",
    "        return map_path, wps\n",
    "\n",
    "    def build_checkpoints(self, wps, cp_dist):\n",
    "        \n",
    "        start = np.random.randint(0, len(wps)-1)\n",
    "        checkpoints = []\n",
    "        \n",
    "        i = 0\n",
    "        while i < len(wps):\n",
    "            if i % cp_dist == 0:\n",
    "                checkpoints.append(wps[(start+i)%len(wps)])\n",
    "            i += 1\n",
    "        return checkpoints\n",
    "    \n",
    "    def reset(self):\n",
    "        self.oscilation_cum_rew = 0\n",
    "        self.prev_vel = [3.0] * 100\n",
    "        self.total_padding_punish = 0\n",
    "        self.cum_r = 0\n",
    "        self.cp_prev_vel = [0.0,]\n",
    "        self.ang_vel_diff_hist = [0.0,]\n",
    "        self.prev_ang_vel = 0.0\n",
    "        self.prev_cp_t = 0\n",
    "        \n",
    "        if self.test_map_name is not None:\n",
    "            map_path, wps = self.load_test_setup()\n",
    "        else:\n",
    "            map_path, wps = self.load_train_setup()\n",
    "        \n",
    "#         print(map_path, len(wps))\n",
    "        self.map_path = map_path\n",
    "        self.env = gym.make('f110_gym:f110-v0', map=map_path, map_ext='.png', num_agents=1)\n",
    "        self.env.add_render_callback(self._render_callback)\n",
    "        \n",
    "        cp_dist = len(wps)//self.n_cps\n",
    "        \n",
    "        self.checkpoints = self.build_checkpoints(wps, cp_dist)\n",
    "#         print(f\"number of checkpoints: {len(self.checkpoints)}\")\n",
    "        \n",
    "        if self.test_map_name is None:\n",
    "            rotate = np.random.choice([0, np.pi])\n",
    "            if rotate != 0:\n",
    "                self.checkpoints = self.checkpoints[::-1]\n",
    "            start_idx = np.random.randint(0, len(self.checkpoints))\n",
    "            start_point = self.checkpoints[start_idx]\n",
    "            start_point[-1] += rotate\n",
    "            \n",
    "        else:\n",
    "            dists = cdist([self.begin_pos[:2]], np.array(self.checkpoints)[:,:2])\n",
    "            start_idx = np.argmin(dists)\n",
    "            start_point = self.begin_pos\n",
    "            \n",
    "        self.next_cp_idx = (start_idx + 2)%len(self.checkpoints)\n",
    "            \n",
    "        \n",
    "        obs, step_reward, done, info = self.env.reset(\n",
    "            np.array([\n",
    "                start_point\n",
    "            ])\n",
    "        )\n",
    "        \n",
    "        self.t = 0\n",
    "\n",
    "        return self.to_vector_state(obs)\n",
    "    \n",
    "    def to_vector_state(self, obs):\n",
    "        ranges = obs['scans'][0]\n",
    "        ranges = ranges[int((self.min_deg/360)*len(ranges)):int((self.max_deg/360)*len(ranges))]\n",
    "        scanner = np.clip(ranges, 0, self.scan_range)\n",
    "        \n",
    "        buck = 3\n",
    "        size = len(scanner)//buck\n",
    "        agg_scanner = np.zeros(size,)\n",
    "        for i in range(size):\n",
    "            agg_scanner[i] = np.min(scanner[i*buck: i*buck+buck])\n",
    "        \n",
    "        agg_scanner /= self.scan_range\n",
    "        state = np.concatenate([\n",
    "            agg_scanner,\n",
    "            np.array(obs['linear_vels_x'][:1])/self.max_v,\n",
    "            np.array(obs['ang_vels_z'][:1])/self.max_v,\n",
    "        ])\n",
    "        \n",
    "#         if self.test_map_name is None:\n",
    "#             noise = np.random.normal(loc=0.0, scale=0.02, size=state.shape)\n",
    "#             state = state + noise\n",
    "        \n",
    "        return state\n",
    "    \n",
    "    def checkpoint(self, position, t):\n",
    "        return_cp_idx = (self.next_cp_idx - 5)%len(self.checkpoints)\n",
    "        return_dist = np.linalg.norm(position - self.checkpoints[return_cp_idx][:2])\n",
    "        dist = np.linalg.norm(position - self.checkpoints[self.next_cp_idx][:2])\n",
    "        reward = 0\n",
    "        if dist < self.min_cp_dist:\n",
    "            time_diff = t - self.prev_cp_t\n",
    "            reward = max(self.cp_reward + (0.4 - time_diff)*0.5, self.cp_reward)\n",
    "            #reward = self.cp_reward\n",
    "            self.prev_cp_t = t\n",
    "#            print(time_diff)\n",
    "#             reward = self.cp_reward\n",
    "#            reward += (np.mean(self.cp_prev_vel)/self.max_v)\n",
    "#             reward -= np.mean(self.ang_vel_diff_hist)/(np.pi/3)\n",
    "#            reward *= self.cp_reward\n",
    "            self.next_cp_idx = (self.next_cp_idx + 1)%len(self.checkpoints)\n",
    "            self.ang_vel_diff_hist = [0,]\n",
    "            self.cp_prev_vel = [0,]\n",
    "        elif return_dist < 3.0:\n",
    "            reward = -1\n",
    "        return reward\n",
    "        \n",
    "        \n",
    "    def step(self, action):\n",
    "        reward = 0\n",
    "\n",
    "        act_v = action[0]*(self.max_v/2)+(self.max_v/2)\n",
    "        self.prev_vel.insert(0, act_v)\n",
    "        self.prev_vel.pop()\n",
    "        \n",
    "        \n",
    "        th = action[1]*np.pi/6\n",
    "        act = np.array([[th, act_v]])\n",
    "\n",
    "        obs, step_reward, done, info = self.env.step(act)\n",
    "        pose_x = obs['poses_x'][0]\n",
    "        pose_y = obs['poses_y'][0]\n",
    "        \n",
    "        next_state = self.to_vector_state(obs)\n",
    "        position = np.array([pose_x, pose_y])\n",
    "\n",
    "#         ang_vel_diff = abs(th - self.prev_ang_vel)\n",
    "#         self.prev_ang_vel = th\n",
    "#         self.ang_vel_diff_hist.append(ang_vel_diff)\n",
    "        \n",
    "#        self.cp_prev_vel.append(act_v)\n",
    "    \n",
    "        finish_time = 100\n",
    "        if obs['collisions'][0] == 1.0:\n",
    "            reward = -1\n",
    "            done = True\n",
    "            #if self.test_map_name is not None:\n",
    "            #print('CRASHED')\n",
    "            return next_state, reward, done, {'finish_time': finish_time}\n",
    "            \n",
    "        cp_reward = self.checkpoint(position, obs['lap_times'][0])\n",
    "        reward += cp_reward\n",
    "        self.t += 1\n",
    "        \n",
    "        if obs['lap_counts'][0] == self.laps:\n",
    "            t = obs['lap_times'][0]  \n",
    "#           reward = np.exp(2.5 - 0.05*t)\n",
    "            finish_time = t\n",
    "#             fairlap = 35\n",
    "#             reward = max(0.5*(fairlap - t), 0)\n",
    "            #reward = self.cp_reward\n",
    "            print(f\"agent on {self.map_path} got reward {self.cum_r} in {t}. Finish reward: {reward}. Padding punish: {self.total_padding_punish}\")\n",
    "            done = True\n",
    "        elif cp_reward == -1:\n",
    "            t = obs['lap_times'][0]\n",
    "            print(f\"agent on {self.map_path} got reward {self.cum_r} in {t}. RETURNED\")\n",
    "            done = True\n",
    "        elif np.max(self.prev_vel)<3.0:\n",
    "            t = obs['lap_times'][0]\n",
    "            print(f\"agent on {self.map_path} got reward {self.cum_r} in {t}. STOPPED\")\n",
    "            reward = -1\n",
    "            done = True\n",
    "        \n",
    "        if done and self.test_map_name is not None:\n",
    "            print('lap:', obs['lap_times'])\n",
    "        \n",
    "        if np.min(obs['scans'][0]) < self.safe_padding:\n",
    "            reward += self.padding_punish\n",
    "            self.total_padding_punish += self.padding_punish\n",
    "        \n",
    "        self.cum_r += reward\n",
    "        return next_state, reward, done, {'pos': position, 'finish_time': finish_time,\n",
    "                                          'oscilation': self.oscilation_cum_rew, 'padding': self.total_padding_punish}\n",
    "    \n",
    "    def render(self):\n",
    "        self.env.render()\n",
    "\n",
    "e = F110RaceEnv({})\n",
    "e.reset().shape"
   ]
  },
  {
   "cell_type": "markdown",
   "id": "4a7aefd2",
   "metadata": {},
   "source": [
    "# training"
   ]
  },
  {
   "cell_type": "code",
   "execution_count": 2,
   "id": "0a002a55",
   "metadata": {},
   "outputs": [
    {
     "name": "stdout",
     "output_type": "stream",
     "text": [
      "env: CUDA_VISIBLE_DEVICES=0\n"
     ]
    }
   ],
   "source": [
    "%env CUDA_VISIBLE_DEVICES=0"
   ]
  },
  {
   "cell_type": "code",
   "execution_count": null,
   "id": "1504b8ed",
   "metadata": {
    "scrolled": true
   },
   "outputs": [
    {
     "name": "stderr",
     "output_type": "stream",
     "text": [
      "2022-05-08 21:55:11,941\tWARNING ppo.py:223 -- `train_batch_size` (100000) cannot be achieved with your other settings (num_workers=15 num_envs_per_worker=1 rollout_fragment_length=200)! Auto-adjusting `rollout_fragment_length` to 6666.\n",
      "2022-05-08 21:55:11,941\tINFO ppo.py:249 -- In multi-agent mode, policies will be optimized sequentially by the multi-GPU optimizer. Consider setting simple_optimizer=True if this doesn't work for you.\n",
      "2022-05-08 21:55:11,942\tINFO trainer.py:790 -- Current log_level is WARN. For more information, set 'log_level': 'INFO' / 'DEBUG' or use the -v and -vv flags.\n",
      "\u001b[2m\u001b[36m(RolloutWorker pid=49336)\u001b[0m 2022-05-08 21:55:18,615\tWARNING deprecation.py:45 -- DeprecationWarning: `rllib.env.remote_vector_env.RemoteVectorEnv` has been deprecated. Use `ray.rllib.env.remote_base_env.RemoteBaseEnv` instead. This will raise an error in the future!\n",
      "\u001b[2m\u001b[36m(RolloutWorker pid=49323)\u001b[0m 2022-05-08 21:55:18,637\tWARNING deprecation.py:45 -- DeprecationWarning: `rllib.env.remote_vector_env.RemoteVectorEnv` has been deprecated. Use `ray.rllib.env.remote_base_env.RemoteBaseEnv` instead. This will raise an error in the future!\n",
      "\u001b[2m\u001b[36m(RolloutWorker pid=49293)\u001b[0m 2022-05-08 21:55:18,650\tWARNING deprecation.py:45 -- DeprecationWarning: `rllib.env.remote_vector_env.RemoteVectorEnv` has been deprecated. Use `ray.rllib.env.remote_base_env.RemoteBaseEnv` instead. This will raise an error in the future!\n",
      "\u001b[2m\u001b[36m(RolloutWorker pid=49326)\u001b[0m 2022-05-08 21:55:18,667\tWARNING deprecation.py:45 -- DeprecationWarning: `rllib.env.remote_vector_env.RemoteVectorEnv` has been deprecated. Use `ray.rllib.env.remote_base_env.RemoteBaseEnv` instead. This will raise an error in the future!\n",
      "\u001b[2m\u001b[36m(RolloutWorker pid=49330)\u001b[0m 2022-05-08 21:55:18,637\tWARNING deprecation.py:45 -- DeprecationWarning: `rllib.env.remote_vector_env.RemoteVectorEnv` has been deprecated. Use `ray.rllib.env.remote_base_env.RemoteBaseEnv` instead. This will raise an error in the future!\n",
      "\u001b[2m\u001b[36m(RolloutWorker pid=49325)\u001b[0m 2022-05-08 21:55:18,645\tWARNING deprecation.py:45 -- DeprecationWarning: `rllib.env.remote_vector_env.RemoteVectorEnv` has been deprecated. Use `ray.rllib.env.remote_base_env.RemoteBaseEnv` instead. This will raise an error in the future!\n",
      "\u001b[2m\u001b[36m(RolloutWorker pid=49310)\u001b[0m 2022-05-08 21:55:18,645\tWARNING deprecation.py:45 -- DeprecationWarning: `rllib.env.remote_vector_env.RemoteVectorEnv` has been deprecated. Use `ray.rllib.env.remote_base_env.RemoteBaseEnv` instead. This will raise an error in the future!\n",
      "\u001b[2m\u001b[36m(RolloutWorker pid=49328)\u001b[0m 2022-05-08 21:55:18,636\tWARNING deprecation.py:45 -- DeprecationWarning: `rllib.env.remote_vector_env.RemoteVectorEnv` has been deprecated. Use `ray.rllib.env.remote_base_env.RemoteBaseEnv` instead. This will raise an error in the future!\n",
      "\u001b[2m\u001b[36m(RolloutWorker pid=49329)\u001b[0m 2022-05-08 21:55:18,644\tWARNING deprecation.py:45 -- DeprecationWarning: `rllib.env.remote_vector_env.RemoteVectorEnv` has been deprecated. Use `ray.rllib.env.remote_base_env.RemoteBaseEnv` instead. This will raise an error in the future!\n",
      "\u001b[2m\u001b[36m(RolloutWorker pid=49331)\u001b[0m 2022-05-08 21:55:18,684\tWARNING deprecation.py:45 -- DeprecationWarning: `rllib.env.remote_vector_env.RemoteVectorEnv` has been deprecated. Use `ray.rllib.env.remote_base_env.RemoteBaseEnv` instead. This will raise an error in the future!\n",
      "\u001b[2m\u001b[36m(RolloutWorker pid=49321)\u001b[0m 2022-05-08 21:55:18,653\tWARNING deprecation.py:45 -- DeprecationWarning: `rllib.env.remote_vector_env.RemoteVectorEnv` has been deprecated. Use `ray.rllib.env.remote_base_env.RemoteBaseEnv` instead. This will raise an error in the future!\n",
      "\u001b[2m\u001b[36m(RolloutWorker pid=49324)\u001b[0m 2022-05-08 21:55:18,638\tWARNING deprecation.py:45 -- DeprecationWarning: `rllib.env.remote_vector_env.RemoteVectorEnv` has been deprecated. Use `ray.rllib.env.remote_base_env.RemoteBaseEnv` instead. This will raise an error in the future!\n",
      "\u001b[2m\u001b[36m(RolloutWorker pid=49334)\u001b[0m 2022-05-08 21:55:18,636\tWARNING deprecation.py:45 -- DeprecationWarning: `rllib.env.remote_vector_env.RemoteVectorEnv` has been deprecated. Use `ray.rllib.env.remote_base_env.RemoteBaseEnv` instead. This will raise an error in the future!\n",
      "\u001b[2m\u001b[36m(RolloutWorker pid=49317)\u001b[0m 2022-05-08 21:55:18,737\tWARNING deprecation.py:45 -- DeprecationWarning: `rllib.env.remote_vector_env.RemoteVectorEnv` has been deprecated. Use `ray.rllib.env.remote_base_env.RemoteBaseEnv` instead. This will raise an error in the future!\n",
      "\u001b[2m\u001b[36m(RolloutWorker pid=49333)\u001b[0m 2022-05-08 21:55:18,825\tWARNING deprecation.py:45 -- DeprecationWarning: `rllib.env.remote_vector_env.RemoteVectorEnv` has been deprecated. Use `ray.rllib.env.remote_base_env.RemoteBaseEnv` instead. This will raise an error in the future!\n",
      "2022-05-08 21:55:23,567\tINFO trainable.py:125 -- Trainable.setup took 11.627 seconds. If your trainable is slow to initialize, consider setting reuse_actors=True to reduce actor creation overheads.\n",
      "2022-05-08 21:55:23,569\tWARNING util.py:55 -- Install gputil for GPU system monitoring.\n"
     ]
    },
    {
     "name": "stdout",
     "output_type": "stream",
     "text": [
      "{'num_workers': 15, 'num_envs_per_worker': 1, 'create_env_on_driver': False, 'rollout_fragment_length': 6666, 'batch_mode': 'truncate_episodes', 'gamma': 0.99, 'lr': 0.0001, 'train_batch_size': 100000, 'model': {'_use_default_native_models': False, '_disable_preprocessor_api': False, 'fcnet_hiddens': [500, 500], 'fcnet_activation': 'tanh', 'conv_filters': None, 'conv_activation': 'relu', 'post_fcnet_hiddens': [], 'post_fcnet_activation': 'relu', 'free_log_std': False, 'no_final_linear': False, 'vf_share_layers': False, 'use_lstm': False, 'max_seq_len': 20, 'lstm_cell_size': 256, 'lstm_use_prev_action': False, 'lstm_use_prev_reward': False, '_time_major': False, 'use_attention': False, 'attention_num_transformer_units': 1, 'attention_dim': 64, 'attention_num_heads': 1, 'attention_head_dim': 32, 'attention_memory_inference': 50, 'attention_memory_training': 50, 'attention_position_wise_mlp_dim': 32, 'attention_init_gru_gate_bias': 2.0, 'attention_use_n_prev_actions': 0, 'attention_use_n_prev_rewards': 0, 'framestack': True, 'dim': 84, 'grayscale': False, 'zero_mean': True, 'custom_model': None, 'custom_model_config': {}, 'custom_action_dist': None, 'custom_preprocessor': None, 'lstm_use_prev_action_reward': -1}, 'optimizer': {}, 'horizon': None, 'soft_horizon': False, 'no_done_at_end': False, 'env': 'F110RaceEnv', 'observation_space': None, 'action_space': None, 'env_config': {}, 'remote_worker_envs': False, 'remote_env_batch_wait_ms': 0, 'env_task_fn': None, 'render_env': False, 'record_env': False, 'clip_rewards': None, 'normalize_actions': True, 'clip_actions': False, 'preprocessor_pref': 'deepmind', 'log_level': 'WARN', 'callbacks': <class 'ray.rllib.agents.callbacks.DefaultCallbacks'>, 'ignore_worker_failures': False, 'log_sys_usage': True, 'fake_sampler': False, 'framework': 'torch', 'eager_tracing': False, 'eager_max_retraces': 20, 'explore': True, 'exploration_config': {'type': 'StochasticSampling'}, 'evaluation_interval': None, 'evaluation_duration': 10, 'evaluation_duration_unit': 'episodes', 'evaluation_parallel_to_training': False, 'in_evaluation': False, 'evaluation_config': {'num_workers': 15, 'num_envs_per_worker': 1, 'create_env_on_driver': False, 'rollout_fragment_length': 6666, 'batch_mode': 'truncate_episodes', 'gamma': 0.99, 'lr': 0.0001, 'train_batch_size': 100000, 'model': {'_use_default_native_models': False, '_disable_preprocessor_api': False, 'fcnet_hiddens': [500, 500], 'fcnet_activation': 'tanh', 'conv_filters': None, 'conv_activation': 'relu', 'post_fcnet_hiddens': [], 'post_fcnet_activation': 'relu', 'free_log_std': False, 'no_final_linear': False, 'vf_share_layers': False, 'use_lstm': False, 'max_seq_len': 20, 'lstm_cell_size': 256, 'lstm_use_prev_action': False, 'lstm_use_prev_reward': False, '_time_major': False, 'use_attention': False, 'attention_num_transformer_units': 1, 'attention_dim': 64, 'attention_num_heads': 1, 'attention_head_dim': 32, 'attention_memory_inference': 50, 'attention_memory_training': 50, 'attention_position_wise_mlp_dim': 32, 'attention_init_gru_gate_bias': 2.0, 'attention_use_n_prev_actions': 0, 'attention_use_n_prev_rewards': 0, 'framestack': True, 'dim': 84, 'grayscale': False, 'zero_mean': True, 'custom_model': None, 'custom_model_config': {}, 'custom_action_dist': None, 'custom_preprocessor': None, 'lstm_use_prev_action_reward': -1}, 'optimizer': {}, 'horizon': None, 'soft_horizon': False, 'no_done_at_end': False, 'env': 'F110RaceEnv', 'observation_space': None, 'action_space': None, 'env_config': {}, 'remote_worker_envs': False, 'remote_env_batch_wait_ms': 0, 'env_task_fn': None, 'render_env': False, 'record_env': False, 'clip_rewards': None, 'normalize_actions': True, 'clip_actions': False, 'preprocessor_pref': 'deepmind', 'log_level': 'WARN', 'callbacks': <class 'ray.rllib.agents.callbacks.DefaultCallbacks'>, 'ignore_worker_failures': False, 'log_sys_usage': True, 'fake_sampler': False, 'framework': 'torch', 'eager_tracing': False, 'eager_max_retraces': 20, 'explore': True, 'exploration_config': {'type': 'StochasticSampling'}, 'evaluation_interval': None, 'evaluation_duration': 10, 'evaluation_duration_unit': 'episodes', 'evaluation_parallel_to_training': False, 'in_evaluation': False, 'evaluation_config': {}, 'evaluation_num_workers': 0, 'custom_eval_function': None, 'always_attach_evaluation_results': False, 'sample_async': False, 'sample_collector': <class 'ray.rllib.evaluation.collectors.simple_list_collector.SimpleListCollector'>, 'observation_filter': 'NoFilter', 'synchronize_filters': True, 'tf_session_args': {'intra_op_parallelism_threads': 2, 'inter_op_parallelism_threads': 2, 'gpu_options': {'allow_growth': True}, 'log_device_placement': False, 'device_count': {'CPU': 1}, 'allow_soft_placement': True}, 'local_tf_session_args': {'intra_op_parallelism_threads': 8, 'inter_op_parallelism_threads': 8}, 'compress_observations': False, 'metrics_episode_collection_timeout_s': 180, 'metrics_num_episodes_for_smoothing': 100, 'min_time_s_per_reporting': None, 'min_train_timesteps_per_reporting': None, 'min_sample_timesteps_per_reporting': 0, 'seed': None, 'extra_python_environs_for_driver': {}, 'extra_python_environs_for_worker': {}, 'num_gpus': 1.0, '_fake_gpus': False, 'num_cpus_per_worker': 1, 'num_gpus_per_worker': 0, 'custom_resources_per_worker': {}, 'num_cpus_for_driver': 1, 'placement_strategy': 'PACK', 'input': 'sampler', 'input_config': {}, 'actions_in_input_normalized': False, 'input_evaluation': ['is', 'wis'], 'postprocess_inputs': False, 'shuffle_buffer_size': 0, 'output': None, 'output_compress_columns': ['obs', 'new_obs'], 'output_max_file_size': 67108864, 'multiagent': {'policies': {'default_policy': PolicySpec(policy_class=<class 'ray.rllib.agents.ppo.ppo_torch_policy.PPOTorchPolicy'>, observation_space=None, action_space=None, config={})}, 'policy_map_capacity': 100, 'policy_map_cache': None, 'policy_mapping_fn': None, 'policies_to_train': None, 'observation_fn': None, 'replay_mode': 'independent', 'count_steps_by': 'env_steps'}, 'logger_config': None, '_tf_policy_handles_more_than_one_loss': False, '_disable_preprocessor_api': False, '_disable_action_flattening': False, '_disable_execution_plan_api': False, 'simple_optimizer': False, 'monitor': -1, 'evaluation_num_episodes': -1, 'metrics_smoothing_episodes': -1, 'timesteps_per_iteration': 0, 'min_iter_time_s': -1, 'collect_metrics_timeout': -1, 'use_critic': True, 'use_gae': True, 'lambda': 1.0, 'kl_coeff': 1.0, 'sgd_minibatch_size': 4096, 'shuffle_sequences': True, 'num_sgd_iter': 30, 'lr_schedule': None, 'vf_loss_coeff': 1.0, 'entropy_coeff': 0.0, 'entropy_coeff_schedule': None, 'clip_param': 0.2, 'vf_clip_param': 10.0, 'grad_clip': None, 'kl_target': 0.01, 'vf_share_layers': -1}, 'evaluation_num_workers': 0, 'custom_eval_function': None, 'always_attach_evaluation_results': False, 'sample_async': False, 'sample_collector': <class 'ray.rllib.evaluation.collectors.simple_list_collector.SimpleListCollector'>, 'observation_filter': 'NoFilter', 'synchronize_filters': True, 'tf_session_args': {'intra_op_parallelism_threads': 2, 'inter_op_parallelism_threads': 2, 'gpu_options': {'allow_growth': True}, 'log_device_placement': False, 'device_count': {'CPU': 1}, 'allow_soft_placement': True}, 'local_tf_session_args': {'intra_op_parallelism_threads': 8, 'inter_op_parallelism_threads': 8}, 'compress_observations': False, 'metrics_episode_collection_timeout_s': 180, 'metrics_num_episodes_for_smoothing': 100, 'min_time_s_per_reporting': None, 'min_train_timesteps_per_reporting': None, 'min_sample_timesteps_per_reporting': 0, 'seed': None, 'extra_python_environs_for_driver': {}, 'extra_python_environs_for_worker': {}, 'num_gpus': 1.0, '_fake_gpus': False, 'num_cpus_per_worker': 1, 'num_gpus_per_worker': 0, 'custom_resources_per_worker': {}, 'num_cpus_for_driver': 1, 'placement_strategy': 'PACK', 'input': 'sampler', 'input_config': {}, 'actions_in_input_normalized': False, 'input_evaluation': ['is', 'wis'], 'postprocess_inputs': False, 'shuffle_buffer_size': 0, 'output': None, 'output_compress_columns': ['obs', 'new_obs'], 'output_max_file_size': 67108864, 'multiagent': {'policies': {'default_policy': PolicySpec(policy_class=<class 'ray.rllib.agents.ppo.ppo_torch_policy.PPOTorchPolicy'>, observation_space=None, action_space=None, config={})}, 'policy_map_capacity': 100, 'policy_map_cache': None, 'policy_mapping_fn': None, 'policies_to_train': None, 'observation_fn': None, 'replay_mode': 'independent', 'count_steps_by': 'env_steps'}, 'logger_config': None, '_tf_policy_handles_more_than_one_loss': False, '_disable_preprocessor_api': False, '_disable_action_flattening': False, '_disable_execution_plan_api': False, 'simple_optimizer': False, 'monitor': -1, 'evaluation_num_episodes': -1, 'metrics_smoothing_episodes': -1, 'timesteps_per_iteration': 0, 'min_iter_time_s': -1, 'collect_metrics_timeout': -1, 'use_critic': True, 'use_gae': True, 'lambda': 1.0, 'kl_coeff': 1.0, 'sgd_minibatch_size': 4096, 'shuffle_sequences': True, 'num_sgd_iter': 30, 'lr_schedule': None, 'vf_loss_coeff': 1.0, 'entropy_coeff': 0.0, 'entropy_coeff_schedule': None, 'clip_param': 0.2, 'vf_clip_param': 10.0, 'grad_clip': None, 'kl_target': 0.01, 'vf_share_layers': -1}\n"
     ]
    },
    {
     "name": "stdout",
     "output_type": "stream",
     "text": [
      "episode: 0 reward:-1.3729396825396822\n"
     ]
    },
    {
     "name": "stderr",
     "output_type": "stream",
     "text": [
      "2022-05-08 21:56:58,507\tWARNING deprecation.py:45 -- DeprecationWarning: `clear_buffer` has been deprecated. Use `Filter.reset_buffer()` instead. This will raise an error in the future!\n"
     ]
    },
    {
     "name": "stdout",
     "output_type": "stream",
     "text": [
      "evaluation time: 100.0\n",
      "checkpoint saved at ../checkpoints/race_v2.0.8/checkpoint_000001/checkpoint-1\n",
      "episode: 1 reward:-1.3700896414342627\n",
      "episode: 2 reward:-1.281537063953488\n",
      "episode: 3 reward:-1.2471907841552134\n",
      "episode: 4 reward:-1.1661740331491697\n",
      "episode: 5 reward:-1.0617698658410706\n",
      "evaluation time: 100.0\n",
      "episode: 6 reward:-0.9218436406067633\n",
      "episode: 7 reward:-0.8567167919799437\n",
      "episode: 8 reward:-0.7814428191489292\n",
      "episode: 9 reward:-0.651681159420281\n",
      "episode: 10 reward:-0.5680757800891433\n",
      "evaluation time: 100.0\n",
      "episode: 11 reward:-0.44181672025722274\n",
      "episode: 12 reward:-0.48595999999998796\n",
      "episode: 13 reward:-0.3928534923338872\n",
      "episode: 14 reward:-0.33747068676715597\n",
      "episode: 15 reward:-0.27648044692735757\n",
      "evaluation time: 100.0\n",
      "episode: 16 reward:-0.24136036036034475\n",
      "episode: 17 reward:-0.18649523809522078\n",
      "episode: 18 reward:-0.0180784708249299\n",
      "episode: 19 reward:0.04008403361346674\n",
      "episode: 20 reward:0.07849576271188578\n",
      "evaluation time: 100.0\n",
      "episode: 21 reward:0.37245614035090413\n",
      "episode: 22 reward:0.31019002375299465\n",
      "episode: 23 reward:0.4491243654822601\n",
      "episode: 24 reward:0.46075324675327617\n",
      "episode: 25 reward:0.4772093023256097\n",
      "evaluation time: 100.0\n",
      "episode: 26 reward:0.6434722222222512\n",
      "episode: 27 reward:0.601023936170239\n",
      "episode: 28 reward:0.9574320241692086\n",
      "episode: 29 reward:0.776422535211297\n",
      "episode: 30 reward:0.8879325513196792\n",
      "evaluation time: 100.0\n",
      "\u001b[2m\u001b[36m(RolloutWorker pid=49336)\u001b[0m agent on ../maps/race7 got reward 13.074999999998994 in 31.380000000002106. Finish reward: 0. Padding punish: -4.749999999999991\n",
      "episode: 31 reward:1.0316918429003292\n",
      "episode: 32 reward:0.929601139601164\n",
      "episode: 33 reward:1.1110982658959823\n",
      "\u001b[2m\u001b[36m(RolloutWorker pid=49330)\u001b[0m agent on ../maps/race8 got reward 10.264999999999077 in 31.47000000000212. Finish reward: 0. Padding punish: -7.94999999999998\n",
      "episode: 34 reward:1.0880239520958348\n",
      "episode: 35 reward:1.057846820809272\n",
      "evaluation time: 100.0\n",
      "\u001b[2m\u001b[36m(RolloutWorker pid=49317)\u001b[0m agent on ../maps/race8 got reward 17.31499999999901 in 30.77000000000201. Finish reward: 0. Padding punish: -1.0500000000000003\n",
      "\u001b[2m\u001b[36m(RolloutWorker pid=49329)\u001b[0m agent on ../maps/race7 got reward 10.699999999999045 in 29.500000000001812. Finish reward: 0. Padding punish: -7.99999999999998\n",
      "\u001b[2m\u001b[36m(RolloutWorker pid=49330)\u001b[0m agent on ../maps/race8 got reward 15.389999999999 in 30.82000000000202. Finish reward: 0. Padding punish: -2.9999999999999973\n",
      "\u001b[2m\u001b[36m(RolloutWorker pid=49325)\u001b[0m agent on ../maps/race7 got reward 12.434999999999102 in 30.0700000000019. Finish reward: 0. Padding punish: -5.999999999999987\n",
      "episode: 36 reward:1.5350000000000128\n",
      "\u001b[2m\u001b[36m(RolloutWorker pid=49324)\u001b[0m agent on ../maps/race6 got reward 12.554999999998937 in 31.40000000000211. Finish reward: 0. Padding punish: -5.299999999999989\n",
      "\u001b[2m\u001b[36m(RolloutWorker pid=49323)\u001b[0m agent on ../maps/race7 got reward 15.739999999998972 in 31.40000000000211. Finish reward: 0. Padding punish: -2.1000000000000005\n",
      "\u001b[2m\u001b[36m(RolloutWorker pid=49321)\u001b[0m agent on ../maps/race7 got reward 16.959999999999056 in 30.090000000001904. Finish reward: 0. Padding punish: -1.5000000000000007\n",
      "episode: 37 reward:2.010885826771663\n",
      "\u001b[2m\u001b[36m(RolloutWorker pid=49323)\u001b[0m agent on ../maps/race7 got reward 15.869999999999065 in 30.480000000001965. Finish reward: 0. Padding punish: -2.3999999999999995\n",
      "\u001b[2m\u001b[36m(RolloutWorker pid=49317)\u001b[0m agent on ../maps/race8 got reward 15.314999999999019 in 31.050000000002054. Finish reward: 0. Padding punish: -3.099999999999997\n",
      "episode: 38 reward:1.8039552238806147\n",
      "\u001b[2m\u001b[36m(RolloutWorker pid=49331)\u001b[0m agent on ../maps/race7 got reward 14.51499999999903 in 30.270000000001932. Finish reward: 0. Padding punish: -3.7999999999999945\n",
      "\u001b[2m\u001b[36m(RolloutWorker pid=49325)\u001b[0m agent on ../maps/race8 got reward 14.464999999998973 in 31.170000000002073. Finish reward: 0. Padding punish: -3.7999999999999945\n",
      "\u001b[2m\u001b[36m(RolloutWorker pid=49328)\u001b[0m agent on ../maps/race8 got reward 16.159999999999012 in 30.730000000002004. Finish reward: 0. Padding punish: -2.25\n",
      "episode: 39 reward:1.8332649253731454\n",
      "\u001b[2m\u001b[36m(RolloutWorker pid=49293)\u001b[0m agent on ../maps/race9 got reward 13.374999999998998 in 31.15000000000207. Finish reward: 0. Padding punish: -4.849999999999991\n",
      "\u001b[2m\u001b[36m(RolloutWorker pid=49321)\u001b[0m agent on ../maps/race7 got reward 17.044999999999053 in 30.290000000001935. Finish reward: 0. Padding punish: -1.3000000000000005\n",
      "\u001b[2m\u001b[36m(RolloutWorker pid=49336)\u001b[0m agent on ../maps/race8 got reward 14.629999999999056 in 31.070000000002057. Finish reward: 0. Padding punish: -3.899999999999994\n",
      "\u001b[2m\u001b[36m(RolloutWorker pid=49293)\u001b[0m agent on ../maps/race8 got reward 14.489999999999005 in 31.29000000000209. Finish reward: 0. Padding punish: -3.649999999999995\n",
      "\u001b[2m\u001b[36m(RolloutWorker pid=49323)\u001b[0m agent on ../maps/race7 got reward 15.71499999999901 in 30.860000000002024. Finish reward: 0. Padding punish: -2.3499999999999996\n",
      "episode: 40 reward:2.366297071129697\n",
      "agent on ../maps/race_test1 got reward 12.579999999999039 in 31.27000000000209. Finish reward: 0. Padding punish: -5.399999999999989\n",
      "lap: [31.27]\n",
      "evaluation time: 90.18142857142887\n",
      "checkpoint saved at ../checkpoints/race_v2.0.8/checkpoint_000041/checkpoint-41\n",
      "\u001b[2m\u001b[36m(RolloutWorker pid=49317)\u001b[0m agent on ../maps/race8 got reward 14.629999999999084 in 31.430000000002114. Finish reward: 0. Padding punish: -3.4999999999999956\n",
      "\u001b[2m\u001b[36m(RolloutWorker pid=49323)\u001b[0m agent on ../maps/race7 got reward 15.334999999999042 in 30.850000000002023. Finish reward: 0. Padding punish: -2.799999999999998\n",
      "\u001b[2m\u001b[36m(RolloutWorker pid=49317)\u001b[0m agent on ../maps/race8 got reward 14.769999999999095 in 31.050000000002054. Finish reward: 0. Padding punish: -3.599999999999995\n",
      "\u001b[2m\u001b[36m(RolloutWorker pid=49336)\u001b[0m agent on ../maps/race6 got reward 14.319999999999002 in 31.000000000002046. Finish reward: 0. Padding punish: -3.649999999999995\n",
      "episode: 41 reward:2.4454310344827537\n",
      "\u001b[2m\u001b[36m(RolloutWorker pid=49336)\u001b[0m agent on ../maps/race8 got reward 14.354999999999036 in 30.790000000002014. Finish reward: 0. Padding punish: -4.049999999999994\n",
      "\u001b[2m\u001b[36m(RolloutWorker pid=49293)\u001b[0m agent on ../maps/race8 got reward 15.404999999999028 in 31.41000000000211. Finish reward: 0. Padding punish: -2.6999999999999984\n",
      "episode: 42 reward:2.2967741935483894\n",
      "\u001b[2m\u001b[36m(RolloutWorker pid=49317)\u001b[0m agent on ../maps/race7 got reward 17.614999999999046 in 31.250000000002085. Finish reward: 0. Padding punish: -0.2\n",
      "\u001b[2m\u001b[36m(RolloutWorker pid=49326)\u001b[0m agent on ../maps/race7 got reward 14.969999999999047 in 31.73000000000216. Finish reward: 0. Padding punish: -2.6499999999999986\n",
      "episode: 43 reward:2.510530973451325\n",
      "\u001b[2m\u001b[36m(RolloutWorker pid=49324)\u001b[0m agent on ../maps/race6 got reward 14.739999999998966 in 31.320000000002096. Finish reward: 0. Padding punish: -3.049999999999997\n",
      "\u001b[2m\u001b[36m(RolloutWorker pid=49317)\u001b[0m agent on ../maps/race7 got reward 15.964999999998929 in 32.090000000002185. Finish reward: 0. Padding punish: -1.6500000000000008\n",
      "\u001b[2m\u001b[36m(RolloutWorker pid=49330)\u001b[0m agent on ../maps/race7 got reward 15.839999999999028 in 30.97000000000204. Finish reward: 0. Padding punish: -2.25\n",
      "\u001b[2m\u001b[36m(RolloutWorker pid=49323)\u001b[0m agent on ../maps/race8 got reward 16.02499999999905 in 31.940000000002193. Finish reward: 0. Padding punish: -1.900000000000001\n",
      "\u001b[2m\u001b[36m(RolloutWorker pid=49321)\u001b[0m agent on ../maps/race8 got reward 14.144999999998937 in 32.140000000002175. Finish reward: 0. Padding punish: -3.649999999999995\n",
      "\u001b[2m\u001b[36m(RolloutWorker pid=49317)\u001b[0m agent on ../maps/race6 got reward 13.429999999998957 in 31.78000000000217. Finish reward: 0. Padding punish: -4.149999999999993\n",
      "episode: 44 reward:3.381182795698872\n",
      "\u001b[2m\u001b[36m(RolloutWorker pid=49328)\u001b[0m agent on ../maps/race6 got reward 13.919999999998934 in 31.900000000002187. Finish reward: 0. Padding punish: -3.699999999999995\n",
      "\u001b[2m\u001b[36m(RolloutWorker pid=49334)\u001b[0m agent on ../maps/race7 got reward 12.05499999999904 in 31.180000000002075. Finish reward: 0. Padding punish: -5.849999999999987\n",
      "\u001b[2m\u001b[36m(RolloutWorker pid=49333)\u001b[0m agent on ../maps/race8 got reward 15.104999999999064 in 31.620000000002143. Finish reward: 0. Padding punish: -2.8999999999999977\n"
     ]
    },
    {
     "name": "stdout",
     "output_type": "stream",
     "text": [
      "\u001b[2m\u001b[36m(RolloutWorker pid=49317)\u001b[0m agent on ../maps/race8 got reward 14.499999999999051 in 31.820000000002175. Finish reward: 0. Padding punish: -3.4499999999999957\n",
      "\u001b[2m\u001b[36m(RolloutWorker pid=49329)\u001b[0m agent on ../maps/race7 got reward 14.89999999999902 in 30.810000000002017. Finish reward: 0. Padding punish: -3.149999999999997\n",
      "\u001b[2m\u001b[36m(RolloutWorker pid=49330)\u001b[0m agent on ../maps/race7 got reward 16.134999999999042 in 31.02000000000205. Finish reward: 0. Padding punish: -1.800000000000001\n",
      "\u001b[2m\u001b[36m(RolloutWorker pid=49317)\u001b[0m agent on ../maps/race7 got reward 15.61999999999896 in 31.41000000000211. Finish reward: 0. Padding punish: -2.1500000000000004\n",
      "\u001b[2m\u001b[36m(RolloutWorker pid=49326)\u001b[0m agent on ../maps/race7 got reward 13.699999999999003 in 31.110000000002064. Finish reward: 0. Padding punish: -4.149999999999993\n",
      "\u001b[2m\u001b[36m(RolloutWorker pid=49324)\u001b[0m agent on ../maps/race6 got reward 14.47999999999897 in 31.27000000000209. Finish reward: 0. Padding punish: -3.399999999999996\n",
      "\u001b[2m\u001b[36m(RolloutWorker pid=49328)\u001b[0m agent on ../maps/race7 got reward 15.974999999999 in 31.440000000002115. Finish reward: 0. Padding punish: -1.7500000000000009\n",
      "episode: 45 reward:2.6683936651583378\n",
      "evaluation time: 100.0\n",
      "\u001b[2m\u001b[36m(RolloutWorker pid=49325)\u001b[0m agent on ../maps/race7 got reward 15.08499999999899 in 31.010000000002048. Finish reward: 0. Padding punish: -2.849999999999998\n",
      "\u001b[2m\u001b[36m(RolloutWorker pid=49330)\u001b[0m agent on ../maps/race7 got reward 12.839999999999037 in 31.15000000000207. Finish reward: 0. Padding punish: -5.04999999999999\n",
      "\u001b[2m\u001b[36m(RolloutWorker pid=49321)\u001b[0m agent on ../maps/race7 got reward 15.884999999999012 in 30.590000000001982. Finish reward: 0. Padding punish: -2.25\n",
      "\u001b[2m\u001b[36m(RolloutWorker pid=49334)\u001b[0m agent on ../maps/race7 got reward 14.324999999999015 in 30.850000000002023. Finish reward: 0. Padding punish: -3.7499999999999947\n",
      "\u001b[2m\u001b[36m(RolloutWorker pid=49333)\u001b[0m agent on ../maps/race8 got reward 15.779999999999106 in 31.47000000000212. Finish reward: 0. Padding punish: -2.3499999999999996\n",
      "episode: 46 reward:3.431701570680581\n",
      "\u001b[2m\u001b[36m(RolloutWorker pid=49325)\u001b[0m agent on ../maps/race7 got reward 16.614999999998997 in 31.15000000000207. Finish reward: 0. Padding punish: -1.2500000000000004\n",
      "\u001b[2m\u001b[36m(RolloutWorker pid=49324)\u001b[0m agent on ../maps/race8 got reward 14.78999999999895 in 31.27000000000209. Finish reward: 0. Padding punish: -3.4999999999999956\n",
      "\u001b[2m\u001b[36m(RolloutWorker pid=49334)\u001b[0m agent on ../maps/race7 got reward 16.609999999999037 in 30.340000000001943. Finish reward: 0. Padding punish: -1.7000000000000008\n",
      "\u001b[2m\u001b[36m(RolloutWorker pid=49328)\u001b[0m agent on ../maps/race8 got reward 14.039999999999036 in 31.450000000002117. Finish reward: 0. Padding punish: -4.049999999999994\n",
      "\u001b[2m\u001b[36m(RolloutWorker pid=49331)\u001b[0m agent on ../maps/race8 got reward 14.27999999999902 in 30.530000000001973. Finish reward: 0. Padding punish: -4.399999999999992\n",
      "\u001b[2m\u001b[36m(RolloutWorker pid=49323)\u001b[0m agent on ../maps/race7 got reward 15.899999999999098 in 30.0600000000019. Finish reward: 0. Padding punish: -2.549999999999999\n",
      "\u001b[2m\u001b[36m(RolloutWorker pid=49333)\u001b[0m agent on ../maps/race8 got reward 16.49499999999911 in 30.660000000001993. Finish reward: 0. Padding punish: -1.950000000000001\n",
      "\u001b[2m\u001b[36m(RolloutWorker pid=49310)\u001b[0m agent on ../maps/race7 got reward 16.30499999999899 in 30.980000000002043. Finish reward: 0. Padding punish: -1.6000000000000008\n",
      "\u001b[2m\u001b[36m(RolloutWorker pid=49329)\u001b[0m agent on ../maps/race8 got reward 17.07499999999901 in 31.230000000002082. Finish reward: 0. Padding punish: -1.1500000000000004\n",
      "episode: 47 reward:3.1083653846153263\n",
      "\u001b[2m\u001b[36m(RolloutWorker pid=49325)\u001b[0m agent on ../maps/race8 got reward 13.989999999998982 in 31.130000000002067. Finish reward: 0. Padding punish: -4.399999999999992\n",
      "\u001b[2m\u001b[36m(RolloutWorker pid=49326)\u001b[0m agent on ../maps/race8 got reward 18.03999999999904 in 30.680000000001996. Finish reward: 0. Padding punish: -0.39999999999999997\n",
      "\u001b[2m\u001b[36m(RolloutWorker pid=49321)\u001b[0m agent on ../maps/race8 got reward 16.40999999999902 in 30.65000000000199. Finish reward: 0. Padding punish: -2.1000000000000005\n",
      "\u001b[2m\u001b[36m(RolloutWorker pid=49324)\u001b[0m agent on ../maps/race7 got reward 14.999999999999108 in 29.710000000001845. Finish reward: 0. Padding punish: -3.649999999999995\n",
      "\u001b[2m\u001b[36m(RolloutWorker pid=49328)\u001b[0m agent on ../maps/race7 got reward 14.674999999999068 in 29.81000000000186. Finish reward: 0. Padding punish: -3.8499999999999943\n",
      "\u001b[2m\u001b[36m(RolloutWorker pid=49334)\u001b[0m agent on ../maps/race8 got reward 15.66499999999909 in 31.040000000002053. Finish reward: 0. Padding punish: -3.049999999999997\n",
      "\u001b[2m\u001b[36m(RolloutWorker pid=49325)\u001b[0m agent on ../maps/race8 got reward 17.68499999999915 in 30.01000000000189. Finish reward: 0. Padding punish: -1.1500000000000004\n",
      "episode: 48 reward:3.086316964285682\n",
      "\u001b[2m\u001b[36m(RolloutWorker pid=49331)\u001b[0m agent on ../maps/race8 got reward 15.894999999999069 in 30.39000000000195. Finish reward: 0. Padding punish: -2.6999999999999984\n",
      "\u001b[2m\u001b[36m(RolloutWorker pid=49326)\u001b[0m agent on ../maps/race8 got reward 10.559999999998965 in 31.320000000002096. Finish reward: 0. Padding punish: -7.7499999999999805\n",
      "\u001b[2m\u001b[36m(RolloutWorker pid=49328)\u001b[0m agent on ../maps/race7 got reward 17.13999999999907 in 30.12000000000191. Finish reward: 0. Padding punish: -1.3500000000000005\n",
      "\u001b[2m\u001b[36m(RolloutWorker pid=49324)\u001b[0m agent on ../maps/race8 got reward 16.10499999999913 in 30.860000000002024. Finish reward: 0. Padding punish: -2.3499999999999996\n",
      "\u001b[2m\u001b[36m(RolloutWorker pid=49329)\u001b[0m agent on ../maps/race7 got reward 14.999999999999003 in 31.130000000002067. Finish reward: 0. Padding punish: -2.9999999999999973\n",
      "\u001b[2m\u001b[36m(RolloutWorker pid=49336)\u001b[0m agent on ../maps/race9 got reward 13.374999999998938 in 31.3400000000021. Finish reward: 0. Padding punish: -4.849999999999991\n",
      "\u001b[2m\u001b[36m(RolloutWorker pid=49293)\u001b[0m agent on ../maps/race7 got reward 16.084999999999017 in 30.82000000000202. Finish reward: 0. Padding punish: -2.000000000000001\n",
      "\u001b[2m\u001b[36m(RolloutWorker pid=49329)\u001b[0m agent on ../maps/race7 got reward 16.91999999999906 in 30.230000000001926. Finish reward: 0. Padding punish: -1.4000000000000006\n",
      "\u001b[2m\u001b[36m(RolloutWorker pid=49326)\u001b[0m agent on ../maps/race8 got reward 14.654999999999001 in 30.720000000002003. Finish reward: 0. Padding punish: -3.8499999999999943\n",
      "episode: 49 reward:3.402487437185876\n",
      "\u001b[2m\u001b[36m(RolloutWorker pid=49323)\u001b[0m agent on ../maps/race7 got reward 17.04499999999907 in 30.170000000001917. Finish reward: 0. Padding punish: -1.3000000000000005\n",
      "\u001b[2m\u001b[36m(RolloutWorker pid=49325)\u001b[0m agent on ../maps/race7 got reward 14.399999999999011 in 30.430000000001957. Finish reward: 0. Padding punish: -3.8499999999999943\n",
      "\u001b[2m\u001b[36m(RolloutWorker pid=49324)\u001b[0m agent on ../maps/race7 got reward 16.65499999999903 in 30.610000000001985. Finish reward: 0. Padding punish: -1.5000000000000007\n",
      "\u001b[2m\u001b[36m(RolloutWorker pid=49321)\u001b[0m agent on ../maps/race8 got reward 17.489999999999124 in 30.240000000001928. Finish reward: 0. Padding punish: -1.1500000000000004\n",
      "\u001b[2m\u001b[36m(RolloutWorker pid=49330)\u001b[0m agent on ../maps/race7 got reward 17.064999999999053 in 30.270000000001932. Finish reward: 0. Padding punish: -1.3000000000000005\n",
      "\u001b[2m\u001b[36m(RolloutWorker pid=49334)\u001b[0m agent on ../maps/race6 got reward 14.42499999999905 in 30.610000000001985. Finish reward: 0. Padding punish: -3.7499999999999947\n",
      "\u001b[2m\u001b[36m(RolloutWorker pid=49310)\u001b[0m agent on ../maps/race8 got reward 12.854999999999087 in 30.82000000000202. Finish reward: 0. Padding punish: -5.599999999999988\n",
      "\u001b[2m\u001b[36m(RolloutWorker pid=49324)\u001b[0m agent on ../maps/race6 got reward 15.514999999999022 in 30.490000000001967. Finish reward: 0. Padding punish: -2.6999999999999984\n",
      "\u001b[2m\u001b[36m(RolloutWorker pid=49323)\u001b[0m agent on ../maps/race7 got reward 14.514999999999064 in 30.0700000000019. Finish reward: 0. Padding punish: -3.949999999999994\n",
      "episode: 50 reward:3.1439952153109667\n",
      "evaluation time: 100.0\n",
      "\u001b[2m\u001b[36m(RolloutWorker pid=49331)\u001b[0m agent on ../maps/race8 got reward 13.819999999999007 in 30.780000000002012. Finish reward: 0. Padding punish: -4.549999999999992\n",
      "\u001b[2m\u001b[36m(RolloutWorker pid=49325)\u001b[0m agent on ../maps/race7 got reward 16.834999999999074 in 30.33000000000194. Finish reward: 0. Padding punish: -1.4500000000000006\n"
     ]
    },
    {
     "name": "stdout",
     "output_type": "stream",
     "text": [
      "\u001b[2m\u001b[36m(RolloutWorker pid=49336)\u001b[0m agent on ../maps/race7 got reward 14.174999999999054 in 30.170000000001917. Finish reward: 0. Padding punish: -4.249999999999993\n",
      "\u001b[2m\u001b[36m(RolloutWorker pid=49329)\u001b[0m agent on ../maps/race8 got reward 17.604999999999066 in 30.44000000000196. Finish reward: 0. Padding punish: -1.0000000000000002\n",
      "\u001b[2m\u001b[36m(RolloutWorker pid=49326)\u001b[0m agent on ../maps/race9 got reward 12.349999999998934 in 31.40000000000211. Finish reward: 0. Padding punish: -5.849999999999987\n",
      "\u001b[2m\u001b[36m(RolloutWorker pid=49334)\u001b[0m agent on ../maps/race7 got reward 14.634999999999062 in 30.180000000001918. Finish reward: 0. Padding punish: -3.7999999999999945\n",
      "\u001b[2m\u001b[36m(RolloutWorker pid=49329)\u001b[0m agent on ../maps/race6 got reward 12.414999999999056 in 30.540000000001974. Finish reward: 0. Padding punish: -5.799999999999987\n",
      "\u001b[2m\u001b[36m(RolloutWorker pid=49293)\u001b[0m agent on ../maps/race7 got reward 15.68999999999905 in 30.720000000002003. Finish reward: 0. Padding punish: -2.3999999999999995\n",
      "\u001b[2m\u001b[36m(RolloutWorker pid=49328)\u001b[0m agent on ../maps/race8 got reward 16.64499999999907 in 30.500000000001968. Finish reward: 0. Padding punish: -1.850000000000001\n",
      "\u001b[2m\u001b[36m(RolloutWorker pid=49331)\u001b[0m agent on ../maps/race7 got reward 16.734999999999044 in 30.490000000001967. Finish reward: 0. Padding punish: -1.5000000000000007\n",
      "\u001b[2m\u001b[36m(RolloutWorker pid=49326)\u001b[0m agent on ../maps/race6 got reward 16.474999999999056 in 30.750000000002007. Finish reward: 0. Padding punish: -1.6000000000000008\n",
      "\u001b[2m\u001b[36m(RolloutWorker pid=49336)\u001b[0m agent on ../maps/race7 got reward 15.659999999999085 in 30.280000000001934. Finish reward: 0. Padding punish: -2.6499999999999986\n",
      "\u001b[2m\u001b[36m(RolloutWorker pid=49310)\u001b[0m agent on ../maps/race7 got reward 14.25999999999907 in 29.850000000001867. Finish reward: 0. Padding punish: -4.299999999999993\n",
      "\u001b[2m\u001b[36m(RolloutWorker pid=49321)\u001b[0m agent on ../maps/race7 got reward 16.10999999999907 in 30.140000000001912. Finish reward: 0. Padding punish: -2.25\n",
      "\u001b[2m\u001b[36m(RolloutWorker pid=49329)\u001b[0m agent on ../maps/race8 got reward 13.034999999998949 in 31.09000000000206. Finish reward: 0. Padding punish: -5.349999999999989\n",
      "\u001b[2m\u001b[36m(RolloutWorker pid=49323)\u001b[0m agent on ../maps/race7 got reward 16.119999999999024 in 30.540000000001974. Finish reward: 0. Padding punish: -2.0500000000000007\n",
      "\u001b[2m\u001b[36m(RolloutWorker pid=49334)\u001b[0m agent on ../maps/race7 got reward 17.68499999999912 in 30.31000000000194. Finish reward: 0. Padding punish: -0.6\n",
      "\u001b[2m\u001b[36m(RolloutWorker pid=49317)\u001b[0m agent on ../maps/race6 got reward 15.484999999999099 in 30.100000000001906. Finish reward: 0. Padding punish: -2.8999999999999977\n",
      "episode: 51 reward:3.679587628865894\n",
      "\u001b[2m\u001b[36m(RolloutWorker pid=49328)\u001b[0m agent on ../maps/race7 got reward 16.95999999999912 in 29.950000000001882. Finish reward: 0. Padding punish: -1.5000000000000007\n",
      "\u001b[2m\u001b[36m(RolloutWorker pid=49334)\u001b[0m agent on ../maps/race7 got reward 17.4099999999991 in 29.80000000000186. Finish reward: 0. Padding punish: -1.1500000000000004\n",
      "\u001b[2m\u001b[36m(RolloutWorker pid=49317)\u001b[0m agent on ../maps/race7 got reward 16.714999999999048 in 30.350000000001945. Finish reward: 0. Padding punish: -1.6000000000000008\n",
      "\u001b[2m\u001b[36m(RolloutWorker pid=49310)\u001b[0m agent on ../maps/race8 got reward 15.169999999999135 in 30.600000000001984. Finish reward: 0. Padding punish: -3.4499999999999957\n",
      "\u001b[2m\u001b[36m(RolloutWorker pid=49331)\u001b[0m agent on ../maps/race8 got reward 14.714999999999012 in 31.03000000000205. Finish reward: 0. Padding punish: -3.699999999999995\n",
      "\u001b[2m\u001b[36m(RolloutWorker pid=49325)\u001b[0m agent on ../maps/race6 got reward 15.844999999999093 in 30.100000000001906. Finish reward: 0. Padding punish: -2.549999999999999\n",
      "\u001b[2m\u001b[36m(RolloutWorker pid=49334)\u001b[0m agent on ../maps/race8 got reward 15.109999999999022 in 30.480000000001965. Finish reward: 0. Padding punish: -3.5499999999999954\n",
      "\u001b[2m\u001b[36m(RolloutWorker pid=49333)\u001b[0m agent on ../maps/race6 got reward 10.454999999999039 in 30.240000000001928. Finish reward: 0. Padding punish: -7.84999999999998\n",
      "\u001b[2m\u001b[36m(RolloutWorker pid=49324)\u001b[0m agent on ../maps/race7 got reward 16.214999999999105 in 29.74000000000185. Finish reward: 0. Padding punish: -2.3499999999999996\n",
      "episode: 52 reward:3.5578499999999567\n",
      "\u001b[2m\u001b[36m(RolloutWorker pid=49329)\u001b[0m agent on ../maps/race7 got reward 14.20999999999905 in 30.25000000000193. Finish reward: 0. Padding punish: -4.099999999999993\n",
      "\u001b[2m\u001b[36m(RolloutWorker pid=49317)\u001b[0m agent on ../maps/race7 got reward 18.064999999999074 in 29.93000000000188. Finish reward: 0. Padding punish: -0.39999999999999997\n",
      "\u001b[2m\u001b[36m(RolloutWorker pid=49325)\u001b[0m agent on ../maps/race8 got reward 14.674999999999084 in 30.750000000002007. Finish reward: 0. Padding punish: -3.8499999999999943\n",
      "\u001b[2m\u001b[36m(RolloutWorker pid=49328)\u001b[0m agent on ../maps/race8 got reward 15.819999999999162 in 30.680000000001996. Finish reward: 0. Padding punish: -2.849999999999998\n",
      "\u001b[2m\u001b[36m(RolloutWorker pid=49331)\u001b[0m agent on ../maps/race7 got reward 16.20999999999904 in 30.25000000000193. Finish reward: 0. Padding punish: -2.1000000000000005\n",
      "\u001b[2m\u001b[36m(RolloutWorker pid=49317)\u001b[0m agent on ../maps/race7 got reward 15.179999999999094 in 29.920000000001878. Finish reward: 0. Padding punish: -3.2999999999999963\n",
      "\u001b[2m\u001b[36m(RolloutWorker pid=49324)\u001b[0m agent on ../maps/race7 got reward 14.739999999999053 in 30.180000000001918. Finish reward: 0. Padding punish: -3.599999999999995\n",
      "\u001b[2m\u001b[36m(RolloutWorker pid=49321)\u001b[0m agent on ../maps/race7 got reward 16.56499999999908 in 30.100000000001906. Finish reward: 0. Padding punish: -1.900000000000001\n",
      "\u001b[2m\u001b[36m(RolloutWorker pid=49333)\u001b[0m agent on ../maps/race7 got reward 16.86999999999904 in 30.370000000001948. Finish reward: 0. Padding punish: -1.4500000000000006\n",
      "\u001b[2m\u001b[36m(RolloutWorker pid=49329)\u001b[0m agent on ../maps/race8 got reward 15.889999999999024 in 30.460000000001962. Finish reward: 0. Padding punish: -2.849999999999998\n",
      "\u001b[2m\u001b[36m(RolloutWorker pid=49331)\u001b[0m agent on ../maps/race6 got reward 15.284999999999046 in 30.290000000001935. Finish reward: 0. Padding punish: -3.049999999999997\n",
      "\u001b[2m\u001b[36m(RolloutWorker pid=49329)\u001b[0m agent on ../maps/race8 got reward 15.099999999999127 in 30.020000000001893. Finish reward: 0. Padding punish: -3.7499999999999947\n",
      "episode: 53 reward:3.1984741784037074\n",
      "\u001b[2m\u001b[36m(RolloutWorker pid=49324)\u001b[0m agent on ../maps/race7 got reward 16.529999999999106 in 29.630000000001832. Finish reward: 0. Padding punish: -2.1000000000000005\n",
      "\u001b[2m\u001b[36m(RolloutWorker pid=49323)\u001b[0m agent on ../maps/race8 got reward 15.249999999999021 in 30.51000000000197. Finish reward: 0. Padding punish: -3.349999999999996\n",
      "\u001b[2m\u001b[36m(RolloutWorker pid=49328)\u001b[0m agent on ../maps/race6 got reward 13.809999999999068 in 29.950000000001882. Finish reward: 0. Padding punish: -4.6499999999999915\n",
      "\u001b[2m\u001b[36m(RolloutWorker pid=49293)\u001b[0m agent on ../maps/race7 got reward 14.55499999999907 in 30.080000000001903. Finish reward: 0. Padding punish: -3.949999999999994\n",
      "\u001b[2m\u001b[36m(RolloutWorker pid=49334)\u001b[0m agent on ../maps/race7 got reward 15.2349999999991 in 30.480000000001965. Finish reward: 0. Padding punish: -2.9999999999999973\n",
      "\u001b[2m\u001b[36m(RolloutWorker pid=49330)\u001b[0m agent on ../maps/race8 got reward 14.534999999999114 in 30.150000000001913. Finish reward: 0. Padding punish: -4.249999999999993\n",
      "\u001b[2m\u001b[36m(RolloutWorker pid=49321)\u001b[0m agent on ../maps/race7 got reward 14.204999999999137 in 29.220000000001768. Finish reward: 0. Padding punish: -4.6499999999999915\n",
      "\u001b[2m\u001b[36m(RolloutWorker pid=49325)\u001b[0m agent on ../maps/race8 got reward 15.814999999999104 in 30.32000000000194. Finish reward: 0. Padding punish: -2.849999999999998\n",
      "\u001b[2m\u001b[36m(RolloutWorker pid=49324)\u001b[0m agent on ../maps/race6 got reward 15.949999999999074 in 29.950000000001882. Finish reward: 0. Padding punish: -2.499999999999999\n",
      "\u001b[2m\u001b[36m(RolloutWorker pid=49334)\u001b[0m agent on ../maps/race8 got reward 16.959999999999166 in 29.99000000000189. Finish reward: 0. Padding punish: -1.850000000000001\n",
      "\u001b[2m\u001b[36m(RolloutWorker pid=49323)\u001b[0m agent on ../maps/race7 got reward 15.469999999999022 in 30.540000000001974. Finish reward: 0. Padding punish: -2.6999999999999984\n",
      "\u001b[2m\u001b[36m(RolloutWorker pid=49336)\u001b[0m agent on ../maps/race7 got reward 17.159999999999048 in 30.25000000000193. Finish reward: 0. Padding punish: -1.1500000000000004\n"
     ]
    },
    {
     "name": "stdout",
     "output_type": "stream",
     "text": [
      "\u001b[2m\u001b[36m(RolloutWorker pid=49324)\u001b[0m agent on ../maps/race8 got reward 17.72999999999904 in 30.340000000001943. Finish reward: 0. Padding punish: -0.9500000000000003\n",
      "episode: 54 reward:3.728787878787812\n",
      "\u001b[2m\u001b[36m(RolloutWorker pid=49321)\u001b[0m agent on ../maps/race8 got reward 15.984999999999113 in 29.890000000001873. Finish reward: 0. Padding punish: -2.8999999999999977\n",
      "\u001b[2m\u001b[36m(RolloutWorker pid=49326)\u001b[0m agent on ../maps/race8 got reward 17.414999999999132 in 30.58000000000198. Finish reward: 0. Padding punish: -1.1500000000000004\n",
      "\u001b[2m\u001b[36m(RolloutWorker pid=49331)\u001b[0m agent on ../maps/race8 got reward 14.279999999999152 in 30.910000000002032. Finish reward: 0. Padding punish: -4.099999999999993\n",
      "\u001b[2m\u001b[36m(RolloutWorker pid=49310)\u001b[0m agent on ../maps/race7 got reward 16.324999999999104 in 29.61000000000183. Finish reward: 0. Padding punish: -2.3\n",
      "\u001b[2m\u001b[36m(RolloutWorker pid=49321)\u001b[0m agent on ../maps/race7 got reward 17.01499999999909 in 29.780000000001856. Finish reward: 0. Padding punish: -1.5500000000000007\n",
      "\u001b[2m\u001b[36m(RolloutWorker pid=49334)\u001b[0m agent on ../maps/race8 got reward 15.784999999999034 in 30.83000000000202. Finish reward: 0. Padding punish: -2.849999999999998\n",
      "\u001b[2m\u001b[36m(RolloutWorker pid=49293)\u001b[0m agent on ../maps/race9 got reward 15.549999999998999 in 30.860000000002024. Finish reward: 0. Padding punish: -2.9499999999999975\n",
      "\u001b[2m\u001b[36m(RolloutWorker pid=49331)\u001b[0m agent on ../maps/race6 got reward 13.049999999999093 in 29.760000000001853. Finish reward: 0. Padding punish: -5.4999999999999885\n",
      "\u001b[2m\u001b[36m(RolloutWorker pid=49325)\u001b[0m agent on ../maps/race8 got reward 16.53499999999916 in 29.640000000001834. Finish reward: 0. Padding punish: -2.4499999999999993\n",
      "\u001b[2m\u001b[36m(RolloutWorker pid=49328)\u001b[0m agent on ../maps/race8 got reward 12.614999999999007 in 30.82000000000202. Finish reward: 0. Padding punish: -6.0499999999999865\n",
      "\u001b[2m\u001b[36m(RolloutWorker pid=49330)\u001b[0m agent on ../maps/race7 got reward 15.744999999999111 in 29.4300000000018. Finish reward: 0. Padding punish: -2.9999999999999973\n",
      "\u001b[2m\u001b[36m(RolloutWorker pid=49310)\u001b[0m agent on ../maps/race8 got reward 17.284999999999112 in 30.420000000001956. Finish reward: 0. Padding punish: -1.3000000000000005\n",
      "episode: 55 reward:3.999027027026945\n",
      "agent on ../maps/race_test1 got reward 15.979999999999093 in 30.13000000000191. Finish reward: 0. Padding punish: -2.499999999999999\n",
      "lap: [30.13]\n",
      "evaluation time: 90.0185714285717\n",
      "checkpoint saved at ../checkpoints/race_v2.0.8/checkpoint_000056/checkpoint-56\n",
      "\u001b[2m\u001b[36m(RolloutWorker pid=49323)\u001b[0m agent on ../maps/race8 got reward 17.934999999999043 in 30.370000000001948. Finish reward: 0. Padding punish: -0.65\n",
      "\u001b[2m\u001b[36m(RolloutWorker pid=49324)\u001b[0m agent on ../maps/race7 got reward 15.384999999999078 in 30.00000000000189. Finish reward: 0. Padding punish: -3.049999999999997\n",
      "\u001b[2m\u001b[36m(RolloutWorker pid=49328)\u001b[0m agent on ../maps/race9 got reward 13.399999999998998 in 30.880000000002028. Finish reward: 0. Padding punish: -4.94999999999999\n",
      "\u001b[2m\u001b[36m(RolloutWorker pid=49310)\u001b[0m agent on ../maps/race8 got reward 17.31999999999903 in 30.480000000001965. Finish reward: 0. Padding punish: -1.3000000000000005\n",
      "\u001b[2m\u001b[36m(RolloutWorker pid=49334)\u001b[0m agent on ../maps/race8 got reward 13.249999999999156 in 29.980000000001887. Finish reward: 0. Padding punish: -5.599999999999988\n",
      "\u001b[2m\u001b[36m(RolloutWorker pid=49329)\u001b[0m agent on ../maps/race8 got reward 15.314999999998978 in 31.21000000000208. Finish reward: 0. Padding punish: -3.2499999999999964\n",
      "\u001b[2m\u001b[36m(RolloutWorker pid=49330)\u001b[0m agent on ../maps/race6 got reward 15.309999999999063 in 29.980000000001887. Finish reward: 0. Padding punish: -3.1999999999999966\n",
      "\u001b[2m\u001b[36m(RolloutWorker pid=49323)\u001b[0m agent on ../maps/race8 got reward 15.359999999999156 in 30.410000000001954. Finish reward: 0. Padding punish: -3.2999999999999963\n",
      "\u001b[2m\u001b[36m(RolloutWorker pid=49329)\u001b[0m agent on ../maps/race6 got reward 14.844999999999064 in 29.950000000001882. Finish reward: 0. Padding punish: -3.649999999999995\n",
      "\u001b[2m\u001b[36m(RolloutWorker pid=49317)\u001b[0m agent on ../maps/race8 got reward 14.939999999999035 in 30.180000000001918. Finish reward: 0. Padding punish: -3.949999999999994\n",
      "\u001b[2m\u001b[36m(RolloutWorker pid=49328)\u001b[0m agent on ../maps/race9 got reward 15.439999999999161 in 29.850000000001867. Finish reward: 0. Padding punish: -3.4499999999999957\n",
      "\u001b[2m\u001b[36m(RolloutWorker pid=49336)\u001b[0m agent on ../maps/race6 got reward 14.424999999999052 in 30.20000000000192. Finish reward: 0. Padding punish: -3.949999999999994\n",
      "episode: 56 reward:3.9254687499999403\n",
      "\u001b[2m\u001b[36m(RolloutWorker pid=49293)\u001b[0m agent on ../maps/race7 got reward 16.774999999999164 in 29.000000000001734. Finish reward: 0. Padding punish: -2.2\n",
      "\u001b[2m\u001b[36m(RolloutWorker pid=49317)\u001b[0m agent on ../maps/race7 got reward 15.34499999999906 in 29.99000000000189. Finish reward: 0. Padding punish: -3.149999999999997\n",
      "\u001b[2m\u001b[36m(RolloutWorker pid=49324)\u001b[0m agent on ../maps/race7 got reward 15.994999999999111 in 30.110000000001907. Finish reward: 0. Padding punish: -2.4499999999999993\n",
      "\u001b[2m\u001b[36m(RolloutWorker pid=49330)\u001b[0m agent on ../maps/race8 got reward 15.134999999999144 in 30.150000000001913. Finish reward: 0. Padding punish: -3.649999999999995\n",
      "\u001b[2m\u001b[36m(RolloutWorker pid=49325)\u001b[0m agent on ../maps/race7 got reward 15.404999999999102 in 29.55000000000182. Finish reward: 0. Padding punish: -3.2499999999999964\n",
      "\u001b[2m\u001b[36m(RolloutWorker pid=49321)\u001b[0m agent on ../maps/race7 got reward 16.324999999999125 in 29.440000000001803. Finish reward: 0. Padding punish: -2.3999999999999995\n",
      "\u001b[2m\u001b[36m(RolloutWorker pid=49328)\u001b[0m agent on ../maps/race8 got reward 14.254999999999011 in 30.52000000000197. Finish reward: 0. Padding punish: -4.299999999999993\n",
      "\u001b[2m\u001b[36m(RolloutWorker pid=49333)\u001b[0m agent on ../maps/race8 got reward 15.739999999999068 in 30.360000000001946. Finish reward: 0. Padding punish: -2.849999999999998\n",
      "\u001b[2m\u001b[36m(RolloutWorker pid=49317)\u001b[0m agent on ../maps/race8 got reward 16.85999999999913 in 29.180000000001762. Finish reward: 0. Padding punish: -2.3\n",
      "\u001b[2m\u001b[36m(RolloutWorker pid=49336)\u001b[0m agent on ../maps/race7 got reward 14.244999999999102 in 29.310000000001782. Finish reward: 0. Padding punish: -4.549999999999992\n",
      "\u001b[2m\u001b[36m(RolloutWorker pid=49328)\u001b[0m agent on ../maps/race8 got reward 18.07499999999919 in 29.29000000000178. Finish reward: 0. Padding punish: -1.0500000000000003\n",
      "\u001b[2m\u001b[36m(RolloutWorker pid=49333)\u001b[0m agent on ../maps/race8 got reward 16.539999999999168 in 29.500000000001812. Finish reward: 0. Padding punish: -2.4499999999999993\n",
      "\u001b[2m\u001b[36m(RolloutWorker pid=49336)\u001b[0m agent on ../maps/race8 got reward 16.719999999999168 in 29.900000000001874. Finish reward: 0. Padding punish: -2.1500000000000004\n",
      "\u001b[2m\u001b[36m(RolloutWorker pid=49331)\u001b[0m agent on ../maps/race8 got reward 13.524999999999068 in 30.32000000000194. Finish reward: 0. Padding punish: -5.1999999999999895\n",
      "episode: 57 reward:3.9775781249999285\n",
      "\u001b[2m\u001b[36m(RolloutWorker pid=49310)\u001b[0m agent on ../maps/race7 got reward 15.494999999999159 in 29.10000000000175. Finish reward: 0. Padding punish: -3.399999999999996\n",
      "\u001b[2m\u001b[36m(RolloutWorker pid=49333)\u001b[0m agent on ../maps/race7 got reward 16.66999999999915 in 29.49000000000181. Finish reward: 0. Padding punish: -2.0500000000000007\n",
      "\u001b[2m\u001b[36m(RolloutWorker pid=49326)\u001b[0m agent on ../maps/race8 got reward 13.469999999999095 in 29.80000000000186. Finish reward: 0. Padding punish: -5.549999999999988\n",
      "\u001b[2m\u001b[36m(RolloutWorker pid=49329)\u001b[0m agent on ../maps/race6 got reward 14.899999999999086 in 30.26000000000193. Finish reward: 0. Padding punish: -3.4999999999999956\n",
      "\u001b[2m\u001b[36m(RolloutWorker pid=49323)\u001b[0m agent on ../maps/race8 got reward 14.749999999999078 in 30.220000000001924. Finish reward: 0. Padding punish: -4.049999999999994\n",
      "\u001b[2m\u001b[36m(RolloutWorker pid=49331)\u001b[0m agent on ../maps/race6 got reward 16.869999999999106 in 29.640000000001834. Finish reward: 0. Padding punish: -1.7500000000000009\n",
      "\u001b[2m\u001b[36m(RolloutWorker pid=49333)\u001b[0m agent on ../maps/race8 got reward 14.919999999999153 in 30.19000000000192. Finish reward: 0. Padding punish: -3.7499999999999947\n",
      "\u001b[2m\u001b[36m(RolloutWorker pid=49336)\u001b[0m agent on ../maps/race6 got reward 13.299999999999123 in 29.4200000000018. Finish reward: 0. Padding punish: -5.449999999999989\n"
     ]
    },
    {
     "name": "stdout",
     "output_type": "stream",
     "text": [
      "\u001b[2m\u001b[36m(RolloutWorker pid=49326)\u001b[0m agent on ../maps/race7 got reward 14.584999999999093 in 29.36000000000179. Finish reward: 0. Padding punish: -4.249999999999993\n",
      "\u001b[2m\u001b[36m(RolloutWorker pid=49317)\u001b[0m agent on ../maps/race7 got reward 16.299999999999102 in 29.970000000001885. Finish reward: 0. Padding punish: -2.1500000000000004\n",
      "\u001b[2m\u001b[36m(RolloutWorker pid=49330)\u001b[0m agent on ../maps/race7 got reward 16.829999999999092 in 29.840000000001865. Finish reward: 0. Padding punish: -1.7000000000000008\n",
      "\u001b[2m\u001b[36m(RolloutWorker pid=49324)\u001b[0m agent on ../maps/race8 got reward 16.65499999999911 in 29.62000000000183. Finish reward: 0. Padding punish: -2.3\n",
      "\u001b[2m\u001b[36m(RolloutWorker pid=49334)\u001b[0m agent on ../maps/race7 got reward 15.494999999999063 in 29.860000000001868. Finish reward: 0. Padding punish: -3.049999999999997\n",
      "\u001b[2m\u001b[36m(RolloutWorker pid=49293)\u001b[0m agent on ../maps/race6 got reward 14.53999999999909 in 29.840000000001865. Finish reward: 0. Padding punish: -3.999999999999994\n",
      "\u001b[2m\u001b[36m(RolloutWorker pid=49317)\u001b[0m agent on ../maps/race8 got reward 15.234999999999099 in 30.280000000001934. Finish reward: 0. Padding punish: -3.4499999999999957\n",
      "episode: 58 reward:4.536714285714196\n",
      "\u001b[2m\u001b[36m(RolloutWorker pid=49330)\u001b[0m agent on ../maps/race8 got reward 16.619999999999095 in 29.580000000001824. Finish reward: 0. Padding punish: -2.3499999999999996\n",
      "\u001b[2m\u001b[36m(RolloutWorker pid=49325)\u001b[0m agent on ../maps/race7 got reward 16.019999999999154 in 29.4200000000018. Finish reward: 0. Padding punish: -2.6999999999999984\n",
      "\u001b[2m\u001b[36m(RolloutWorker pid=49321)\u001b[0m agent on ../maps/race8 got reward 16.3999999999991 in 29.470000000001807. Finish reward: 0. Padding punish: -3.049999999999997\n",
      "\u001b[2m\u001b[36m(RolloutWorker pid=49326)\u001b[0m agent on ../maps/race6 got reward 14.299999999999125 in 30.00000000000189. Finish reward: 0. Padding punish: -4.149999999999993\n",
      "\u001b[2m\u001b[36m(RolloutWorker pid=49321)\u001b[0m agent on ../maps/race7 got reward 14.769999999999149 in 28.900000000001718. Finish reward: 0. Padding punish: -4.249999999999993\n",
      "\u001b[2m\u001b[36m(RolloutWorker pid=49293)\u001b[0m agent on ../maps/race7 got reward 15.414999999999146 in 29.020000000001737. Finish reward: 0. Padding punish: -3.4999999999999956\n",
      "\u001b[2m\u001b[36m(RolloutWorker pid=49317)\u001b[0m agent on ../maps/race7 got reward 16.384999999999096 in 29.81000000000186. Finish reward: 0. Padding punish: -2.1500000000000004\n",
      "episode: 59 reward:3.4987677725118127\n",
      "\u001b[2m\u001b[36m(RolloutWorker pid=49334)\u001b[0m agent on ../maps/race6 got reward 13.549999999999145 in 29.11000000000175. Finish reward: 0. Padding punish: -5.349999999999989\n",
      "\u001b[2m\u001b[36m(RolloutWorker pid=49325)\u001b[0m agent on ../maps/race8 got reward 17.174999999999077 in 29.830000000001863. Finish reward: 0. Padding punish: -1.7500000000000009\n",
      "\u001b[2m\u001b[36m(RolloutWorker pid=49330)\u001b[0m agent on ../maps/race7 got reward 15.724999999999154 in 29.04000000000174. Finish reward: 0. Padding punish: -3.1999999999999966\n",
      "\u001b[2m\u001b[36m(RolloutWorker pid=49326)\u001b[0m agent on ../maps/race9 got reward 16.87999999999906 in 30.210000000001923. Finish reward: 0. Padding punish: -1.800000000000001\n",
      "\u001b[2m\u001b[36m(RolloutWorker pid=49328)\u001b[0m agent on ../maps/race7 got reward 16.589999999999144 in 29.270000000001776. Finish reward: 0. Padding punish: -2.2\n",
      "\u001b[2m\u001b[36m(RolloutWorker pid=49329)\u001b[0m agent on ../maps/race6 got reward 16.529999999999163 in 29.280000000001777. Finish reward: 0. Padding punish: -2.3\n",
      "\u001b[2m\u001b[36m(RolloutWorker pid=49293)\u001b[0m agent on ../maps/race7 got reward 14.704999999999131 in 29.340000000001787. Finish reward: 0. Padding punish: -4.049999999999994\n",
      "\u001b[2m\u001b[36m(RolloutWorker pid=49317)\u001b[0m agent on ../maps/race7 got reward 17.069999999999187 in 28.510000000001657. Finish reward: 0. Padding punish: -2.1000000000000005\n",
      "\u001b[2m\u001b[36m(RolloutWorker pid=49323)\u001b[0m agent on ../maps/race7 got reward 17.979999999999166 in 28.890000000001717. Finish reward: 0. Padding punish: -1.0000000000000002\n",
      "\u001b[2m\u001b[36m(RolloutWorker pid=49324)\u001b[0m agent on ../maps/race7 got reward 15.759999999999174 in 28.820000000001706. Finish reward: 0. Padding punish: -3.2499999999999964\n",
      "episode: 60 reward:3.265089686098622\n",
      "agent on ../maps/race2 got reward 13.519999999999174 in 30.33000000000194. Finish reward: 0. Padding punish: -4.899999999999991\n",
      "lap: [30.33]\n",
      "evaluation time: 90.04714285714314\n",
      "\u001b[2m\u001b[36m(RolloutWorker pid=49326)\u001b[0m agent on ../maps/race6 got reward 15.754999999999104 in 29.49000000000181. Finish reward: 0. Padding punish: -2.9499999999999975\n",
      "\u001b[2m\u001b[36m(RolloutWorker pid=49321)\u001b[0m agent on ../maps/race8 got reward 14.684999999999164 in 29.180000000001762. Finish reward: 0. Padding punish: -4.499999999999992\n",
      "\u001b[2m\u001b[36m(RolloutWorker pid=49321)\u001b[0m agent on ../maps/race8 got reward 16.044999999999128 in 29.720000000001846. Finish reward: 0. Padding punish: -2.8999999999999977\n",
      "\u001b[2m\u001b[36m(RolloutWorker pid=49336)\u001b[0m agent on ../maps/race6 got reward 15.839999999999103 in 29.390000000001795. Finish reward: 0. Padding punish: -2.9499999999999975\n",
      "\u001b[2m\u001b[36m(RolloutWorker pid=49310)\u001b[0m agent on ../maps/race7 got reward 17.139999999999194 in 28.46000000000165. Finish reward: 0. Padding punish: -2.0500000000000007\n",
      "\u001b[2m\u001b[36m(RolloutWorker pid=49326)\u001b[0m agent on ../maps/race8 got reward 15.274999999999125 in 29.280000000001777. Finish reward: 0. Padding punish: -4.099999999999993\n",
      "\u001b[2m\u001b[36m(RolloutWorker pid=49310)\u001b[0m agent on ../maps/race8 got reward 14.23999999999909 in 29.450000000001804. Finish reward: 0. Padding punish: -4.849999999999991\n",
      "\u001b[2m\u001b[36m(RolloutWorker pid=49331)\u001b[0m agent on ../maps/race8 got reward 14.539999999999146 in 30.160000000001915. Finish reward: 0. Padding punish: -4.299999999999993\n",
      "\u001b[2m\u001b[36m(RolloutWorker pid=49321)\u001b[0m agent on ../maps/race8 got reward 16.61999999999908 in 29.820000000001862. Finish reward: 0. Padding punish: -2.3999999999999995\n",
      "\u001b[2m\u001b[36m(RolloutWorker pid=49333)\u001b[0m agent on ../maps/race7 got reward 16.889999999999134 in 29.200000000001765. Finish reward: 0. Padding punish: -1.950000000000001\n",
      "episode: 61 reward:3.707367149758423\n",
      "\u001b[2m\u001b[36m(RolloutWorker pid=49323)\u001b[0m agent on ../maps/race7 got reward 16.604999999999148 in 28.97000000000173. Finish reward: 0. Padding punish: -2.3499999999999996\n",
      "\u001b[2m\u001b[36m(RolloutWorker pid=49325)\u001b[0m agent on ../maps/race8 got reward 15.05999999999902 in 30.26000000000193. Finish reward: 0. Padding punish: -3.649999999999995\n",
      "\u001b[2m\u001b[36m(RolloutWorker pid=49330)\u001b[0m agent on ../maps/race8 got reward 16.34999999999907 in 29.75000000000185. Finish reward: 0. Padding punish: -2.6999999999999984\n",
      "\u001b[2m\u001b[36m(RolloutWorker pid=49333)\u001b[0m agent on ../maps/race7 got reward 17.94499999999916 in 28.98000000000173. Finish reward: 0. Padding punish: -1.0500000000000003\n",
      "\u001b[2m\u001b[36m(RolloutWorker pid=49329)\u001b[0m agent on ../maps/race6 got reward 14.53499999999914 in 28.7900000000017. Finish reward: 0. Padding punish: -4.499999999999992\n",
      "\u001b[2m\u001b[36m(RolloutWorker pid=49324)\u001b[0m agent on ../maps/race8 got reward 15.764999999999183 in 28.830000000001707. Finish reward: 0. Padding punish: -3.5499999999999954\n",
      "\u001b[2m\u001b[36m(RolloutWorker pid=49331)\u001b[0m agent on ../maps/race7 got reward 14.29999999999915 in 29.060000000001743. Finish reward: 0. Padding punish: -4.6499999999999915\n",
      "\u001b[2m\u001b[36m(RolloutWorker pid=49293)\u001b[0m agent on ../maps/race7 got reward 16.80999999999911 in 29.590000000001826. Finish reward: 0. Padding punish: -1.850000000000001\n",
      "episode: 62 reward:3.433317307692285\n",
      "\u001b[2m\u001b[36m(RolloutWorker pid=49321)\u001b[0m agent on ../maps/race7 got reward 17.57999999999914 in 29.280000000001777. Finish reward: 0. Padding punish: -1.2000000000000004\n",
      "\u001b[2m\u001b[36m(RolloutWorker pid=49336)\u001b[0m agent on ../maps/race7 got reward 18.369999999999163 in 28.930000000001723. Finish reward: 0. Padding punish: -0.7000000000000001\n",
      "\u001b[2m\u001b[36m(RolloutWorker pid=49333)\u001b[0m agent on ../maps/race8 got reward 17.27499999999914 in 29.090000000001748. Finish reward: 0. Padding punish: -2.000000000000001\n",
      "\u001b[2m\u001b[36m(RolloutWorker pid=49323)\u001b[0m agent on ../maps/race8 got reward 16.364999999999185 in 28.570000000001667. Finish reward: 0. Padding punish: -3.099999999999997\n",
      "\u001b[2m\u001b[36m(RolloutWorker pid=49310)\u001b[0m agent on ../maps/race8 got reward 15.869999999999171 in 29.120000000001752. Finish reward: 0. Padding punish: -3.349999999999996\n"
     ]
    },
    {
     "name": "stdout",
     "output_type": "stream",
     "text": [
      "\u001b[2m\u001b[36m(RolloutWorker pid=49336)\u001b[0m agent on ../maps/race8 got reward 18.43999999999922 in 28.430000000001645. Finish reward: 0. Padding punish: -1.1000000000000003\n",
      "\u001b[2m\u001b[36m(RolloutWorker pid=49310)\u001b[0m agent on ../maps/race8 got reward 15.589999999999243 in 29.270000000001776. Finish reward: 0. Padding punish: -3.599999999999995\n",
      "\u001b[2m\u001b[36m(RolloutWorker pid=49321)\u001b[0m agent on ../maps/race6 got reward 14.729999999999174 in 28.480000000001652. Finish reward: 0. Padding punish: -4.499999999999992\n",
      "\u001b[2m\u001b[36m(RolloutWorker pid=49329)\u001b[0m agent on ../maps/race8 got reward 17.599999999999145 in 28.7800000000017. Finish reward: 0. Padding punish: -1.900000000000001\n",
      "\u001b[2m\u001b[36m(RolloutWorker pid=49328)\u001b[0m agent on ../maps/race8 got reward 16.13999999999912 in 29.340000000001787. Finish reward: 0. Padding punish: -3.099999999999997\n",
      "\u001b[2m\u001b[36m(RolloutWorker pid=49293)\u001b[0m agent on ../maps/race9 got reward 15.954999999999123 in 29.37000000000179. Finish reward: 0. Padding punish: -3.2499999999999964\n",
      "\u001b[2m\u001b[36m(RolloutWorker pid=49326)\u001b[0m agent on ../maps/race8 got reward 13.459999999999155 in 29.630000000001832. Finish reward: 0. Padding punish: -5.649999999999988\n"
     ]
    }
   ],
   "source": [
    "%%time\n",
    "\n",
    "import ray\n",
    "from ray.rllib.agents import ppo\n",
    "from ray.rllib.agents.ppo.ppo import DEFAULT_CONFIG\n",
    "\n",
    "ray.shutdown()\n",
    "ray.init()\n",
    "\n",
    "\n",
    "\n",
    "# with half cheeta configs\n",
    "\n",
    "hc_configs = {\n",
    "    'framework': 'torch',\n",
    "    'num_workers': 15,\n",
    "    'gamma': 0.99,\n",
    "    'num_gpus': 1.0,\n",
    "    'kl_coeff': 1.0,\n",
    "    'clip_param': 0.2,\n",
    "    'model': {\n",
    "        'fcnet_hiddens': [300, 300],\n",
    "    },\n",
    "    'num_envs_per_worker': 1,\n",
    "    'train_batch_size': 100000,\n",
    "    'sgd_minibatch_size': 4096,\n",
    "    'batch_mode': 'truncate_episodes',\n",
    "    'lr': .0001,\n",
    "#     'horizon': 8000\n",
    "}\n",
    "\n",
    "\n",
    "trainer = ppo.PPOTrainer(env=F110RaceEnv, config=hc_configs)\n",
    "#print(\"FINE TUNING\")\n",
    "#trainer.restore('../checkpoints/race_v2.0.5/checkpoint_000191/checkpoint-191')\n",
    "\n",
    "print(trainer.config)\n",
    "rewards = []\n",
    "eval_rewards = []\n",
    "best_time = 1000\n",
    "models_path = '../checkpoints'\n",
    "\n",
    "import pickle\n",
    "\n",
    "def evaluate(model, envs):\n",
    "    avg_time = []\n",
    "    \n",
    "    for env in envs:\n",
    "        done = False\n",
    "        obs = env.reset()\n",
    "\n",
    "        r = 0\n",
    "        while not done:\n",
    "            action = model.compute_single_action(obs, explore=False)\n",
    "            obs, reward, done, info = env.step(action)\n",
    "            r += reward\n",
    "\n",
    "        avg_time.append(info['finish_time'])\n",
    "        \n",
    "    return np.mean(avg_time)\n",
    "\n",
    "\n",
    "eval_envs = [\n",
    "    F110RaceEnv({}, test_map_name='race_test1', laps=1),\n",
    "    F110RaceEnv({}, test_map_name='race2', laps=1),\n",
    "    F110RaceEnv({}, test_map_name='race4', laps=1),\n",
    "    F110RaceEnv({}, test_map_name='race6', laps=1),\n",
    "    F110RaceEnv({}, test_map_name='race8', laps=1),\n",
    "    F110RaceEnv({}, test_map_name='race1', laps=1),\n",
    "    F110RaceEnv({}, test_map_name='Oschersleben2', laps=1),\n",
    "]\n",
    "\n",
    "\n",
    "sim_name = 'race_v2.0.8'\n",
    "\n",
    "for i in range(500):\n",
    "    result = trainer.train()\n",
    "    episode_r = result['episode_reward_mean']\n",
    "    print(f\"episode: {i} reward:{episode_r}\")\n",
    "    rewards.append(episode_r)\n",
    "    with open(f'{models_path}/{sim_name}_r', 'wb') as f:\n",
    "        pickle.dump(rewards, f)\n",
    "        \n",
    "    if i%5 == 0:\n",
    "        eval_time = evaluate(trainer, envs=eval_envs)\n",
    "        print(f\"evaluation time: {eval_time}\") \n",
    "        eval_rewards.append(eval_time)\n",
    "        with open(f'{models_path}/{sim_name}_er', 'wb') as f:\n",
    "            pickle.dump(eval_rewards, f)\n",
    "        if eval_time < best_time:\n",
    "            best_time = eval_time\n",
    "            cp = trainer.save(f\"{models_path}/{sim_name}\")\n",
    "            print(\"checkpoint saved at\", cp)\n"
   ]
  },
  {
   "cell_type": "code",
   "execution_count": 6,
   "id": "26d0e6f5",
   "metadata": {},
   "outputs": [],
   "source": [
    "#!rm -rf ../checkpoints/race_v2.0.6"
   ]
  },
  {
   "cell_type": "markdown",
   "id": "703f7c63",
   "metadata": {},
   "source": [
    "## evaluation"
   ]
  },
  {
   "cell_type": "code",
   "execution_count": 3,
   "id": "1e038e65",
   "metadata": {},
   "outputs": [
    {
     "name": "stderr",
     "output_type": "stream",
     "text": [
      "2022-05-11 16:41:31,926\tWARNING deprecation.py:45 -- DeprecationWarning: `rllib.env.remote_vector_env.RemoteVectorEnv` has been deprecated. Use `ray.rllib.env.remote_base_env.RemoteBaseEnv` instead. This will raise an error in the future!\n",
      "Install gputil for GPU system monitoring.\n",
      "2022-05-11 16:41:38,537\tINFO trainable.py:472 -- Restored on 10.64.91.46 from checkpoint: ../checkpoints/race_v2.0.4/checkpoint_000281/checkpoint-281\n",
      "2022-05-11 16:41:38,538\tINFO trainable.py:480 -- Current state after restoring: {'_iteration': 281, '_timesteps_total': 56194380, '_time_total': 12430.45848107338, '_episodes_total': 44482}\n"
     ]
    }
   ],
   "source": [
    "import ray\n",
    "from ray.rllib.agents import ppo\n",
    "from ray.rllib.agents.ppo.ppo import DEFAULT_CONFIG\n",
    "\n",
    "DEFAULT_CONFIG['framework'] = 'torch'\n",
    "DEFAULT_CONFIG['num_workers'] = 0\n",
    "DEFAULT_CONFIG['num_gpus'] = 0\n",
    "DEFAULT_CONFIG['model']['fcnet_hiddens'] = [300, 300]\n",
    "DEFAULT_CONFIG[\"evaluation_num_workers\"] = 0\n",
    "DEFAULT_CONFIG[\"evaluation_config\"][\"render_env\"] = False\n",
    "DEFAULT_CONFIG[\"evaluation_config\"][\"explore\"] = False\n",
    "DEFAULT_CONFIG['explore'] = False\n",
    "\n",
    "trainer = ppo.PPOTrainer(env=F110RaceEnv, config=DEFAULT_CONFIG)\n",
    "trainer.restore('../checkpoints/race_v2.0.4/checkpoint_000281/checkpoint-281')\n",
    "\n"
   ]
  },
  {
   "cell_type": "code",
   "execution_count": 4,
   "id": "42e69c6a",
   "metadata": {},
   "outputs": [
    {
     "name": "stdout",
     "output_type": "stream",
     "text": [
      "agent on ../maps/Oschersleben got reward 20.45999999999947 in 24.740000000001068. Finish reward: 0. Padding punish: -0.39999999999999997\n",
      "lap: [24.74]\n",
      "reward:20.45999999999947\n"
     ]
    }
   ],
   "source": [
    "done = False\n",
    "env = F110RaceEnv({}, test_map_name='Oschersleben', laps=1)\n",
    "obs = env.reset()\n",
    "poses = []\n",
    "hist = []\n",
    "\n",
    "r = 0\n",
    "i = 0\n",
    "while not done:\n",
    "    i += 1\n",
    "    action = trainer.compute_single_action(obs, explore=False)\n",
    "    obs, reward, done, info = env.step(action)\n",
    "    if 'pos' in info:\n",
    "        pos = info['pos'] \n",
    "        hist.append([obs[-2], reward, done, pos])\n",
    "    \n",
    "    if i % 100 == 0 and len(pos)>0:\n",
    "        poses.append(pos)\n",
    "    r += reward\n",
    "    \n",
    "print(f'reward:{r}')\n",
    "env.close()\n",
    "\n",
    "# hist"
   ]
  },
  {
   "cell_type": "code",
   "execution_count": 17,
   "id": "5fc51286",
   "metadata": {},
   "outputs": [
    {
     "data": {
      "text/plain": [
       "<matplotlib.collections.PathCollection at 0x2b0304168040>"
      ]
     },
     "execution_count": 17,
     "metadata": {},
     "output_type": "execute_result"
    },
    {
     "data": {
      "image/png": "[encoded data removed]",
      "text/plain": [
       "<Figure size 432x288 with 1 Axes>"
      ]
     },
     "metadata": {
      "needs_background": "light"
     },
     "output_type": "display_data"
    }
   ],
   "source": [
    "import matplotlib.pyplot as plt\n",
    "\n",
    "wps = np.array([i[-1] for i in hist])\n",
    "\n",
    "plt.scatter(wps[:,0], wps[:,1], c='b')\n",
    "plt.scatter(wps[0,0], wps[0,1], c='r')\n",
    "\n"
   ]
  },
  {
   "cell_type": "markdown",
   "id": "5da9697f",
   "metadata": {},
   "source": [
    "## Exporting models"
   ]
  },
  {
   "cell_type": "code",
   "execution_count": 9,
   "id": "16d9dd94",
   "metadata": {},
   "outputs": [
    {
     "data": {
      "text/plain": [
       "Sequential(\n",
       "  (0): SlimFC(\n",
       "    (_model): Sequential(\n",
       "      (0): Linear(in_features=142, out_features=300, bias=True)\n",
       "      (1): Tanh()\n",
       "    )\n",
       "  )\n",
       "  (1): SlimFC(\n",
       "    (_model): Sequential(\n",
       "      (0): Linear(in_features=300, out_features=300, bias=True)\n",
       "      (1): Tanh()\n",
       "    )\n",
       "  )\n",
       ")"
      ]
     },
     "execution_count": 9,
     "metadata": {},
     "output_type": "execute_result"
    }
   ],
   "source": [
    "import torch\n",
    "\n",
    "policy_model = trainer.get_policy().model\n",
    "policy_model_hiddens = policy_model._hidden_layers\n",
    "policy_model_logits = policy_model._logits\n",
    "policy_model_hiddens"
   ]
  },
  {
   "cell_type": "code",
   "execution_count": 10,
   "id": "3e511f8b",
   "metadata": {},
   "outputs": [],
   "source": [
    "import torch\n",
    "policy_path = '../checkpoints/race_v2.0.4.pt'\n",
    "torch.save({\n",
    "    'h1': policy_model_hiddens[0]._model.state_dict(),\n",
    "    'h2': policy_model_hiddens[1]._model.state_dict(),\n",
    "    'logits': policy_model_logits._model.state_dict()\n",
    "}, policy_path)"
   ]
  },
  {
   "cell_type": "code",
   "execution_count": null,
   "id": "dd8eb264",
   "metadata": {},
   "outputs": [],
   "source": [
    "class Policy(torch.nn.Module):\n",
    "    def __init__(self):\n",
    "        super(Policy, self).__init__()\n",
    "        \n",
    "        self.h1 = torch.nn.Sequential(\n",
    "                torch.nn.Linear(in_features=182, out_features=300, bias=True),\n",
    "                torch.nn.Tanh()\n",
    "            )\n",
    "        self.h2 = torch.nn.Sequential(\n",
    "            torch.nn.Linear(in_features=300, out_features=300, bias=True),\n",
    "            torch.nn.Tanh()\n",
    "        )\n",
    "        \n",
    "        self.logits =  torch.nn.Sequential(\n",
    "            torch.nn.Linear(in_features=300, out_features=4, bias=True),\n",
    "        )\n",
    "        \n",
    "    def forward(self, x):\n",
    "        x = self.h1(x)\n",
    "        x = self.h2(x)\n",
    "        return self.logits(x)\n",
    "\n",
    "exported_policy = Policy()\n",
    "exported_policy.h1.load_state_dict(torch.load(policy_path)['h1'])\n",
    "exported_policy.h2.load_state_dict(torch.load(policy_path)['h2'])\n",
    "exported_policy.logits.load_state_dict(torch.load(policy_path)['logits'])\n",
    "exported_policy.eval()"
   ]
  },
  {
   "cell_type": "code",
   "execution_count": null,
   "id": "85e11a3f",
   "metadata": {},
   "outputs": [],
   "source": [
    "done = False\n",
    "env = F110RaceEnv({}, test_map_name='Oschersleben1')\n",
    "obs = env.reset()\n",
    "poses = []\n",
    "hist = []\n",
    "\n",
    "r = 0\n",
    "i = 0\n",
    "while not done:\n",
    "    i += 1\n",
    "    obs_t = torch.tensor(obs, dtype=torch.float32)\n",
    "    output = exported_policy(obs_t).detach().numpy()\n",
    "    v = output[0]\n",
    "    th = output[1]\n",
    "#     v = np.clip(v, -1, 1)\n",
    "#     th = np.clip(th, -1, 1)\n",
    "    obs, reward, done, info = env.step([v, th])\n",
    "#     print(obs[-2:])\n",
    "    if 'pos' in info:\n",
    "        pos = info['pos'] \n",
    "        hist.append([obs[-2], reward, done, pos])\n",
    "    \n",
    "    if i % 100 == 0 and len(pos)>0:\n",
    "        poses.append(pos)\n",
    "    r += reward\n",
    "    env.render()\n",
    "print(f'reward:{r}')\n",
    "env.close()\n",
    "\n",
    "# hist"
   ]
  },
  {
   "cell_type": "markdown",
   "id": "6f8f2783",
   "metadata": {},
   "source": [
    "## Reward plots"
   ]
  },
  {
   "cell_type": "code",
   "execution_count": 44,
   "id": "deb0e53d",
   "metadata": {},
   "outputs": [
    {
     "data": {
      "text/plain": [
       "[<matplotlib.lines.Line2D at 0x2af547ecaa90>]"
      ]
     },
     "execution_count": 44,
     "metadata": {},
     "output_type": "execute_result"
    },
    {
     "data": {
      "image/png": "[encoded data removed]",
      "text/plain": [
       "<Figure size 432x288 with 1 Axes>"
      ]
     },
     "metadata": {
      "needs_background": "light"
     },
     "output_type": "display_data"
    }
   ],
   "source": [
    "import matplotlib.pyplot as plt\n",
    "import pickle \n",
    "\n",
    "with open('checkpoints/race_v1.1_r', 'rb') as f:\n",
    "    rs = pickle.load(f)\n",
    "    \n",
    "plt.plot(rs)"
   ]
  },
  {
   "cell_type": "code",
   "execution_count": 6,
   "id": "a9224554",
   "metadata": {},
   "outputs": [
    {
     "data": {
      "text/plain": [
       "[<matplotlib.lines.Line2D at 0x2afdade42af0>]"
      ]
     },
     "execution_count": 6,
     "metadata": {},
     "output_type": "execute_result"
    },
    {
     "data": {
      "image/png": "[encoded data removed]",
      "text/plain": [
       "<Figure size 432x288 with 1 Axes>"
      ]
     },
     "metadata": {
      "needs_background": "light"
     },
     "output_type": "display_data"
    }
   ],
   "source": [
    "import matplotlib.pyplot as plt\n",
    "import pickle \n",
    "\n",
    "with open('../checkpoints/phy_v2.0.1_r', 'rb') as f:\n",
    "    rs = pickle.load(f)\n",
    "    \n",
    "    \n",
    "plt.plot(rs)"
   ]
  },
  {
   "cell_type": "code",
   "execution_count": 7,
   "id": "7a75f95e",
   "metadata": {},
   "outputs": [
    {
     "data": {
      "text/plain": [
       "[<matplotlib.lines.Line2D at 0x2afda655ea30>]"
      ]
     },
     "execution_count": 7,
     "metadata": {},
     "output_type": "execute_result"
    },
    {
     "data": {
      "image/png": "[encoded data removed]",
      "text/plain": [
       "<Figure size 432x288 with 1 Axes>"
      ]
     },
     "metadata": {
      "needs_background": "light"
     },
     "output_type": "display_data"
    }
   ],
   "source": [
    "import matplotlib.pyplot as plt\n",
    "import pickle \n",
    "\n",
    "with open('../checkpoints/phy_v2.0.1_er', 'rb') as f:\n",
    "    rs = pickle.load(f)\n",
    "    \n",
    "plt.plot(rs)\n"
   ]
  },
  {
   "cell_type": "code",
   "execution_count": null,
   "id": "7c86bf3a",
   "metadata": {},
   "outputs": [],
   "source": []
  },
  {
   "cell_type": "code",
   "execution_count": null,
   "id": "aa5e3f03",
   "metadata": {},
   "outputs": [],
   "source": []
  }
 ],
 "metadata": {
  "kernelspec": {
   "display_name": "Python 3 (ipykernel)",
   "language": "python",
   "name": "python3"
  },
  "language_info": {
   "codemirror_mode": {
    "name": "ipython",
    "version": 3
   },
   "file_extension": ".py",
   "mimetype": "text/x-python",
   "name": "python",
   "nbconvert_exporter": "python",
   "pygments_lexer": "ipython3",
   "version": "3.8.12"
  },
  "toc": {
   "base_numbering": 1,
   "nav_menu": {},
   "number_sections": true,
   "sideBar": true,
   "skip_h1_title": false,
   "title_cell": "Table of Contents",
   "title_sidebar": "Contents",
   "toc_cell": false,
   "toc_position": {
    "height": "calc(100% - 180px)",
    "left": "10px",
    "top": "150px",
    "width": "255.653px"
   },
   "toc_section_display": true,
   "toc_window_display": true
  }
 },
 "nbformat": 4,
 "nbformat_minor": 5
}
