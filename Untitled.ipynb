{
 "cells": [
  {
   "cell_type": "code",
   "execution_count": 1,
   "id": "7800d813",
   "metadata": {},
   "outputs": [
    {
     "name": "stdout",
     "output_type": "stream",
     "text": [
      "2022-04-15 17:42:28,550\tINFO ppo.py:249 -- In multi-agent mode, policies will be optimized sequentially by the multi-GPU optimizer. Consider setting simple_optimizer=True if this doesn't work for you.\n",
      "2022-04-15 17:42:28,550\tINFO trainer.py:790 -- Current log_level is WARN. For more information, set 'log_level': 'INFO' / 'DEBUG' or use the -v and -vv flags.\n",
      "Traceback (most recent call last):\n",
      "  File \"/projects/academic/kjoseph/navid/anaconda3/envs/py38/lib/python3.8/site-packages/ray/rllib/agents/trainer.py\", line 811, in setup\n",
      "    self._init(self.config, self.env_creator)\n",
      "  File \"/projects/academic/kjoseph/navid/anaconda3/envs/py38/lib/python3.8/site-packages/ray/rllib/agents/trainer.py\", line 923, in _init\n",
      "    raise NotImplementedError\n",
      "NotImplementedError\n",
      "\n",
      "During handling of the above exception, another exception occurred:\n",
      "\n",
      "Traceback (most recent call last):\n",
      "  File \"./f1tenth_rl/train_ppo.py\", line 23, in <module>\n",
      "    trainer = ppo.PPOTrainer(env=F110RaceEnv, config={'env_config': config['env'], **config['trainer']})\n",
      "  File \"/projects/academic/kjoseph/navid/anaconda3/envs/py38/lib/python3.8/site-packages/ray/rllib/agents/trainer.py\", line 728, in __init__\n",
      "    super().__init__(config, logger_creator, remote_checkpoint_dir,\n",
      "  File \"/projects/academic/kjoseph/navid/anaconda3/envs/py38/lib/python3.8/site-packages/ray/tune/trainable.py\", line 122, in __init__\n",
      "    self.setup(copy.deepcopy(self.config))\n",
      "  File \"/projects/academic/kjoseph/navid/anaconda3/envs/py38/lib/python3.8/site-packages/ray/rllib/agents/trainer.py\", line 826, in setup\n",
      "    self.workers = self._make_workers(\n",
      "  File \"/projects/academic/kjoseph/navid/anaconda3/envs/py38/lib/python3.8/site-packages/ray/rllib/agents/trainer.py\", line 1925, in _make_workers\n",
      "    return WorkerSet(\n",
      "  File \"/projects/academic/kjoseph/navid/anaconda3/envs/py38/lib/python3.8/site-packages/ray/rllib/evaluation/worker_set.py\", line 100, in __init__\n",
      "    remote_spaces = ray.get(self.remote_workers(\n",
      "  File \"/projects/academic/kjoseph/navid/anaconda3/envs/py38/lib/python3.8/site-packages/ray/_private/client_mode_hook.py\", line 105, in wrapper\n",
      "    return func(*args, **kwargs)\n",
      "  File \"/projects/academic/kjoseph/navid/anaconda3/envs/py38/lib/python3.8/site-packages/ray/worker.py\", line 1735, in get\n",
      "    raise value\n",
      "ray.exceptions.RayActorError: The actor died because of an error raised in its creation task, \u001b[36mray::RolloutWorker.__init__()\u001b[39m (pid=18310, ip=10.64.91.46)\n",
      "  File \"/projects/academic/kjoseph/navid/anaconda3/envs/py38/lib/python3.8/site-packages/ray/rllib/evaluation/rollout_worker.py\", line 588, in __init__\n",
      "    self._build_policy_map(\n",
      "  File \"/projects/academic/kjoseph/navid/anaconda3/envs/py38/lib/python3.8/site-packages/ray/rllib/evaluation/rollout_worker.py\", line 1555, in _build_policy_map\n",
      "    self.policy_map.create_policy(name, orig_cls, obs_space, act_space,\n",
      "  File \"/projects/academic/kjoseph/navid/anaconda3/envs/py38/lib/python3.8/site-packages/ray/rllib/policy/policy_map.py\", line 143, in create_policy\n",
      "    self[policy_id] = class_(observation_space, action_space,\n",
      "  File \"/projects/academic/kjoseph/navid/anaconda3/envs/py38/lib/python3.8/site-packages/ray/rllib/agents/ppo/ppo_torch_policy.py\", line 32, in __init__\n",
      "    TorchPolicy.__init__(\n",
      "  File \"/projects/academic/kjoseph/navid/anaconda3/envs/py38/lib/python3.8/site-packages/ray/rllib/policy/torch_policy.py\", line 137, in __init__\n",
      "    model = ModelCatalog.get_model_v2(\n",
      "  File \"/projects/academic/kjoseph/navid/anaconda3/envs/py38/lib/python3.8/site-packages/ray/rllib/models/catalog.py\", line 641, in get_model_v2\n",
      "    return wrapper(obs_space, action_space, num_outputs, model_config,\n",
      "  File \"/projects/academic/kjoseph/navid/anaconda3/envs/py38/lib/python3.8/site-packages/ray/rllib/models/torch/fcnet.py\", line 71, in __init__\n",
      "    SlimFC(\n",
      "  File \"/projects/academic/kjoseph/navid/anaconda3/envs/py38/lib/python3.8/site-packages/ray/rllib/models/torch/misc.py\", line 144, in __init__\n",
      "    linear = nn.Linear(in_size, out_size, bias=use_bias)\n",
      "  File \"/projects/academic/kjoseph/navid/anaconda3/envs/py38/lib/python3.8/site-packages/torch/nn/modules/linear.py\", line 85, in __init__\n",
      "    self.weight = Parameter(torch.empty((out_features, in_features), **factory_kwargs))\n",
      "TypeError: empty() received an invalid combination of arguments - got (tuple, dtype=NoneType, device=NoneType), but expected one of:\n",
      " * (tuple of ints size, *, tuple of names names, torch.memory_format memory_format, torch.dtype dtype, torch.layout layout, torch.device device, bool pin_memory, bool requires_grad)\n",
      " * (tuple of ints size, *, torch.memory_format memory_format, Tensor out, torch.dtype dtype, torch.layout layout, torch.device device, bool pin_memory, bool requires_grad)\n",
      "\u001b[2m\u001b[36m(RolloutWorker pid=18310)\u001b[0m 2022-04-15 17:42:32,744\tERROR worker.py:432 -- Exception raised in creation task: The actor died because of an error raised in its creation task, \u001b[36mray::RolloutWorker.__init__()\u001b[39m (pid=18310, ip=10.64.91.46)\n",
      "\u001b[2m\u001b[36m(RolloutWorker pid=18310)\u001b[0m   File \"/projects/academic/kjoseph/navid/anaconda3/envs/py38/lib/python3.8/site-packages/ray/rllib/evaluation/rollout_worker.py\", line 588, in __init__\n",
      "\u001b[2m\u001b[36m(RolloutWorker pid=18310)\u001b[0m     self._build_policy_map(\n",
      "\u001b[2m\u001b[36m(RolloutWorker pid=18310)\u001b[0m   File \"/projects/academic/kjoseph/navid/anaconda3/envs/py38/lib/python3.8/site-packages/ray/rllib/evaluation/rollout_worker.py\", line 1555, in _build_policy_map\n",
      "\u001b[2m\u001b[36m(RolloutWorker pid=18310)\u001b[0m     self.policy_map.create_policy(name, orig_cls, obs_space, act_space,\n",
      "\u001b[2m\u001b[36m(RolloutWorker pid=18310)\u001b[0m   File \"/projects/academic/kjoseph/navid/anaconda3/envs/py38/lib/python3.8/site-packages/ray/rllib/policy/policy_map.py\", line 143, in create_policy\n",
      "\u001b[2m\u001b[36m(RolloutWorker pid=18310)\u001b[0m     self[policy_id] = class_(observation_space, action_space,\n",
      "\u001b[2m\u001b[36m(RolloutWorker pid=18310)\u001b[0m   File \"/projects/academic/kjoseph/navid/anaconda3/envs/py38/lib/python3.8/site-packages/ray/rllib/agents/ppo/ppo_torch_policy.py\", line 32, in __init__\n",
      "\u001b[2m\u001b[36m(RolloutWorker pid=18310)\u001b[0m     TorchPolicy.__init__(\n",
      "\u001b[2m\u001b[36m(RolloutWorker pid=18310)\u001b[0m   File \"/projects/academic/kjoseph/navid/anaconda3/envs/py38/lib/python3.8/site-packages/ray/rllib/policy/torch_policy.py\", line 137, in __init__\n",
      "\u001b[2m\u001b[36m(RolloutWorker pid=18310)\u001b[0m     model = ModelCatalog.get_model_v2(\n",
      "\u001b[2m\u001b[36m(RolloutWorker pid=18310)\u001b[0m   File \"/projects/academic/kjoseph/navid/anaconda3/envs/py38/lib/python3.8/site-packages/ray/rllib/models/catalog.py\", line 641, in get_model_v2\n",
      "\u001b[2m\u001b[36m(RolloutWorker pid=18310)\u001b[0m     return wrapper(obs_space, action_space, num_outputs, model_config,\n",
      "\u001b[2m\u001b[36m(RolloutWorker pid=18310)\u001b[0m   File \"/projects/academic/kjoseph/navid/anaconda3/envs/py38/lib/python3.8/site-packages/ray/rllib/models/torch/fcnet.py\", line 71, in __init__\n",
      "\u001b[2m\u001b[36m(RolloutWorker pid=18310)\u001b[0m     SlimFC(\n",
      "\u001b[2m\u001b[36m(RolloutWorker pid=18310)\u001b[0m   File \"/projects/academic/kjoseph/navid/anaconda3/envs/py38/lib/python3.8/site-packages/ray/rllib/models/torch/misc.py\", line 144, in __init__\n",
      "\u001b[2m\u001b[36m(RolloutWorker pid=18310)\u001b[0m     linear = nn.Linear(in_size, out_size, bias=use_bias)\n",
      "\u001b[2m\u001b[36m(RolloutWorker pid=18310)\u001b[0m   File \"/projects/academic/kjoseph/navid/anaconda3/envs/py38/lib/python3.8/site-packages/torch/nn/modules/linear.py\", line 85, in __init__\n",
      "\u001b[2m\u001b[36m(RolloutWorker pid=18310)\u001b[0m     self.weight = Parameter(torch.empty((out_features, in_features), **factory_kwargs))\n",
      "\u001b[2m\u001b[36m(RolloutWorker pid=18310)\u001b[0m TypeError: empty() received an invalid combination of arguments - got (tuple, dtype=NoneType, device=NoneType), but expected one of:\n",
      "\u001b[2m\u001b[36m(RolloutWorker pid=18310)\u001b[0m  * (tuple of ints size, *, tuple of names names, torch.memory_format memory_format, torch.dtype dtype, torch.layout layout, torch.device device, bool pin_memory, bool requires_grad)\n",
      "\u001b[2m\u001b[36m(RolloutWorker pid=18310)\u001b[0m  * (tuple of ints size, *, torch.memory_format memory_format, Tensor out, torch.dtype dtype, torch.layout layout, torch.device device, bool pin_memory, bool requires_grad)\n",
      "\u001b[0m"
     ]
    }
   ],
   "source": [
    "!PYTHONPATH=. python ./f1tenth_rl/train_ppo.py"
   ]
  },
  {
   "cell_type": "code",
   "execution_count": 1,
   "id": "937c9764",
   "metadata": {},
   "outputs": [],
   "source": [
    "import ray\n",
    "from ray.rllib.agents import ppo\n",
    "from f1tenth_rl.single_car_env import F110RaceEnv\n",
    "from ray.tune.registry import register_env\n",
    "import yaml\n",
    "import os\n",
    "import argparse\n",
    "import pickle\n",
    "\n",
    "\n",
    "with open(os.path.join('.', 'f1tenth_rl', 'configs', f\"sim_v2.0.yaml\"), 'r') as f:\n",
    "    config = yaml.safe_load(f)\n"
   ]
  },
  {
   "cell_type": "code",
   "execution_count": 2,
   "id": "b379e8cd",
   "metadata": {},
   "outputs": [
    {
     "data": {
      "text/plain": [
       "{'trainer': {'framework': 'torch',\n",
       "  'num_workers': 1,\n",
       "  'gamma': 0.99,\n",
       "  'num_gpus': 1.0,\n",
       "  'kl_coeff': 1.0,\n",
       "  'clip_param': 0.2,\n",
       "  'model': {'fcnet_hiddens': ['300 300']},\n",
       "  'num_envs_per_worker': 1,\n",
       "  'train_batch_size': 100000,\n",
       "  'sgd_minibatch_size': 4096,\n",
       "  'batch_mode': 'truncate_episodes',\n",
       "  'lr': 0.0003},\n",
       " 'env': {'scan_range': 10.0,\n",
       "  'max_v': 12.0,\n",
       "  'n_cps': 200,\n",
       "  'cp_reward': 0.1,\n",
       "  'min_cp_dist': 3.0,\n",
       "  'maps_path': './maps',\n",
       "  'train_map_name': 'SILVERSTONE_TRAIN',\n",
       "  'safe_padding': 0.3,\n",
       "  'laps': 1.0,\n",
       "  'return_cp_dist': 3.0,\n",
       "  'num_cp_to_consider_return': 5,\n",
       "  'in_padding_punish': 0.05}}"
      ]
     },
     "execution_count": 2,
     "metadata": {},
     "output_type": "execute_result"
    }
   ],
   "source": [
    "config"
   ]
  },
  {
   "cell_type": "code",
   "execution_count": 21,
   "id": "067ad50b",
   "metadata": {},
   "outputs": [],
   "source": [
    "cf = {'framework':'torch', 'num_workers': 2, 'num_gpus': 1.0, 'num_envs_per_worker': 1,\n",
    "         'model': {'fcnet_hiddens': [300, 300]}\n",
    "     }"
   ]
  },
  {
   "cell_type": "code",
   "execution_count": 22,
   "id": "2d469c62",
   "metadata": {},
   "outputs": [
    {
     "name": "stderr",
     "output_type": "stream",
     "text": [
      "2022-04-15 17:49:14,202\tWARNING util.py:55 -- Install gputil for GPU system monitoring.\n",
      "\u001b[2m\u001b[36m(RolloutWorker pid=20046)\u001b[0m 2022-04-15 17:49:14,169\tWARNING deprecation.py:45 -- DeprecationWarning: `rllib.env.remote_vector_env.RemoteVectorEnv` has been deprecated. Use `ray.rllib.env.remote_base_env.RemoteBaseEnv` instead. This will raise an error in the future!\n",
      "\u001b[2m\u001b[36m(RolloutWorker pid=20045)\u001b[0m 2022-04-15 17:49:14,171\tWARNING deprecation.py:45 -- DeprecationWarning: `rllib.env.remote_vector_env.RemoteVectorEnv` has been deprecated. Use `ray.rllib.env.remote_base_env.RemoteBaseEnv` instead. This will raise an error in the future!\n"
     ]
    }
   ],
   "source": [
    "trainer = ppo.PPOTrainer(env=F110RaceEnv, config=cf)"
   ]
  },
  {
   "cell_type": "code",
   "execution_count": 8,
   "id": "d21f4c71",
   "metadata": {},
   "outputs": [
    {
     "data": {
      "text/plain": [
       "[<matplotlib.lines.Line2D at 0x2ae7227be160>]"
      ]
     },
     "execution_count": 8,
     "metadata": {},
     "output_type": "execute_result"
    },
    {
     "data": {
      "image/png": "[encoded data removed]",
      "text/plain": [
       "<Figure size 432x288 with 1 Axes>"
      ]
     },
     "metadata": {
      "needs_background": "light"
     },
     "output_type": "display_data"
    }
   ],
   "source": [
    "import pickle\n",
    "import matplotlib.pyplot as plt\n",
    "\n",
    "with open('checkpoints/sim_v1.0_r', 'rb') as f:\n",
    "    r = pickle.load(f)\n",
    "    \n",
    "plt.plot(r)"
   ]
  },
  {
   "cell_type": "code",
   "execution_count": null,
   "id": "6065fe2d",
   "metadata": {},
   "outputs": [],
   "source": []
  }
 ],
 "metadata": {
  "kernelspec": {
   "display_name": "Python 3 (ipykernel)",
   "language": "python",
   "name": "python3"
  },
  "language_info": {
   "codemirror_mode": {
    "name": "ipython",
    "version": 3
   },
   "file_extension": ".py",
   "mimetype": "text/x-python",
   "name": "python",
   "nbconvert_exporter": "python",
   "pygments_lexer": "ipython3",
   "version": "3.8.12"
  },
  "toc": {
   "base_numbering": 1,
   "nav_menu": {},
   "number_sections": true,
   "sideBar": true,
   "skip_h1_title": false,
   "title_cell": "Table of Contents",
   "title_sidebar": "Contents",
   "toc_cell": false,
   "toc_position": {},
   "toc_section_display": true,
   "toc_window_display": false
  }
 },
 "nbformat": 4,
 "nbformat_minor": 5
}
